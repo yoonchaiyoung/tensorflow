{
 "cells": [
  {
   "cell_type": "code",
   "execution_count": 7,
   "metadata": {
    "executionInfo": {
     "elapsed": 981,
     "status": "ok",
     "timestamp": 1603260691129,
     "user": {
      "displayName": "윤채영",
      "photoUrl": "https://lh3.googleusercontent.com/a-/AOh14GgjzVSEIYGpvGvlUmbyWCmOdOr9J_OFxud0d-wW=s64",
      "userId": "05705444561123045578"
     },
     "user_tz": -540
    },
    "id": "bR-iioTcxHTu"
   },
   "outputs": [],
   "source": [
    "import tensorflow as tf"
   ]
  },
  {
   "cell_type": "code",
   "execution_count": 8,
   "metadata": {
    "colab": {
     "base_uri": "https://localhost:8080/",
     "height": 35
    },
    "executionInfo": {
     "elapsed": 1942,
     "status": "ok",
     "timestamp": 1603260692103,
     "user": {
      "displayName": "윤채영",
      "photoUrl": "https://lh3.googleusercontent.com/a-/AOh14GgjzVSEIYGpvGvlUmbyWCmOdOr9J_OFxud0d-wW=s64",
      "userId": "05705444561123045578"
     },
     "user_tz": -540
    },
    "id": "u7CnF60rxHT0",
    "outputId": "0d3fb01f-23ff-401f-dcfa-f212770ae651"
   },
   "outputs": [
    {
     "data": {
      "application/vnd.google.colaboratory.intrinsic+json": {
       "type": "string"
      },
      "text/plain": [
       "'2.3.0'"
      ]
     },
     "execution_count": 8,
     "metadata": {
      "tags": []
     },
     "output_type": "execute_result"
    }
   ],
   "source": [
    "# tensorflow version 확인\n",
    "tf.__version__"
   ]
  },
  {
   "cell_type": "markdown",
   "metadata": {
    "id": "F1TiUfsqxHT5"
   },
   "source": [
    "초기화 : 신경망의 초깃값을 지정해주는 것\n",
    "- 난수로 지정"
   ]
  },
  {
   "cell_type": "code",
   "execution_count": 9,
   "metadata": {
    "colab": {
     "base_uri": "https://localhost:8080/",
     "height": 35
    },
    "executionInfo": {
     "elapsed": 1926,
     "status": "ok",
     "timestamp": 1603260692104,
     "user": {
      "displayName": "윤채영",
      "photoUrl": "https://lh3.googleusercontent.com/a-/AOh14GgjzVSEIYGpvGvlUmbyWCmOdOr9J_OFxud0d-wW=s64",
      "userId": "05705444561123045578"
     },
     "user_tz": -540
    },
    "id": "4G6s5LGSxHT6",
    "outputId": "bfe0b43f-cd68-4889-99a8-2d6eb5f338d4"
   },
   "outputs": [
    {
     "data": {
      "text/plain": [
       "<tf.Tensor: shape=(1,), dtype=float32, numpy=array([0.18313992], dtype=float32)>"
      ]
     },
     "execution_count": 9,
     "metadata": {
      "tags": []
     },
     "output_type": "execute_result"
    }
   ],
   "source": [
    "# 3.7 균일분포로부터 난수 얻기\n",
    "rand = tf.random.uniform([1], 0, 1)\n",
    "rand\n",
    "# 출력값 : <tf.Tensor: shape=(1,), dtype=float32, numpy=array([0.40041852], dtype=float32)>\n",
    "# Tensor 라는 객체 반환\n",
    "# Tensor 참조 문서 : https://www.tensorflow.org/api_docs/python/tf/Tensor\n",
    "# shape : Numpy 배열의 크기\n",
    "# tensorflow의 data type 참조 문서 : https://www.tensorflow.org/api_docs/python/tf/dtypes/DType"
   ]
  },
  {
   "cell_type": "code",
   "execution_count": 10,
   "metadata": {
    "colab": {
     "base_uri": "https://localhost:8080/",
     "height": 107
    },
    "executionInfo": {
     "elapsed": 1912,
     "status": "ok",
     "timestamp": 1603260692105,
     "user": {
      "displayName": "윤채영",
      "photoUrl": "https://lh3.googleusercontent.com/a-/AOh14GgjzVSEIYGpvGvlUmbyWCmOdOr9J_OFxud0d-wW=s64",
      "userId": "05705444561123045578"
     },
     "user_tz": -540
    },
    "id": "Omr2wF7hxHUF",
    "outputId": "2cb48b28-b8c9-494b-819e-45a1b5848db3"
   },
   "outputs": [
    {
     "name": "stdout",
     "output_type": "stream",
     "text": [
      "tf.Tensor([0.44343983], shape=(1,), dtype=float64)\n",
      "tf.Tensor([0.02578879 0.47146708 0.69688384 0.21476839], shape=(4,), dtype=float64)\n",
      "tf.Tensor(\n",
      "[[0.05208887 0.86516589]\n",
      " [0.24584933 0.73976605]], shape=(2, 2), dtype=float64)\n"
     ]
    }
   ],
   "source": [
    "rand2 = tf.random.uniform([1], 0, 1, dtype=tf.dtypes.float64)  # 균일분포\n",
    "                                                               # dtype 지정 가능\n",
    "print(rand2)\n",
    "rand3 = tf.random.uniform([4], 0, 1, dtype=tf.dtypes.float64)\n",
    "print(rand3)\n",
    "rand4 = tf.random.uniform([2,2], 0, 1, dtype=tf.dtypes.float64)\n",
    "print(rand4)"
   ]
  },
  {
   "cell_type": "code",
   "execution_count": 11,
   "metadata": {
    "colab": {
     "base_uri": "https://localhost:8080/",
     "height": 71
    },
    "executionInfo": {
     "elapsed": 1894,
     "status": "ok",
     "timestamp": 1603260692106,
     "user": {
      "displayName": "윤채영",
      "photoUrl": "https://lh3.googleusercontent.com/a-/AOh14GgjzVSEIYGpvGvlUmbyWCmOdOr9J_OFxud0d-wW=s64",
      "userId": "05705444561123045578"
     },
     "user_tz": -540
    },
    "id": "eRhGstWvxHUJ",
    "outputId": "375068db-8d66-4160-8cce-5fcd5116054e"
   },
   "outputs": [
    {
     "name": "stdout",
     "output_type": "stream",
     "text": [
      "(1,)\n",
      "<dtype: 'float64'>\n",
      "1\n"
     ]
    }
   ],
   "source": [
    "print(rand2.shape)  # shape\n",
    "print(rand2.dtype)  # data type\n",
    "print(rand2.ndim)   # 차원"
   ]
  },
  {
   "cell_type": "code",
   "execution_count": 12,
   "metadata": {
    "colab": {
     "base_uri": "https://localhost:8080/",
     "height": 71
    },
    "executionInfo": {
     "elapsed": 1875,
     "status": "ok",
     "timestamp": 1603260692107,
     "user": {
      "displayName": "윤채영",
      "photoUrl": "https://lh3.googleusercontent.com/a-/AOh14GgjzVSEIYGpvGvlUmbyWCmOdOr9J_OFxud0d-wW=s64",
      "userId": "05705444561123045578"
     },
     "user_tz": -540
    },
    "id": "XJspkPP-xHVJ",
    "outputId": "0565a873-7836-4a16-b565-eb215bca23bb"
   },
   "outputs": [
    {
     "data": {
      "text/plain": [
       "<tf.Tensor: shape=(2, 2), dtype=float32, numpy=\n",
       "array([[-1.2424449, -1.5507039],\n",
       "       [ 1.234527 ,  1.0277121]], dtype=float32)>"
      ]
     },
     "execution_count": 12,
     "metadata": {
      "tags": []
     },
     "output_type": "execute_result"
    }
   ],
   "source": [
    "# 정규분포로부터 난수 추출\n",
    "rand = tf.random.normal([2,2], 0, 1)\n",
    "rand"
   ]
  },
  {
   "cell_type": "code",
   "execution_count": 13,
   "metadata": {
    "colab": {
     "base_uri": "https://localhost:8080/",
     "height": 35
    },
    "executionInfo": {
     "elapsed": 1862,
     "status": "ok",
     "timestamp": 1603260692108,
     "user": {
      "displayName": "윤채영",
      "photoUrl": "https://lh3.googleusercontent.com/a-/AOh14GgjzVSEIYGpvGvlUmbyWCmOdOr9J_OFxud0d-wW=s64",
      "userId": "05705444561123045578"
     },
     "user_tz": -540
    },
    "id": "-pI3n4bqxHVM",
    "outputId": "8a64154c-e091-4cdd-fcf5-379a852ffb67"
   },
   "outputs": [
    {
     "data": {
      "text/plain": [
       "<tf.Tensor: shape=(4,), dtype=float32, numpy=array([11.256548,  8.181556, 10.599957,  9.380797], dtype=float32)>"
      ]
     },
     "execution_count": 13,
     "metadata": {
      "tags": []
     },
     "output_type": "execute_result"
    }
   ],
   "source": [
    "rand2 = tf.random.normal([4], 10, 2)\n",
    "rand2"
   ]
  },
  {
   "cell_type": "code",
   "execution_count": 14,
   "metadata": {
    "executionInfo": {
     "elapsed": 1851,
     "status": "ok",
     "timestamp": 1603260692111,
     "user": {
      "displayName": "윤채영",
      "photoUrl": "https://lh3.googleusercontent.com/a-/AOh14GgjzVSEIYGpvGvlUmbyWCmOdOr9J_OFxud0d-wW=s64",
      "userId": "05705444561123045578"
     },
     "user_tz": -540
    },
    "id": "T2wdZ0pzxHVQ"
   },
   "outputs": [],
   "source": [
    "# 활성화함수 sigmoid 정의\n",
    "import math\n",
    "def sigmoid(x):\n",
    "    return 1 / (1 + math.exp(-x))"
   ]
  },
  {
   "cell_type": "code",
   "execution_count": 15,
   "metadata": {
    "colab": {
     "base_uri": "https://localhost:8080/",
     "height": 53
    },
    "executionInfo": {
     "elapsed": 1839,
     "status": "ok",
     "timestamp": 1603260692112,
     "user": {
      "displayName": "윤채영",
      "photoUrl": "https://lh3.googleusercontent.com/a-/AOh14GgjzVSEIYGpvGvlUmbyWCmOdOr9J_OFxud0d-wW=s64",
      "userId": "05705444561123045578"
     },
     "user_tz": -540
    },
    "id": "SD7ZyLQCxHVT",
    "outputId": "b17332ba-f25c-41da-d069-0e93efdea9ab"
   },
   "outputs": [
    {
     "name": "stdout",
     "output_type": "stream",
     "text": [
      "0.6930710784876574\n",
      "-0.6930710784876574\n"
     ]
    }
   ],
   "source": [
    "# 3.11 뉴런의 입력과 출력 정의\n",
    "x = 1  # 입력\n",
    "y = 0  # 기대출력\n",
    "w = tf.random.normal([1], 0, 1)  # 입력의 가중치\n",
    "output = sigmoid(x * w)\n",
    "print(output)  # 출력\n",
    "print(y - output)  # 오류 = 기대출력 - 출력"
   ]
  },
  {
   "cell_type": "code",
   "execution_count": 16,
   "metadata": {
    "colab": {
     "base_uri": "https://localhost:8080/",
     "height": 197
    },
    "executionInfo": {
     "elapsed": 2140,
     "status": "ok",
     "timestamp": 1603260692430,
     "user": {
      "displayName": "윤채영",
      "photoUrl": "https://lh3.googleusercontent.com/a-/AOh14GgjzVSEIYGpvGvlUmbyWCmOdOr9J_OFxud0d-wW=s64",
      "userId": "05705444561123045578"
     },
     "user_tz": -540
    },
    "id": "1JKQFQiJxHVW",
    "outputId": "6ad45426-33f7-414f-d48f-7292bf693bd1"
   },
   "outputs": [
    {
     "name": "stdout",
     "output_type": "stream",
     "text": [
      "99번째 학습, 오차: -0.10855285601430224, 출력값: 0.10855285601430224\n",
      "199번째 학습, 오차: -0.05408052170831041, 출력값: 0.05408052170831041\n",
      "299번째 학습, 오차: -0.03561897172082667, 출력값: 0.03561897172082667\n",
      "399번째 학습, 오차: -0.026466665416852983, 출력값: 0.026466665416852983\n",
      "499번째 학습, 오차: -0.021026394806077698, 출력값: 0.021026394806077698\n",
      "599번째 학습, 오차: -0.01742848319094497, 출력값: 0.01742848319094497\n",
      "699번째 학습, 오차: -0.01487559337440594, 출력값: 0.01487559337440594\n",
      "799번째 학습, 오차: -0.012971491406179505, 출력값: 0.012971491406179505\n",
      "899번째 학습, 오차: -0.01149743003763046, 출력값: 0.01149743003763046\n",
      "999번째 학습, 오차: -0.010322860716481055, 출력값: 0.010322860716481055\n"
     ]
    }
   ],
   "source": [
    "# 3.12 경사하강법을 이용한 뉴런의 학습\n",
    "x = 1\n",
    "y = 0\n",
    "w = tf.random.normal([1], 0, 1)\n",
    "\n",
    "for i in range(1000):\n",
    "    output = sigmoid(x * w)\n",
    "    error = y - output  # 오류 = 기대출력 - 출력\n",
    "    w = w + x * 0.1 * error  # 학습률=0.1 : 가중치(w)를 업데이트하는 정도\n",
    "    \n",
    "    if i % 100 == 99:\n",
    "        print(f\"{i}번째 학습, 오차: {error}, 출력값: {output}\")\n",
    "# 0.12에서 0.01까지 내려감\n",
    "# 예측출력 0에 가까워짐"
   ]
  },
  {
   "cell_type": "code",
   "execution_count": 17,
   "metadata": {
    "colab": {
     "base_uri": "https://localhost:8080/",
     "height": 197
    },
    "executionInfo": {
     "elapsed": 2578,
     "status": "ok",
     "timestamp": 1603260692878,
     "user": {
      "displayName": "윤채영",
      "photoUrl": "https://lh3.googleusercontent.com/a-/AOh14GgjzVSEIYGpvGvlUmbyWCmOdOr9J_OFxud0d-wW=s64",
      "userId": "05705444561123045578"
     },
     "user_tz": -540
    },
    "id": "PrKXohRsxHVZ",
    "outputId": "104e8636-1465-44c3-eb56-1a8f1c77ffda"
   },
   "outputs": [
    {
     "name": "stdout",
     "output_type": "stream",
     "text": [
      "99번째 학습, 오차: 0.5, 출력값: 0.5\n",
      "199번째 학습, 오차: 0.5, 출력값: 0.5\n",
      "299번째 학습, 오차: 0.5, 출력값: 0.5\n",
      "399번째 학습, 오차: 0.5, 출력값: 0.5\n",
      "499번째 학습, 오차: 0.5, 출력값: 0.5\n",
      "599번째 학습, 오차: 0.5, 출력값: 0.5\n",
      "699번째 학습, 오차: 0.5, 출력값: 0.5\n",
      "799번째 학습, 오차: 0.5, 출력값: 0.5\n",
      "899번째 학습, 오차: 0.5, 출력값: 0.5\n",
      "999번째 학습, 오차: 0.5, 출력값: 0.5\n"
     ]
    }
   ],
   "source": [
    "# 3.13 x=0, y=1을 얻는 뉴런의 학습\n",
    "x = 0\n",
    "y = 1\n",
    "w = tf.random.normal([1], 0, 1)\n",
    "\n",
    "for i in range(1000):\n",
    "    output = sigmoid(x * w)\n",
    "    error = y - output\n",
    "    w = w + x * 0.1 * error\n",
    "    \n",
    "    if i % 100 == 99:\n",
    "        print(f\"{i}번째 학습, 오차: {error}, 출력값: {output}\")\n",
    "\n",
    "# 오차, 출력값 변하지 않음\n",
    "# 이유? 입력값(x)=0 > w 변화 없음\n",
    "\n",
    "# 이러한 상황을 방지하기 위해 편향(bias)를 뉴런에 넣어주자\n",
    "# 편향의 입력 : 보편적으로 1 사용"
   ]
  },
  {
   "cell_type": "code",
   "execution_count": 18,
   "metadata": {
    "colab": {
     "base_uri": "https://localhost:8080/",
     "height": 197
    },
    "executionInfo": {
     "elapsed": 3263,
     "status": "ok",
     "timestamp": 1603260693577,
     "user": {
      "displayName": "윤채영",
      "photoUrl": "https://lh3.googleusercontent.com/a-/AOh14GgjzVSEIYGpvGvlUmbyWCmOdOr9J_OFxud0d-wW=s64",
      "userId": "05705444561123045578"
     },
     "user_tz": -540
    },
    "id": "djZwFRo0xHVc",
    "outputId": "1cd4a9c7-fa73-4472-f5b6-29cef3a189ab"
   },
   "outputs": [
    {
     "name": "stdout",
     "output_type": "stream",
     "text": [
      "99 0.11421022819772952 0.8857897718022705\n",
      "199 0.055534743996351166 0.9444652560036488\n",
      "299 0.036256227282553954 0.963743772717446\n",
      "399 0.026820169447922426 0.9731798305520776\n",
      "499 0.021250144088872047 0.978749855911128\n",
      "599 0.01758249149558333 0.9824175085044167\n",
      "699 0.014987875043230847 0.9850121249567692\n",
      "799 0.013056945723875946 0.986943054276124\n",
      "899 0.011564612094019155 0.9884353879059808\n",
      "999 0.01037703570138393 0.9896229642986161\n"
     ]
    }
   ],
   "source": [
    "# 3.14. x = 0, y = 0, 편향 추가\n",
    "x = 0\n",
    "y = 1\n",
    "w = tf.random.normal([1], 0, 1)\n",
    "b = tf.random.normal([1], 0, 1)  # bias(편향) 추가\n",
    "\n",
    "for i in range(1000):\n",
    "    output = sigmoid(x * w + 1 * b)  # 편향의 입력으로는 보통 1 사용\n",
    "    error = y - output\n",
    "    w = w + x * 0.1 * error\n",
    "    b = b + 1 * 0.1 * error\n",
    "    \n",
    "    if i % 100 == 99:\n",
    "        print(i, error, output)\n",
    "# 0.89에서 0.99까지 올라감\n",
    "# 예측출력 1에 가까워짐"
   ]
  },
  {
   "cell_type": "code",
   "execution_count": 19,
   "metadata": {
    "colab": {
     "base_uri": "https://localhost:8080/",
     "height": 197
    },
    "executionInfo": {
     "elapsed": 12863,
     "status": "ok",
     "timestamp": 1603260703193,
     "user": {
      "displayName": "윤채영",
      "photoUrl": "https://lh3.googleusercontent.com/a-/AOh14GgjzVSEIYGpvGvlUmbyWCmOdOr9J_OFxud0d-wW=s64",
      "userId": "05705444561123045578"
     },
     "user_tz": -540
    },
    "id": "cc2cjTNJxHVf",
    "outputId": "2756456e-afc5-476f-a7cb-2bf7500ae7fa"
   },
   "outputs": [
    {
     "name": "stdout",
     "output_type": "stream",
     "text": [
      "199 -0.10609046088040164\n",
      "399 -0.06419530883155729\n",
      "599 -0.0458986379469415\n",
      "799 -0.035617741409922264\n",
      "999 -0.029047037923285328\n",
      "1199 -0.024495815014537868\n",
      "1399 -0.021162456300897567\n",
      "1599 -0.01861782096781188\n",
      "1799 -0.016613004212713833\n",
      "1999 -0.014993456182263167\n"
     ]
    }
   ],
   "source": [
    "# 3.16 첫 번째 신경망 네트워크 : AND\n",
    "import numpy as np\n",
    "x = np.array([   # 입력값\n",
    "    [1, 1],\n",
    "    [1, 0],\n",
    "    [0, 1],\n",
    "    [0, 0]\n",
    "])\n",
    "y = np.array([   # 기대출력\n",
    "    [1],\n",
    "    [0],\n",
    "    [0],\n",
    "    [0] \n",
    "])\n",
    "w = tf.random.normal([2], 0, 1)  # 입력값의 가중치\n",
    "                                 # 입력1, 입력2 -> 2개니까 가중치도 각각해서 총 2개\n",
    "b = tf.random.normal([1], 0, 1)  # 편향(bias)\n",
    "b_x = 1                          # 편향의 입력값\n",
    "alpha = 0.1                      # 학습률\n",
    "\n",
    "for i in range(2000):  # 학습수 : 2000번\n",
    "    error_sum = 0\n",
    "    for j in range(4): # 한 번 학습할 때마다 데이터 4개를 입력하니까\n",
    "        output =  sigmoid(np.sum(x[j] * w) + b_x * b)  # 입력값 * 가중치를 다 더함\n",
    "                                                       # 데이터 4개 + 편향 전체의 (입력값 * 가중치)의 합\n",
    "                                                       # 참고) numpy의 ndarray는 *할 때 shape에 맞게 알아서 조절이 된다.\n",
    "        error = y[j][0] - output  # 오차값 = 기대출력 - 출력\n",
    "        \n",
    "        # 경사하강법에 의한 가중치, 편향의 조정\n",
    "        w = w + x[j] * alpha * error\n",
    "        b = b + b_x * alpha * error\n",
    "        error_sum += error                             # 데이터별로 error 나오니까 데이터 4개의 에러총 합이 학습 1번할때마다의 오류\n",
    "    if i % 200 == 199:\n",
    "        print(i, error_sum)\n",
    "# print(x[0])  # [1 1]\n",
    "# print(x[1])  # [1 0]\n",
    "# print(x[2])  # [0 1]\n",
    "# print(x[3])  # [0 0]\n",
    "# print(w)  # 만약 [1.02~ 0.85~] 라면\n",
    "# print(x[0] * w)  # [1 1] * [1.02~ 0.85~] = [1.02~ 0.85~]\n",
    "# print(x[1] * w)  # [1 0] * [1.02~ 0.85~] = [1.02~ 0.]\n",
    "# print(x[0] * w + x[1] * w + x[2] * w + x[3] * w + b_x * b)  # 각각의 입력값 * 가중치를 다 더한게 output. 출력값."
   ]
  },
  {
   "cell_type": "code",
   "execution_count": 20,
   "metadata": {
    "colab": {
     "base_uri": "https://localhost:8080/",
     "height": 89
    },
    "executionInfo": {
     "elapsed": 12850,
     "status": "ok",
     "timestamp": 1603260703194,
     "user": {
      "displayName": "윤채영",
      "photoUrl": "https://lh3.googleusercontent.com/a-/AOh14GgjzVSEIYGpvGvlUmbyWCmOdOr9J_OFxud0d-wW=s64",
      "userId": "05705444561123045578"
     },
     "user_tz": -540
    },
    "id": "BnAL4usRxHVi",
    "outputId": "60dbe311-9bf0-4748-8311-95716d3e16f6"
   },
   "outputs": [
    {
     "name": "stdout",
     "output_type": "stream",
     "text": [
      "X: [1 1] Y: [1] Output: 0.9649963617532644\n",
      "X: [1 0] Y: [0] Output: 0.02480571441896819\n",
      "X: [0 1] Y: [0] Output: 0.024881218136298837\n",
      "X: [0 0] Y: [0] Output: 2.3542468359506058e-05\n"
     ]
    }
   ],
   "source": [
    "# AND 신경망 네트워크 평가\n",
    "# 학습 2000번 시킨 후의 결과로 평가\n",
    "# 학습시킨 네트워크가 정상적으로 작동하는지 평가\n",
    "# 네트워크에 각각의 입력값(x)들을 넣었을 때 실제출력(output)이 기대출력(y)값에 얼마나 가까운지 확인\n",
    "for i in range(4):\n",
    "    print(\"X:\", x[i], \"Y:\", y[i], \"Output:\", sigmoid(np.sum(x[i] * w) + b_x * b))\n",
    "# 출력값을 보면 각각의 기대출력인 1, 0, 0, 0값에 가깝게 나온다는 것을 확인할 수 있다."
   ]
  },
  {
   "cell_type": "code",
   "execution_count": 21,
   "metadata": {
    "colab": {
     "base_uri": "https://localhost:8080/",
     "height": 197
    },
    "executionInfo": {
     "elapsed": 22468,
     "status": "ok",
     "timestamp": 1603260712822,
     "user": {
      "displayName": "윤채영",
      "photoUrl": "https://lh3.googleusercontent.com/a-/AOh14GgjzVSEIYGpvGvlUmbyWCmOdOr9J_OFxud0d-wW=s64",
      "userId": "05705444561123045578"
     },
     "user_tz": -540
    },
    "id": "U-kyfytyxHVk",
    "outputId": "f6472d7f-ea51-49ec-8bc1-fbe22b44e5e2"
   },
   "outputs": [
    {
     "name": "stdout",
     "output_type": "stream",
     "text": [
      "199 -0.04903632673831099\n",
      "399 -0.02574242386561268\n",
      "599 -0.017336325403456254\n",
      "799 -0.013023075032773904\n",
      "999 -0.010409342437150505\n",
      "1199 -0.00866045463028961\n",
      "1399 -0.007410180875366143\n",
      "1599 -0.006472294984566432\n",
      "1799 -0.00574389078462461\n",
      "1999 -0.0051604842672645646\n"
     ]
    }
   ],
   "source": [
    "# 3.21 두 번째 신경망 네트워크 : OR\n",
    "# AND 네트워크와의 차이점 : 기대출력(y)\n",
    "x = np.array([\n",
    "    [1, 1],\n",
    "    [1, 0],\n",
    "    [0, 1],\n",
    "    [0, 0]\n",
    "])\n",
    "y = np.array([\n",
    "    [1],\n",
    "    [1],\n",
    "    [1],\n",
    "    [0]\n",
    "])\n",
    "w = tf.random.normal([2], 0, 1)\n",
    "b = tf.random.normal([1], 0, 1)\n",
    "b_x = 1\n",
    "alpha = 0.1\n",
    "\n",
    "for i in range(2000):\n",
    "    error_sum = 0\n",
    "    for j in range(4):\n",
    "        output = sigmoid(np.sum(x[j] * w) + b_x * b)\n",
    "        error = y[j][0] - output\n",
    "        \n",
    "        # 경사하강법에 의한 가중치, 편향의 조정\n",
    "        w = w + x[j] * alpha * error\n",
    "        b = b + b_x * alpha * error\n",
    "        \n",
    "        error_sum += error\n",
    "    if i % 200 == 199:\n",
    "        print(i, error_sum)"
   ]
  },
  {
   "cell_type": "code",
   "execution_count": 22,
   "metadata": {
    "colab": {
     "base_uri": "https://localhost:8080/",
     "height": 89
    },
    "executionInfo": {
     "elapsed": 22454,
     "status": "ok",
     "timestamp": 1603260712824,
     "user": {
      "displayName": "윤채영",
      "photoUrl": "https://lh3.googleusercontent.com/a-/AOh14GgjzVSEIYGpvGvlUmbyWCmOdOr9J_OFxud0d-wW=s64",
      "userId": "05705444561123045578"
     },
     "user_tz": -540
    },
    "id": "2M9FNeIMxHVn",
    "outputId": "6bd6e1c8-a8ec-4ad9-a3af-b52d5cdbc908"
   },
   "outputs": [
    {
     "name": "stdout",
     "output_type": "stream",
     "text": [
      "X: [1 1] Y: [1] Output: 0.9999971876906583\n",
      "X: [1 0] Y: [1] Output: 0.9897708383745678\n",
      "X: [0 1] Y: [1] Output: 0.9897427800984232\n",
      "X: [0 0] Y: [0] Output: 0.02558557018258127\n"
     ]
    }
   ],
   "source": [
    "# OR 신경망 네트워크 평가\n",
    "# 학습 2000번 시킨 후의 결과로 평가\n",
    "for i in range(4):\n",
    "    print(\"X:\", x[i], \"Y:\", y[i], \"Output:\", sigmoid(np.sum(x[i] * w) + b_x * b))\n",
    "# 출력값을 보면 각각의 기대출력인 1, 1, 1, 0에 가까운 실제출력값이 나온다는 것 확인 가능"
   ]
  },
  {
   "cell_type": "code",
   "execution_count": 23,
   "metadata": {
    "colab": {
     "base_uri": "https://localhost:8080/",
     "height": 197
    },
    "executionInfo": {
     "elapsed": 30905,
     "status": "ok",
     "timestamp": 1603260721283,
     "user": {
      "displayName": "윤채영",
      "photoUrl": "https://lh3.googleusercontent.com/a-/AOh14GgjzVSEIYGpvGvlUmbyWCmOdOr9J_OFxud0d-wW=s64",
      "userId": "05705444561123045578"
     },
     "user_tz": -540
    },
    "id": "W51B7JPAxHVp",
    "outputId": "dd2efe4d-03c4-4292-8675-8706862abd90"
   },
   "outputs": [
    {
     "name": "stdout",
     "output_type": "stream",
     "text": [
      "199 -0.0027889992021080667\n",
      "399 -0.00011339442642666064\n",
      "599 -4.607013189716902e-06\n",
      "799 -1.8614210139933363e-07\n",
      "999 5.584263274016621e-09\n",
      "1199 3.722842145670313e-09\n",
      "1399 3.722842145670313e-09\n",
      "1599 3.722842145670313e-09\n",
      "1799 3.722842145670313e-09\n",
      "1999 3.722842145670313e-09\n"
     ]
    }
   ],
   "source": [
    "# 3.23 세 번째 신경망 네트워크 : XOR\n",
    "# XOR : 입력값들 중 참이 홀수개일 때만 -> 결과값 : 참\n",
    "# AND, OR 신경망과의 차이점 : 기대출력(y)\n",
    "x = np.array([\n",
    "    [1, 1],\n",
    "    [1, 0],\n",
    "    [0, 1],\n",
    "    [0, 0]\n",
    "])\n",
    "y = np.array([\n",
    "    [0],\n",
    "    [1],\n",
    "    [1],\n",
    "    [0]\n",
    "])\n",
    "w = tf.random.normal([2], 0, 1)\n",
    "b = tf.random.normal([1], 0, 1)\n",
    "b_x = 1\n",
    "alpha = 0.1\n",
    "\n",
    "for i in range(2000):\n",
    "    error_sum = 0\n",
    "    for j in range(4):\n",
    "        output = sigmoid(np.sum(x[j] * w) + b_x * b)\n",
    "        error = y[j][0] - output\n",
    "        \n",
    "        w = w + x[j] * alpha * error\n",
    "        b = b + b_x * alpha * error\n",
    "        \n",
    "        error_sum += error\n",
    "    \n",
    "    if i % 200 == 199:\n",
    "        print(i, error_sum)\n",
    "\n",
    "# AND, OR 신경망 네트워크와는 다르게\n",
    "# 어느순간 error_sum 이 변화하지 않는다."
   ]
  },
  {
   "cell_type": "code",
   "execution_count": 24,
   "metadata": {
    "colab": {
     "base_uri": "https://localhost:8080/",
     "height": 89
    },
    "executionInfo": {
     "elapsed": 30888,
     "status": "ok",
     "timestamp": 1603260721284,
     "user": {
      "displayName": "윤채영",
      "photoUrl": "https://lh3.googleusercontent.com/a-/AOh14GgjzVSEIYGpvGvlUmbyWCmOdOr9J_OFxud0d-wW=s64",
      "userId": "05705444561123045578"
     },
     "user_tz": -540
    },
    "id": "jCbrLVOIxHVr",
    "outputId": "2f0a9d52-ed49-4ccb-9b4d-7cba1272067d"
   },
   "outputs": [
    {
     "name": "stdout",
     "output_type": "stream",
     "text": [
      "X: [1 1] Y: [0] Output: 0.5128176286712095\n",
      "X: [1 0] Y: [1] Output: 0.5128176305326305\n",
      "X: [0 1] Y: [1] Output: 0.4999999990686774\n",
      "X: [0 0] Y: [0] Output: 0.5000000009313226\n"
     ]
    }
   ],
   "source": [
    "# 3.24 XOR 신경망 네트워크 평가\n",
    "# 학습 2000번 시킨 후의 결과로 평가\n",
    "for i in range(4):\n",
    "    print(\"X:\", x[i], \"Y:\", y[i], \"Output:\", sigmoid(np.sum(x[i] * w) + b_x * b))\n",
    "# 출력값을 보면 각각의 기대출력인 0, 1, 1, 0과 차이가 좀 있음..\n",
    "# 입력값(x)이 변화하였는데도\n",
    "# 실제출력값(output)은 0.5부근의 값을 보인다.\n",
    "# 그 이유에 대해 알아보자."
   ]
  },
  {
   "cell_type": "code",
   "execution_count": 25,
   "metadata": {
    "colab": {
     "base_uri": "https://localhost:8080/",
     "height": 35
    },
    "executionInfo": {
     "elapsed": 30871,
     "status": "ok",
     "timestamp": 1603260721285,
     "user": {
      "displayName": "윤채영",
      "photoUrl": "https://lh3.googleusercontent.com/a-/AOh14GgjzVSEIYGpvGvlUmbyWCmOdOr9J_OFxud0d-wW=s64",
      "userId": "05705444561123045578"
     },
     "user_tz": -540
    },
    "id": "-waVBZTGxHVu",
    "outputId": "30e486da-a994-4f12-8b9c-8544afd40df5"
   },
   "outputs": [
    {
     "name": "stdout",
     "output_type": "stream",
     "text": [
      "w: tf.Tensor([ 5.1281754e-02 -7.4505806e-09], shape=(2,), dtype=float32) b: tf.Tensor([3.7252903e-09], shape=(1,), dtype=float32)\n"
     ]
    }
   ],
   "source": [
    "# 3.25 XOR 신경망 네트워크의 가중치들(w, b) 확인\n",
    "print(\"w:\", w, \"b:\", b)\n",
    "# 출력값 :\n",
    "# w: tf.Tensor([5.1281769e-02 3.7252903e-09], shape=(2,), dtype=float32) b: tf.Tensor([-7.450581e-09], shape=(1,), dtype=float32)\n",
    "# 가중치1 : 0.05\n",
    "# 가중치2 : 0.000000003\n",
    "# 편향 : -0.00000007\n",
    "# 입력1이 입력2보다 큰 영향을 끼친다.\n",
    "# 가중치1이 제일 영향이 크다.\n",
    "# 가중치2, 편향은 거의 영향이 없다.\n",
    "# 따라서 기대출력(y)과 실제출력(output) 사이의 차이가 크게 나오는 것이다."
   ]
  },
  {
   "cell_type": "code",
   "execution_count": 26,
   "metadata": {
    "colab": {
     "base_uri": "https://localhost:8080/",
     "height": 89
    },
    "executionInfo": {
     "elapsed": 30851,
     "status": "ok",
     "timestamp": 1603260721286,
     "user": {
      "displayName": "윤채영",
      "photoUrl": "https://lh3.googleusercontent.com/a-/AOh14GgjzVSEIYGpvGvlUmbyWCmOdOr9J_OFxud0d-wW=s64",
      "userId": "05705444561123045578"
     },
     "user_tz": -540
    },
    "id": "eN-ESR5jxHVw",
    "outputId": "334d4d35-ae4c-4e1e-f748-eb381f0cd1cb"
   },
   "outputs": [
    {
     "name": "stdout",
     "output_type": "stream",
     "text": [
      "X: [1 1] y: [0] 중간계산값: tf.Tensor([0.05128175], shape=(1,), dtype=float32) 출력값(sigmoid(중간계산값)): 0.5128176286712095\n",
      "X: [1 0] y: [1] 중간계산값: tf.Tensor([0.05128176], shape=(1,), dtype=float32) 출력값(sigmoid(중간계산값)): 0.5128176305326305\n",
      "X: [0 1] y: [1] 중간계산값: tf.Tensor([-3.7252903e-09], shape=(1,), dtype=float32) 출력값(sigmoid(중간계산값)): 0.4999999990686774\n",
      "X: [0 0] y: [0] 중간계산값: tf.Tensor([3.7252903e-09], shape=(1,), dtype=float32) 출력값(sigmoid(중간계산값)): 0.5000000009313226\n"
     ]
    }
   ],
   "source": [
    "# sigmoid 활성화 함수에 넣기 전, 중간계산값(입력값*가중치의 총합)과\n",
    "# sigmoid 활성화 함수에 넣은 후 비교\n",
    "for i in range(4):\n",
    "    print(\"X:\", x[i], \"y:\", y[i], \"중간계산값:\", np.sum(x[i]*w) + b_x * b, \"출력값(sigmoid(중간계산값)):\", sigmoid(np.sum(x[i]*w) + b_x * b))\n",
    "    \n",
    "# sigmoid 활성화 함수에 넣기전, 중간계산값이\n",
    "# 점점 0에 가까워진다.\n",
    "# 앞에서 0에 가까워지게 치우쳐지면 \n",
    "\n",
    "# x = 0 -> w값 변화 없음\n",
    "# 뉴런이 학습을 하지 못함.\n",
    "# 한쪽으로 치우쳐진 상황임\n",
    "\n",
    "# 이런 상황인것을 봤었다.\n",
    "# 따라서 입력1에 따라 중간계산값에는 차이가 발생할 수 있지만\n",
    "# 출력값(y)에는 별 차이가 없어진 것을 알 수 있다.\n",
    "\n",
    "# 이렇게 가중치, 편향이 미치는 영향에 대해 더 자세히 알아보자."
   ]
  },
  {
   "cell_type": "code",
   "execution_count": 27,
   "metadata": {
    "colab": {
     "base_uri": "https://localhost:8080/",
     "height": 35
    },
    "executionInfo": {
     "elapsed": 40584,
     "status": "ok",
     "timestamp": 1603260731031,
     "user": {
      "displayName": "윤채영",
      "photoUrl": "https://lh3.googleusercontent.com/a-/AOh14GgjzVSEIYGpvGvlUmbyWCmOdOr9J_OFxud0d-wW=s64",
      "userId": "05705444561123045578"
     },
     "user_tz": -540
    },
    "id": "A0nwfPX0xHVz",
    "outputId": "a8ea2396-871e-4736-ea79-848c1405bdd8"
   },
   "outputs": [
    {
     "name": "stdout",
     "output_type": "stream",
     "text": [
      "w: tf.Tensor([6.9879913 6.9911065], shape=(2,), dtype=float32) b: tf.Tensor([-10.660971], shape=(1,), dtype=float32)\n"
     ]
    }
   ],
   "source": [
    "# 앞의 AND 신경망 네트워크의 가중치, 편향을 봐보자.\n",
    "import numpy as np\n",
    "x = np.array([   # 입력값\n",
    "    [1, 1],\n",
    "    [1, 0],\n",
    "    [0, 1],\n",
    "    [0, 0]\n",
    "])\n",
    "y = np.array([   # 기대출력\n",
    "    [1],\n",
    "    [0],\n",
    "    [0],\n",
    "    [0] \n",
    "])\n",
    "w = tf.random.normal([2], 0, 1)  # 입력값의 가중치\n",
    "                                 # 입력1, 입력2 -> 2개니까 가중치도 각각해서 총 2개\n",
    "b = tf.random.normal([1], 0, 1)  # 편향(bias)\n",
    "b_x = 1                          # 편향의 입력값\n",
    "alpha = 0.1                      # 학습률\n",
    "\n",
    "for i in range(2000):  # 학습수 : 2000번\n",
    "    error_sum = 0\n",
    "    for j in range(4): # 한 번 학습할 때마다 데이터 4개를 입력하니까\n",
    "        output =  sigmoid(np.sum(x[j] * w) + b_x * b)  # 입력값 * 가중치를 다 더함\n",
    "                                                       # 데이터 4개 + 편향 전체의 (입력값 * 가중치)의 합\n",
    "                                                       # 참고) numpy의 ndarray는 *할 때 shape에 맞게 알아서 조절이 된다.\n",
    "        error = y[j][0] - output  # 오차값 = 기대출력 - 출력\n",
    "        \n",
    "        # 경사하강법에 의한 가중치, 편향의 조정\n",
    "        w = w + x[j] * alpha * error\n",
    "        b = b + b_x * alpha * error\n",
    "        error_sum += error                             # 데이터별로 error 나오니까 데이터 4개의 에러총 합이 학습 1번할때마다의 오류\n",
    "\n",
    "print(\"w:\", w, \"b:\", b)\n",
    "\n",
    "# AND 신경망 네트워크의 가중치, 편향을 보면\n",
    "# 가중치1 : 6.95\n",
    "# 가중치2 : 6.95\n",
    "# 편향 : -10.61\n",
    "# 가중치1, 가중치2의 영향이 비슷하다. 편향의 영향도 크다.\n",
    "# 따라서 AND 신경망 네트워크는 기대출력과 가까운 출력값이 나온다는 것을 확인가능"
   ]
  },
  {
   "cell_type": "code",
   "execution_count": 28,
   "metadata": {
    "executionInfo": {
     "elapsed": 40540,
     "status": "ok",
     "timestamp": 1603260731032,
     "user": {
      "displayName": "윤채영",
      "photoUrl": "https://lh3.googleusercontent.com/a-/AOh14GgjzVSEIYGpvGvlUmbyWCmOdOr9J_OFxud0d-wW=s64",
      "userId": "05705444561123045578"
     },
     "user_tz": -540
    },
    "id": "hE-dTcEIxHV1"
   },
   "outputs": [],
   "source": [
    "# XOR, AND 신경망 네트워크의 가중치, 편향 비교해보자\n",
    "# AND 신경망 네트워크 : 어떤 일을 하려는지 명확하다!\n",
    "# - 가중치1, 가중치2 비슷하다.\n",
    "# - 입력1, 입력2 비슷한 중요도를 가진다.\n",
    "# - 편향값 : 큰 음수 > 중간계산값을 음수로 보내는 경향을 가진다.\n",
    "# - 가중치1, 가중치2를 합해야지 큰 음수값인 편향값에 준할 수 있다.\n",
    "\n",
    "# XOR 신경망 네트워크 : 어떤 일을 하려는지 명확하지 않다ㅠㅠ\n",
    "# - 중간계산값은 0에 가까워지고\n",
    "# - 출력값은 0.5에 가까워질뿐이다.\n",
    "\n",
    "# 즉, XOR 신경망 네트워크는 1개의 퍼셉트론으로 만들 수 없다는 것을 의미\n",
    "# 여러개의 퍼셉트론이 필요하다!"
   ]
  },
  {
   "cell_type": "markdown",
   "metadata": {
    "id": "JcJVHd0VxHV4"
   },
   "source": [
    "## 퍼셉트론(Perceptron)=뉴런(Neuron)\n",
    "- <img src='https://blog.kakaocdn.net/dn/RTcpC/btqCqOo58fi/zKpF0Lm1lTjLq1xZnkCrl1/img.png' width=500>\n",
    "- 신경망(딥러닝)의 기원이 되는 알고리즘\n",
    "- 입력층과 출력층 만으로 구성되는 알고리즘\n",
    "- 다수의 신호 입력 -> 하나의 신호 출력\n",
    "- 출력 : 0 또는 1\n",
    "- 여러개의 퍼셉트론 사용 -> XOR 신경망 네트워크 등 어떠한 불린함수(Boolean function)이던지 풀 수 있다.\n",
    "    - Boolean function이란?\n",
    "    - 입력값 : 정수 -> 출력값 : 0 또는 1\n",
    "    \n",
    "    \n",
    "- 활성화 함수\n",
    "    - sigmoid : 출력값 0~1 사이\n",
    "    - ReLU : 출력값 0이상 > 왜곡 적음\n",
    "- 역전파\n",
    "    - 역방향으로 오차를 전파시키면서 각층의 가중치를 업데이트하고 최적의 학습 결과를 찾아가는 방법\n",
    "    \n",
    "    \n",
    "- 순전파 -> 오차발생 -> 역전파 -> 가중치 업데이트 -> 순전파.. 반복을 통해 오차값을 0에 가깝게 만든다.\n",
    "    \n",
    "\n",
    "- 퍼셉트론의 갯수 세기 : 가중치를 갖는 층(layer)의 갯수. 입력층을 제외함.\n",
    "- 단순(단층) 퍼셉트론\n",
    "    - 하나의 노드로 구성\n",
    "    - 중간층, 출력층의 구분이 없는 구조\n",
    "- 다층 퍼셉트론\n",
    "    - 여러개의 중간층으로 구성\n",
    "\n",
    "\n",
    "\n",
    "## 인공신경망(ANN : Artificial Neural Network)\n",
    "- ![인공신경망 그림](https://upload.wikimedia.org/wikipedia/commons/thumb/4/46/Colored_neural_network.svg/300px-Colored_neural_network.svg.png)\n",
    " - 생물학의 신경망에서 영감을 얻은 통계학적 학습 알고리즘\n",
    " - 네트워크를 형성한 인공 뉴런이 학습을 통해 문제 해결 능력을 가지는 모델\n",
    " - 뉴런이 여러개 모여 층(layer)를 구성한 후, 이 층이 다시 모여 구성된 형태\n",
    "     - layer : 뉴런 + 뉴런이 합쳐진 단위\n",
    " - 층\n",
    "     - 입력층\n",
    "     - 은닉층\n",
    "     - 출력층\n",
    "     \n",
    "     \n",
    "     \n",
    "## 딥러닝(Deep Learning)\n",
    "- 다층 인공신경망을 학습하는 알고리즘\n",
    "- 여러 비선형 변환기법의 조합을 통해 높은 수준의 추상화를 시도하는 머신러닝 알고리즘 집합\n",
    "    - 추상화?\n",
    "    - 다량의 데이터, 자료들 속에서 핵심적인 내용, 기능을 요약하는 작업\n",
    "    \n",
    "\n",
    "    \n"
   ]
  },
  {
   "cell_type": "markdown",
   "metadata": {
    "id": "_Sqr7NjCxHV4"
   },
   "source": [
    "## Keras란?\n",
    "- python으로 작성된 오픈소스 신경망 라이브러리\n",
    "- Tensorflow 위에서 작동된다.\n",
    "\n",
    "\n",
    "- Tensorflow와 Keras의 차이점\n",
    "- Tensorflow : 디테일한 설정 가능, 내부 구조 확인할 수 있는 디버거 사용가능\n",
    "- Keras : 사용자 친화적, 간단한 조작만으로도 신경망 구성 가능"
   ]
  },
  {
   "cell_type": "markdown",
   "metadata": {
    "id": "NZIK3A_wxHV4"
   },
   "source": [
    "## keras sequential 모델\n",
    "- sequential 객체 참고 : https://keras.io/ko/getting-started/sequential-model-guide/\n",
    "- compile, fit 참고 : https://www.codeonweb.com/entry/fe7882d2-e42a-4ef3-bbc2-e616d366e013\n",
    "- 레이어(layer, 층)을 선형으로 연결하여 구성한 것\n",
    "- 레이어 인스턴스를 생성자에 전달 -> sequential 모델 구성"
   ]
  },
  {
   "cell_type": "markdown",
   "metadata": {
    "id": "fYExl8HbxHV5"
   },
   "source": [
    "---\n",
    "---\n",
    "## keras sequential 모델 만들기\n",
    "---\n",
    "### 입력 형태 지정하기\n",
    "- tf.keras.layers.Dense() : layer 정의\n",
    "- Dense : 가장 기본적인 layer, 입력, 출력 사이에 잇는 모든 뉴런이 서로 연결되는 layer\n",
    "    - parameter들\n",
    "    - units : 양의 정수, 출력 공간의 차원 수, layer를 구성하는 뉴런의 수\n",
    "        - 뉴런 많을수록 -> 레이어의 성능 좋아짐, 계산량 많아짐, 메모리 많이 차지\n",
    "    - activation : 사용할 활성화 함수\n",
    "    - input_shape : 형태정보, 튜플(정수 또는 None(임의의 양의 정수))\n",
    "        - 1번째 layer에서만 정의\n",
    "        - Dense(32, input_shape=(784,))\n",
    "        - Dense(32, input_dim=784)    위의 두 식은 동일\n",
    "    - input_shape, input_dim, input_length\n",
    "    - batch_size : batch 데이터 크기\n",
    "    ```python\n",
    "    from keras.models import Sequential\n",
    "    from keras.layers import Dense, Activation\n",
    "    \n",
    "    model = Sequential([               # 방법 1\n",
    "        Dense(32, input_shape=(784,)),\n",
    "        Activation(\"relu\"),\n",
    "        Dense(10),\n",
    "        Activation(\"softmax\"),\n",
    "        ])\n",
    "    \n",
    "    model = Sequential()                # 방법 2\n",
    "    model.add(Dense(32, input_dim=784))\n",
    "    model.add(Activation(\"relu\"))\n",
    "    ```\n",
    "    \n",
    "    두 코드는 동일\n",
    "\n",
    "---\n",
    "### 컴파일\n",
    "- 참조 : https://keras.io/ko/optimizers/\n",
    "- 모델 학습 전 학습 과정 구성\n",
    "- 최적화기(optimizer) : 정규화기\n",
    "    - SGD : 확률적 경사 하강법\n",
    "        - keras.optimizers.SGD(lr=0.01, momentum=0.0, decay=0.0, nesterov=False)\n",
    "        - lr : 학습률, 0이상의 실수값\n",
    "        - momentum : SGD를 적절한 방향으로 가속화, 흔들림(진동)을 줄여주는 매개변수, 0이상의 실수값\n",
    "        - decay : 업데이트마다 적용되는 학습률의 감소율, 0이상의 실수값\n",
    "        - nesterov : Nesterov momentum의 적용여부 설정, boolean값\n",
    "        \n",
    "    - RMSprop\n",
    "        - 일반적으로 순환 신경망의 옵티마이저로 많이 사용\n",
    "        - keras.optimizers.RMSprop(lr=0.001, rho=0.9, epsilon=None, decay=0.0)\n",
    "        - rho : 0이상의 실수값\n",
    "        - epsilon : 0이상의 실수값\n",
    "\n",
    "    - Adagrad\n",
    "        - keras.optimizers.Adagrad(lr=0.01, epsilon=None, decay=0.0)\n",
    "\n",
    "    - Adadelta\n",
    "        - keras.optimizers.Adadelta(lr=1.0, rho=0.95, epsilon=None, decay=0.0)\n",
    "        - Adagrad의 확장\n",
    "        \n",
    "    - Adam, Adamax, Nadam 옵티마이저도 있음\n",
    "        \n",
    "        \n",
    "- 손실함수(loss function) : 모델이 최소화하려고 하는 대상, 기본제공되는 손실함수의 문자열 식별자 또는 목표함수 자체\n",
    "    - 종류 : categorical_crossentropy, mse\n",
    "- 메트릭(metric) : 기본제공되는 메트릭 또는 사용자정의 메트릭함수의 문자열 식별자\n",
    "    - 종류 : accuracy\n",
    "    ```python\n",
    "    # For a multi-class classification problem\n",
    "        model.compile(optimizer=\"rmsprop\",\n",
    "                      loss=\"categorical+corssentropy\",\n",
    "                      metrics=[\"accuracy\"])\n",
    "    \n",
    "    # For a binary classification problem\n",
    "        model.compile(optimizer=\"rmsprop\",\n",
    "                      loss=\"binary_corssentropy\",\n",
    "                      metrics=[\"accuracy\"])\n",
    "    \n",
    "    # For a mean squared error regression problem\n",
    "        model.compile(optimizer=\"rmsprop\",\n",
    "                      loss=\"mse\")\n",
    "    \n",
    "    # For custom metrics\n",
    "        import keras.backend as K\n",
    "        def mean_pred(y_true, y_pred):\n",
    "            return K.mean(y_pred)\n",
    "        model.compile(optimizer=\"rmsprop\",\n",
    "                      loss=\"binary_corssentropy\",\n",
    "                      metrics=[\"accuracy\", mean_pred])\n",
    "    ```\n",
    "\n",
    "---\n",
    "### 훈련\n",
    "- keras 모델은 Numpy 배열로 이루어진 입력 데이터, 레이블을 기반으로 훈련\n",
    "- 정해진 횟수의 epoch 동안 모델을 훈련\n",
    "- 일반적으로 fit 함수 사용\n",
    "    - x : 입력\n",
    "    - y : 기대출력\n",
    "    - epochs : 정수, 훈련 데이터를 반복학습시키는 횟수\n",
    "    - batch_size : 정수, 기울기를 업데이트할 샘플의 갯수, 한번에 학습시킬 데이터의 수\n",
    "    - 컴퓨터 메모리를 절약하기 위해 데이터를 나눠서 하는 것\n",
    "        - ex) 데이터의 총 갯수 : 1000개, batch_size=10 이면,\n",
    "        - 데이터 10개씩 100번의 step을 거치면 훈련을 1번 한 것이다.\n",
    "        - <img src=\"https://t1.daumcdn.net/cfile/tistory/99E8AF365B79165C34\">\n",
    "        \n",
    "    ```python\n",
    "    model.fit(data, labels, epochs=10, batch_size=32)\n",
    "    ```\n",
    "---\n",
    "---"
   ]
  },
  {
   "cell_type": "markdown",
   "metadata": {
    "id": "tBFWA2hpxHV6"
   },
   "source": [
    "## 이항분류\n",
    "- 데이터에 선 1개 그어서 분류\n",
    "- 주로 sigmoid 함수 사용\n",
    "\n",
    "\n",
    "$$\n",
    "s(z)=\\frac{1}{1+e^{-z}}\n",
    "$$\n",
    "<img src='https://t1.daumcdn.net/cfile/tistory/2312763759272E5B16' width=200>\n",
    "\n",
    "\n",
    "## 다항분류\n",
    "- 데이터에 선을 2개 이상 그어서 분류\n",
    "- softmax 함수 사용\n",
    "\n",
    "\n",
    "$$\n",
    "P_{i}(X_1,X_2)=\\frac{e^{f_{i}(x_1, x_2)}}{e^{f_{1}(x_1, x_2)}+e^{f_{2}(x_1, x_2)}+...+e^{f_{k}(x_1, x_2)}}\n",
    "$$\n",
    "\n",
    "\n",
    "<img src='https://t1.daumcdn.net/cfile/tistory/247E883D5927860832' width=400>\n",
    "\n",
    "\n"
   ]
  },
  {
   "cell_type": "code",
   "execution_count": 29,
   "metadata": {
    "executionInfo": {
     "elapsed": 40531,
     "status": "ok",
     "timestamp": 1603260731032,
     "user": {
      "displayName": "윤채영",
      "photoUrl": "https://lh3.googleusercontent.com/a-/AOh14GgjzVSEIYGpvGvlUmbyWCmOdOr9J_OFxud0d-wW=s64",
      "userId": "05705444561123045578"
     },
     "user_tz": -540
    },
    "id": "aozJbG4XxHV6"
   },
   "outputs": [],
   "source": [
    "# 3.27 tf.keras를 이용한 XOR 신경망 네트워크 계산\n",
    "# 3개의 퍼셉트론과 뉴런 사용해서 XOR 신경망 네트워크를 만들어보자.\n",
    "# 입력층 -> 레이어 -> 레이어 -> 뉴런\n",
    "# 입력층을 제외하니 3개의 퍼셉트론이 맞다.\n",
    "import numpy as np\n",
    "x = np.array([\n",
    "    [1, 1],\n",
    "    [1, 0],\n",
    "    [0, 1],\n",
    "    [0, 0]\n",
    "])\n",
    "y = np.array([\n",
    "    [0],\n",
    "    [1],\n",
    "    [1],\n",
    "    [0]\n",
    "])"
   ]
  },
  {
   "cell_type": "markdown",
   "metadata": {
    "id": "3o1YdoInxHV9"
   },
   "source": [
    "<img src='https://t2.daumcdn.net/thumb/R720x0/?fname=http://t1.daumcdn.net/brunch/service/user/17Xk/image/TBYWCZ-LE5jUYkWph1WbrLRUudY.png' width=400>"
   ]
  },
  {
   "cell_type": "code",
   "execution_count": 30,
   "metadata": {
    "executionInfo": {
     "elapsed": 40525,
     "status": "ok",
     "timestamp": 1603260731033,
     "user": {
      "displayName": "윤채영",
      "photoUrl": "https://lh3.googleusercontent.com/a-/AOh14GgjzVSEIYGpvGvlUmbyWCmOdOr9J_OFxud0d-wW=s64",
      "userId": "05705444561123045578"
     },
     "user_tz": -540
    },
    "id": "2WWnK5kPxHV-"
   },
   "outputs": [],
   "source": [
    "model = tf.keras.Sequential([                    # tf.keras.layers.Dense() : layer 정의\n",
    "                                                 # Dense : 입력, 출력 사이의 모든 뉴런이 서로 연결되는 레이어\n",
    "    tf.keras.layers.Dense(units=2,               # 레이어를 구성하는 뉴런의 수  # 입력1, 입력2를 받으므로 2개\n",
    "                         activation=\"sigmoid\",   # 사용할 활성화 함수\n",
    "                         input_shape=(2,)),      # 형태 정보  # 입력1, 입력2\n",
    "    tf.keras.layers.Dense(units=1,               # 출력 공간의 차원 수  # 레이어1에서의 결과값을 받으므로 1차원  # 그 후 출력층~\n",
    "                         activation=\"sigmoid\")\n",
    "])"
   ]
  },
  {
   "cell_type": "code",
   "execution_count": 31,
   "metadata": {
    "executionInfo": {
     "elapsed": 40515,
     "status": "ok",
     "timestamp": 1603260731033,
     "user": {
      "displayName": "윤채영",
      "photoUrl": "https://lh3.googleusercontent.com/a-/AOh14GgjzVSEIYGpvGvlUmbyWCmOdOr9J_OFxud0d-wW=s64",
      "userId": "05705444561123045578"
     },
     "user_tz": -540
    },
    "id": "Gnpp1eG_xHWB"
   },
   "outputs": [],
   "source": [
    "model.compile(optimizer=tf.keras.optimizers.SGD(lr=0.1),  # compile : 모델이 실제로 동작할 수 있도록 환경 준비\n",
    "              # optimizer : 최적화 함수 : 사용할 딥러닝의 최적화 함수 학습식\n",
    "              # SGD : Stochastic Gradient Descent : 경사 하강법\n",
    "             loss=\"mse\")  # 손실 : MSE(평균제곱오차)  # 앞부분의 error와 비슷한 개념. 최소화해야 함."
   ]
  },
  {
   "cell_type": "code",
   "execution_count": 32,
   "metadata": {
    "colab": {
     "base_uri": "https://localhost:8080/",
     "height": 233
    },
    "executionInfo": {
     "elapsed": 40496,
     "status": "ok",
     "timestamp": 1603260731034,
     "user": {
      "displayName": "윤채영",
      "photoUrl": "https://lh3.googleusercontent.com/a-/AOh14GgjzVSEIYGpvGvlUmbyWCmOdOr9J_OFxud0d-wW=s64",
      "userId": "05705444561123045578"
     },
     "user_tz": -540
    },
    "id": "_h8oafM4xHWE",
    "outputId": "116771db-cb30-4194-dcde-0a74f887146a"
   },
   "outputs": [
    {
     "name": "stdout",
     "output_type": "stream",
     "text": [
      "Model: \"sequential\"\n",
      "_________________________________________________________________\n",
      "Layer (type)                 Output Shape              Param #   \n",
      "=================================================================\n",
      "dense (Dense)                (None, 2)                 6         \n",
      "_________________________________________________________________\n",
      "dense_1 (Dense)              (None, 1)                 3         \n",
      "=================================================================\n",
      "Total params: 9\n",
      "Trainable params: 9\n",
      "Non-trainable params: 0\n",
      "_________________________________________________________________\n"
     ]
    }
   ],
   "source": [
    "model.summary()  # summary() 함수를 통해 인공신경망의 구조 확인\n",
    "# layer(층)     shape     parameter 수(bias도 사실 있음. 가중치의 총 갯수)\n",
    "# parameter 수 : (입력측 뉴런의 수 + 1) * (출력측 뉴런의 수)"
   ]
  },
  {
   "cell_type": "code",
   "execution_count": null,
   "metadata": {
    "collapsed": true,
    "id": "5wpFjH4YxHWG",
    "jupyter": {
     "outputs_hidden": true
    }
   },
   "outputs": [],
   "source": [
    "# 이제 이 네트워크를 실제로 학습시켜보자.\n",
    "history = model.fit(x, y,\n",
    "                   epochs=2000, batch_size=1)\n",
    "# loss : 0.2584 -> loss : 0.0149로 손실율이 줄어들었다."
   ]
  },
  {
   "cell_type": "code",
   "execution_count": 34,
   "metadata": {
    "colab": {
     "base_uri": "https://localhost:8080/",
     "height": 89
    },
    "executionInfo": {
     "elapsed": 87083,
     "status": "ok",
     "timestamp": 1603260777637,
     "user": {
      "displayName": "윤채영",
      "photoUrl": "https://lh3.googleusercontent.com/a-/AOh14GgjzVSEIYGpvGvlUmbyWCmOdOr9J_OFxud0d-wW=s64",
      "userId": "05705444561123045578"
     },
     "user_tz": -540
    },
    "id": "BZS0lgn7xHWI",
    "outputId": "fc4bdff6-e4bb-4caf-999b-911b3bf7a3fa"
   },
   "outputs": [
    {
     "data": {
      "text/plain": [
       "array([[0.2461888 ],\n",
       "       [0.7885171 ],\n",
       "       [0.78843737],\n",
       "       [0.13858593]], dtype=float32)"
      ]
     },
     "execution_count": 34,
     "metadata": {
      "tags": []
     },
     "output_type": "execute_result"
    }
   ],
   "source": [
    "# tf.keras를 이용한 2-layer XOR 신경망 네트워크 평가\n",
    "model.predict(x)\n",
    "# 출력값을 보면 기대출력인 0 1 1 0에 가깝게 나왔다.\n",
    "# 앞의 1-layer XOR 신경망 네트워크에서는 전부다 출력값이 0.5부근으로\n",
    "# 2-layer XOR 신경망 네트워크의 정확도 > 1-layer XOR 신경망 네트워크의 정확도"
   ]
  },
  {
   "cell_type": "code",
   "execution_count": 35,
   "metadata": {
    "colab": {
     "base_uri": "https://localhost:8080/",
     "height": 161
    },
    "executionInfo": {
     "elapsed": 87077,
     "status": "ok",
     "timestamp": 1603260777637,
     "user": {
      "displayName": "윤채영",
      "photoUrl": "https://lh3.googleusercontent.com/a-/AOh14GgjzVSEIYGpvGvlUmbyWCmOdOr9J_OFxud0d-wW=s64",
      "userId": "05705444561123045578"
     },
     "user_tz": -540
    },
    "id": "zNFgUqfSxHWL",
    "outputId": "13b28a58-83d1-46b0-fd1c-750765593580"
   },
   "outputs": [
    {
     "name": "stdout",
     "output_type": "stream",
     "text": [
      "<tf.Variable 'dense/kernel:0' shape=(2, 2) dtype=float32, numpy=\n",
      "array([[ 2.4716892, -4.791879 ],\n",
      "       [ 2.485333 , -4.86574  ]], dtype=float32)>\n",
      "<tf.Variable 'dense/bias:0' shape=(2,) dtype=float32, numpy=array([-3.7372012,  1.2429494], dtype=float32)>\n",
      "<tf.Variable 'dense_1/kernel:0' shape=(2, 1) dtype=float32, numpy=\n",
      "array([[-4.684225],\n",
      "       [-5.433265]], dtype=float32)>\n",
      "<tf.Variable 'dense_1/bias:0' shape=(1,) dtype=float32, numpy=array([2.4985325], dtype=float32)>\n"
     ]
    }
   ],
   "source": [
    "# 가중치 확인 : model.wieghts\n",
    "for weight in model.weights:\n",
    "    print(weight)\n",
    "# dense/kernel : 입력 - 레이어 또는 레이어 - 레이어 가중치\n",
    "# dense/bias : 편향 - 레이어 가중치"
   ]
  },
  {
   "cell_type": "markdown",
   "metadata": {
    "id": "vT5w_vl8xHWN"
   },
   "source": [
    "가중치 표기\n",
    "- 위 첨자 : 레이어 번호\n",
    "- 아래 첨자: 입력측번호 출력측번호\n",
    "$$\n",
    "w_{12}^1\n",
    "$$\n",
    "\n",
    "\n",
    "=> 레이어1 / 입력측 : 2번 뉴런(입력2, x2) / 출력측 : 1번 뉴런\n",
    "\n",
    "$$\n",
    "w_{31}^2\n",
    "$$\n",
    "\n",
    "=> 레이어2 / 입력측 : 3번 뉴런(bias꺼) / 출력측 : 1번 뉴런"
   ]
  },
  {
   "cell_type": "markdown",
   "metadata": {
    "id": "9WaOHyl9xHWO"
   },
   "source": [
    "## 시각화\n",
    "matplotlib.pyplot 라이브러리 이용"
   ]
  },
  {
   "cell_type": "code",
   "execution_count": 36,
   "metadata": {
    "colab": {
     "base_uri": "https://localhost:8080/",
     "height": 265
    },
    "executionInfo": {
     "elapsed": 87072,
     "status": "ok",
     "timestamp": 1603260777638,
     "user": {
      "displayName": "윤채영",
      "photoUrl": "https://lh3.googleusercontent.com/a-/AOh14GgjzVSEIYGpvGvlUmbyWCmOdOr9J_OFxud0d-wW=s64",
      "userId": "05705444561123045578"
     },
     "user_tz": -540
    },
    "id": "zQTbCGQixHWO",
    "outputId": "0fdd761c-4eca-4886-fff2-6176134db328"
   },
   "outputs": [
    {
     "data": {
      "image/png": "[encoded data removed]",
      "text/plain": [
       "<Figure size 432x288 with 1 Axes>"
      ]
     },
     "metadata": {
      "needs_background": "light",
      "tags": []
     },
     "output_type": "display_data"
    }
   ],
   "source": [
    "# 3.31 간단한 꺾은선 그래프 그리기 : plt.plot\n",
    "import matplotlib.pyplot as plt\n",
    "x = range(20)\n",
    "y = tf.random.normal([20], 0, 1)\n",
    "plt.plot(x, y)\n",
    "plt.show()"
   ]
  },
  {
   "cell_type": "code",
   "execution_count": 37,
   "metadata": {
    "colab": {
     "base_uri": "https://localhost:8080/",
     "height": 265
    },
    "executionInfo": {
     "elapsed": 87056,
     "status": "ok",
     "timestamp": 1603260777638,
     "user": {
      "displayName": "윤채영",
      "photoUrl": "https://lh3.googleusercontent.com/a-/AOh14GgjzVSEIYGpvGvlUmbyWCmOdOr9J_OFxud0d-wW=s64",
      "userId": "05705444561123045578"
     },
     "user_tz": -540
    },
    "id": "X7vax0TsxHWQ",
    "outputId": "68fff468-732d-4f5a-fe13-ff7e06a99c4f"
   },
   "outputs": [
    {
     "data": {
      "image/png": "[encoded data removed]",
      "text/plain": [
       "<Figure size 432x288 with 1 Axes>"
      ]
     },
     "metadata": {
      "needs_background": "light",
      "tags": []
     },
     "output_type": "display_data"
    }
   ],
   "source": [
    "# 3.32 간단한 점 그래프 그리기\n",
    "import matplotlib.pyplot as plt\n",
    "x = range(20)\n",
    "y = tf.random.normal([20], 0, 1)\n",
    "plt.plot(x, y, 'bo')\n",
    "# 설정값\n",
    "# 색깔 : 파랑(b), 빨강(r), 노랑(y)\n",
    "plt.show()"
   ]
  },
  {
   "cell_type": "code",
   "execution_count": 38,
   "metadata": {
    "colab": {
     "base_uri": "https://localhost:8080/",
     "height": 265
    },
    "executionInfo": {
     "elapsed": 87038,
     "status": "ok",
     "timestamp": 1603260777639,
     "user": {
      "displayName": "윤채영",
      "photoUrl": "https://lh3.googleusercontent.com/a-/AOh14GgjzVSEIYGpvGvlUmbyWCmOdOr9J_OFxud0d-wW=s64",
      "userId": "05705444561123045578"
     },
     "user_tz": -540
    },
    "id": "XdoWKBWCxHWT",
    "outputId": "2ef1025c-af07-4ab8-8b46-13e8eaf90b75"
   },
   "outputs": [
    {
     "data": {
      "image/png": "[encoded data removed]",
      "text/plain": [
       "<Figure size 432x288 with 1 Axes>"
      ]
     },
     "metadata": {
      "needs_background": "light",
      "tags": []
     },
     "output_type": "display_data"
    }
   ],
   "source": [
    "# 3.33 정규분포 히스토그램 : plt.hist\n",
    "import tensorflow as tf\n",
    "import matplotlib.pyplot as plt\n",
    "x = tf.random.normal([100000], 0, 1)\n",
    "plt.hist(x, bins=100)  # 영역을 몇 개로 쪼갤지 설정\n",
    "plt.show()"
   ]
  },
  {
   "cell_type": "code",
   "execution_count": 39,
   "metadata": {
    "colab": {
     "base_uri": "https://localhost:8080/",
     "height": 265
    },
    "executionInfo": {
     "elapsed": 87029,
     "status": "ok",
     "timestamp": 1603260777640,
     "user": {
      "displayName": "윤채영",
      "photoUrl": "https://lh3.googleusercontent.com/a-/AOh14GgjzVSEIYGpvGvlUmbyWCmOdOr9J_OFxud0d-wW=s64",
      "userId": "05705444561123045578"
     },
     "user_tz": -540
    },
    "id": "O5hCUdXOxHWV",
    "outputId": "fd42a5be-55ac-41a8-c72d-377603ee705c"
   },
   "outputs": [
    {
     "data": {
      "image/png": "[encoded data removed]",
      "text/plain": [
       "<Figure size 432x288 with 1 Axes>"
      ]
     },
     "metadata": {
      "needs_background": "light",
      "tags": []
     },
     "output_type": "display_data"
    }
   ],
   "source": [
    "plt.hist(x, bins=1000)  # 영역을 더 많이 쪼개보자.\n",
    "plt.show()  # 히스토그램이 좀 더 부드러워졌다."
   ]
  },
  {
   "cell_type": "code",
   "execution_count": 50,
   "metadata": {
    "colab": {
     "base_uri": "https://localhost:8080/",
     "height": 375
    },
    "executionInfo": {
     "elapsed": 1225,
     "status": "ok",
     "timestamp": 1603261137741,
     "user": {
      "displayName": "윤채영",
      "photoUrl": "https://lh3.googleusercontent.com/a-/AOh14GgjzVSEIYGpvGvlUmbyWCmOdOr9J_OFxud0d-wW=s64",
      "userId": "05705444561123045578"
     },
     "user_tz": -540
    },
    "id": "MkONAs6yxHWX",
    "outputId": "6ffaf10d-da2b-4558-8c4e-154df09ae12c"
   },
   "outputs": [
    {
     "name": "stdout",
     "output_type": "stream",
     "text": [
      "<tensorflow.python.keras.callbacks.History object at 0x7ffa8952cdd8>\n",
      "{'verbose': 1, 'epochs': 2000, 'steps': 4}\n",
      "[0.2784452736377716, 0.275520384311676, 0.27312684059143066, 0.27091526985168457, 0.269031822681427, 0.26739776134490967, 0.265962153673172, 0.2648257315158844, 0.2634994089603424, 0.262410968542099, 0.2616143226623535, 0.26084598898887634, 0.260127454996109, 0.2596316933631897, 0.25924208760261536, 0.25894805788993835, 0.25851884484291077, 0.25834688544273376, 0.25808805227279663, 0.2577659487724304, 0.2577112913131714, 0.25753653049468994, 0.257367879152298, 0.25716155767440796, 0.25713688135147095, 0.25704455375671387, 0.2569442391395569, 0.25685662031173706, 0.2566891610622406, 0.2567324638366699, 0.25666266679763794, 0.25658270716667175, 0.25654199719429016, 0.2564947009086609, 0.25645408034324646, 0.25641483068466187, 0.2564059793949127, 0.2562931776046753, 0.25628167390823364, 0.2562592625617981, 0.2563501000404358, 0.2562234699726105, 0.25619006156921387, 0.25617992877960205, 0.2562716603279114, 0.25616252422332764, 0.25623619556427, 0.2561280131340027, 0.25610578060150146, 0.25618666410446167, 0.2561623752117157, 0.2561429738998413, 0.2560311257839203, 0.25610947608947754, 0.2560853958129883, 0.2560898959636688, 0.255984365940094, 0.2560573220252991, 0.25605690479278564, 0.2560286223888397, 0.2559276819229126, 0.25600650906562805, 0.2560020685195923, 0.25587737560272217, 0.2558818757534027, 0.2559643089771271, 0.25595951080322266, 0.2559400796890259, 0.2559312582015991, 0.2559130787849426, 0.25590893626213074, 0.2557883858680725, 0.2557794153690338, 0.25588178634643555, 0.25587067008018494, 0.25584927201271057, 0.25576066970825195, 0.2558295726776123, 0.25581908226013184, 0.2557075023651123, 0.25579893589019775, 0.2557891011238098, 0.2557739019393921, 0.2557592988014221, 0.25575071573257446, 0.25564315915107727, 0.2557348906993866, 0.2557228207588196, 0.2557171881198883, 0.2556999623775482, 0.2556077837944031, 0.25555872917175293, 0.25566574931144714, 0.25554823875427246, 0.255645215511322, 0.255534827709198, 0.25562477111816406, 0.255601704120636, 0.2554970681667328, 0.25559109449386597, 0.2555781304836273, 0.2555687129497528, 0.2554565668106079, 0.25554654002189636, 0.2555358409881592, 0.25552576780319214, 0.2555089294910431, 0.25550171732902527, 0.2553849220275879, 0.2554798722267151, 0.25537770986557007, 0.2553761899471283, 0.25533831119537354, 0.25533416867256165, 0.25530967116355896, 0.2554152011871338, 0.2554043233394623, 0.2552969753742218, 0.2553727626800537, 0.25527700781822205, 0.2553546726703644, 0.2553468346595764, 0.2553216218948364, 0.25522440671920776, 0.25531497597694397, 0.255204975605011, 0.2551971673965454, 0.25528591871261597, 0.2551701068878174, 0.25525468587875366, 0.2551581859588623, 0.25523409247398376, 0.25522056221961975, 0.2550988793373108, 0.25508958101272583, 0.25519299507141113, 0.2551846504211426, 0.25517091155052185, 0.2551537752151489, 0.25514498353004456, 0.25513947010040283, 0.25502291321754456, 0.25500932335853577, 0.25510263442993164, 0.255095899105072, 0.2549895942211151, 0.2549661695957184, 0.25505760312080383, 0.2550448477268219, 0.2549285888671875, 0.2550242245197296, 0.2550066113471985, 0.25498852133750916, 0.2548941969871521, 0.2548835277557373, 0.25495797395706177, 0.2549523115158081, 0.25493764877319336, 0.2549184560775757, 0.25491246581077576, 0.2547886371612549, 0.25489112734794617, 0.25487828254699707, 0.25476324558258057, 0.25475072860717773, 0.2547537684440613, 0.25482791662216187, 0.2548057436943054, 0.2548002600669861, 0.2546914219856262, 0.25476935505867004, 0.2546705901622772, 0.25475797057151794, 0.25474992394447327, 0.25473374128341675, 0.2547251582145691, 0.25460973381996155, 0.25469547510147095, 0.2546866238117218, 0.25466716289520264, 0.2546493709087372, 0.2545384168624878, 0.2546404004096985, 0.2546253800392151, 0.25460878014564514, 0.2545996606349945, 0.25450772047042847, 0.2545681297779083, 0.25448042154312134, 0.25454622507095337, 0.25442248582839966, 0.25452056527137756, 0.2545085549354553, 0.25439882278442383, 0.2544841766357422, 0.2544717490673065, 0.2544548511505127, 0.2543601989746094, 0.25443482398986816, 0.2544219493865967, 0.25432467460632324, 0.25440043210983276, 0.25427842140197754, 0.2542913556098938, 0.25435876846313477, 0.25425297021865845, 0.2542511820793152, 0.254213809967041, 0.25429567694664, 0.2542814016342163, 0.25426816940307617, 0.254162460565567, 0.25415369868278503, 0.25415486097335815, 0.2542177140712738, 0.25420016050338745, 0.2541863024234772, 0.2540940046310425, 0.25417059659957886, 0.25414717197418213, 0.2541360557079315, 0.25403183698654175, 0.25410476326942444, 0.2540901303291321, 0.2540787160396576, 0.25406545400619507, 0.2539597153663635, 0.2539399266242981, 0.2540276050567627, 0.25400811433792114, 0.2539955675601959, 0.25398117303848267, 0.2538679838180542, 0.25395312905311584, 0.2539377212524414, 0.25391843914985657, 0.2538095712661743, 0.2538979649543762, 0.2537914216518402, 0.25386399030685425, 0.25384363532066345, 0.2538277506828308, 0.2537112832069397, 0.25372689962387085, 0.2537776231765747, 0.253763347864151, 0.25375470519065857, 0.2536667287349701, 0.2536422312259674, 0.2537117898464203, 0.25369197130203247, 0.25368204712867737, 0.25358349084854126, 0.2535536587238312, 0.25363436341285706, 0.25360918045043945, 0.25360479950904846, 0.25358903408050537, 0.253477543592453, 0.25355902314186096, 0.2534477710723877, 0.2535317540168762, 0.25342702865600586, 0.2534927725791931, 0.2534852623939514, 0.25346672534942627, 0.253446102142334, 0.2534329295158386, 0.2533186972141266, 0.2533017098903656, 0.25328561663627625, 0.2533547878265381, 0.25324732065200806, 0.2533339262008667, 0.2533116340637207, 0.2532898187637329, 0.2532772421836853, 0.253265380859375, 0.25315341353416443, 0.253133088350296, 0.2532133460044861, 0.2530876398086548, 0.25317323207855225, 0.25315436720848083, 0.2531389594078064, 0.2530469596385956, 0.2531021535396576, 0.25299108028411865, 0.25298821926116943, 0.2530497908592224, 0.2530333697795868, 0.2529195249080658, 0.252999484539032, 0.25298044085502625, 0.2529606819152832, 0.2529486417770386, 0.25282007455825806, 0.25291046500205994, 0.25288617610931396, 0.25286316871643066, 0.2527596056461334, 0.2528301775455475, 0.25281330943107605, 0.25269991159439087, 0.2526906132698059, 0.2526814341545105, 0.2527312934398651, 0.2527124285697937, 0.2527026832103729, 0.2526773512363434, 0.2525551915168762, 0.2526392936706543, 0.2525365650653839, 0.2525991201400757, 0.25258174538612366, 0.25248774886131287, 0.2524460554122925, 0.2525162398815155, 0.252501904964447, 0.25237753987312317, 0.2523579001426697, 0.2524450421333313, 0.25241386890411377, 0.2523077726364136, 0.25237470865249634, 0.2523587644100189, 0.2523385286331177, 0.2523185908794403, 0.25229039788246155, 0.2522701621055603, 0.2522493302822113, 0.2522304654121399, 0.2522049844264984, 0.25210830569267273, 0.2520778775215149, 0.25205567479133606, 0.25212493538856506, 0.2520119249820709, 0.25208061933517456, 0.2520560920238495, 0.25203654170036316, 0.25194141268730164, 0.25198209285736084, 0.2518787682056427, 0.25194665789604187, 0.2518336772918701, 0.2518959045410156, 0.25177815556526184, 0.25185805559158325, 0.2518352270126343, 0.2517218589782715, 0.2517847716808319, 0.251691997051239, 0.25174078345298767, 0.2517169117927551, 0.25169411301612854, 0.2515817880630493, 0.25164684653282166, 0.25161945819854736, 0.2515236735343933, 0.25157430768013, 0.2514777183532715, 0.251525342464447, 0.25149795413017273, 0.2514737844467163, 0.25135746598243713, 0.251346230506897, 0.2513982951641083, 0.25130659341812134, 0.2513538897037506, 0.25132158398628235, 0.25130248069763184, 0.2512768507003784, 0.25125208497047424, 0.2512252628803253, 0.25120002031326294, 0.251083105802536, 0.25114649534225464, 0.2510351836681366, 0.25109580159187317, 0.2510724663734436, 0.25104010105133057, 0.25094112753868103, 0.25099459290504456, 0.2509687840938568, 0.25094136595726013, 0.25091516971588135, 0.25081437826156616, 0.2508563995361328, 0.250826895236969, 0.25080594420433044, 0.2507745325565338, 0.2506564259529114, 0.25071197748184204, 0.2506202161312103, 0.25066202878952026, 0.25063830614089966, 0.25060346722602844, 0.25056836009025574, 0.2505488395690918, 0.25051385164260864, 0.25048938393592834, 0.25038421154022217, 0.2504303753376007, 0.2503323554992676, 0.2503775954246521, 0.2503405511379242, 0.2502383291721344, 0.25019556283950806, 0.2501697540283203, 0.2501409947872162, 0.2501983046531677, 0.2500907778739929, 0.25013965368270874, 0.25011003017425537, 0.24999964237213135, 0.25004518032073975, 0.24993129074573517, 0.2498967945575714, 0.2499566376209259, 0.24992048740386963, 0.24988694489002228, 0.24986359477043152, 0.24983203411102295, 0.24980035424232483, 0.24976760149002075, 0.24963730573654175, 0.24970771372318268, 0.2496677041053772, 0.24963617324829102, 0.2496100813150406, 0.24956835806369781, 0.24953347444534302, 0.2495076060295105, 0.2493882030248642, 0.24935118854045868, 0.24940240383148193, 0.24936802685260773, 0.2493446171283722, 0.24922801554203033, 0.2492656707763672, 0.24923378229141235, 0.24920058250427246, 0.24916279315948486, 0.24904349446296692, 0.24910175800323486, 0.24906030297279358, 0.24902421236038208, 0.24899235367774963, 0.24889135360717773, 0.24886000156402588, 0.24889281392097473, 0.24884742498397827, 0.24882271885871887, 0.24869213998317719, 0.24874481558799744, 0.2487119734287262, 0.24860700964927673, 0.2485503852367401, 0.24860253930091858, 0.24849048256874084, 0.24853020906448364, 0.24840639531612396, 0.24844947457313538, 0.24841485917568207, 0.2483777403831482, 0.248254656791687, 0.24830186367034912, 0.24825581908226013, 0.2481483519077301, 0.248182013630867, 0.24814185500144958, 0.24811099469661713, 0.24807412922382355, 0.2480275183916092, 0.2479882389307022, 0.24786126613616943, 0.2479095160961151, 0.2478661835193634, 0.2478354573249817, 0.2477906197309494, 0.24765750765800476, 0.24770978093147278, 0.2476777732372284, 0.24753624200820923, 0.24759536981582642, 0.24754706025123596, 0.24741795659065247, 0.2474641054868698, 0.24742232263088226, 0.24738623201847076, 0.2473430037498474, 0.24729174375534058, 0.24725177884101868, 0.24722068011760712, 0.24716666340827942, 0.24713197350502014, 0.24708876013755798, 0.24695606529712677, 0.24691170454025269, 0.24689415097236633, 0.24682816863059998, 0.24687282741069794, 0.2468293160200119, 0.24669809639453888, 0.24673816561698914, 0.24668729305267334, 0.2465757131576538, 0.24660353362560272, 0.24648702144622803, 0.24651873111724854, 0.24647343158721924, 0.2463521957397461, 0.24637775123119354, 0.24626177549362183, 0.24629168212413788, 0.24615563452243805, 0.24618971347808838, 0.24614721536636353, 0.24601620435714722, 0.24597707390785217, 0.24593737721443176, 0.2459678053855896, 0.24592268466949463, 0.24586552381515503, 0.24582380056381226, 0.24569466710090637, 0.24573150277137756, 0.24567857384681702, 0.2456243336200714, 0.24558408558368683, 0.24544237554073334, 0.24540147185325623, 0.24543426930904388, 0.2453773319721222, 0.24533408880233765, 0.2451942414045334, 0.2451547086238861, 0.24518176913261414, 0.24513670802116394, 0.24508501589298248, 0.24502864480018616, 0.24497374892234802, 0.244926318526268, 0.24486996233463287, 0.24474890530109406, 0.24470452964305878, 0.24472856521606445, 0.244581401348114, 0.24461817741394043, 0.24449166655540466, 0.24451355636119843, 0.24437162280082703, 0.24441400170326233, 0.24435091018676758, 0.24431002140045166, 0.24415738880634308, 0.24420055747032166, 0.2441432774066925, 0.2440102994441986, 0.24394580721855164, 0.2439807951450348, 0.24392661452293396, 0.24387001991271973, 0.24380752444267273, 0.2436651587486267, 0.24369552731513977, 0.24358417093753815, 0.24358949065208435, 0.24352701008319855, 0.24347737431526184, 0.2434104084968567, 0.24335584044456482, 0.24321742355823517, 0.2432514876127243, 0.24310511350631714, 0.2431391328573227, 0.24298542737960815, 0.24301764369010925, 0.2429541051387787, 0.24289560317993164, 0.24277542531490326, 0.24279290437698364, 0.24272534251213074, 0.24258489906787872, 0.24261823296546936, 0.24254603683948517, 0.2424853891134262, 0.24242299795150757, 0.24236777424812317, 0.24229849874973297, 0.24225200712680817, 0.24218887090682983, 0.24211685359477997, 0.2419838309288025, 0.24199192225933075, 0.2418503612279892, 0.24186758697032928, 0.24180424213409424, 0.24174727499485016, 0.24169065058231354, 0.24156711995601654, 0.24155095219612122, 0.24149306118488312, 0.24142971634864807, 0.2413666695356369, 0.24121969938278198, 0.2412368357181549, 0.24109476804733276, 0.24112412333488464, 0.24105586111545563, 0.24098390340805054, 0.24091997742652893, 0.2407645881175995, 0.24073487520217896, 0.24072133004665375, 0.2405654788017273, 0.24058078229427338, 0.24051553010940552, 0.24045810103416443, 0.2403041422367096, 0.24032649397850037, 0.2402598261833191, 0.24019482731819153, 0.24012315273284912, 0.2400442361831665, 0.2399286925792694, 0.23982328176498413, 0.2398402988910675, 0.23978199064731598, 0.2397049069404602, 0.2395532727241516, 0.23951798677444458, 0.2394990175962448, 0.23933985829353333, 0.2393503189086914, 0.2392924726009369, 0.2392084002494812, 0.23914912343025208, 0.23898574709892273, 0.2390105128288269, 0.2389407902956009, 0.23877525329589844, 0.23878240585327148, 0.23871079087257385, 0.23864910006523132, 0.2385799139738083, 0.2385047972202301, 0.23834192752838135, 0.23830121755599976, 0.23827111721038818, 0.23820875585079193, 0.23813438415527344, 0.2380596101284027, 0.23789064586162567, 0.2379031479358673, 0.23783338069915771, 0.23766998946666718, 0.2376861274242401, 0.23759537935256958, 0.23747749626636505, 0.23736707866191864, 0.2373810112476349, 0.2373032122850418, 0.23713579773902893, 0.2370602786540985, 0.23705914616584778, 0.23690640926361084, 0.2368306964635849, 0.23684364557266235, 0.23671168088912964, 0.23668493330478668, 0.23659953474998474, 0.23653165996074677, 0.23644258081912994, 0.2363739013671875, 0.23629483580589294, 0.2362135350704193, 0.23612402379512787, 0.23605765402317047, 0.2359638214111328, 0.23580831289291382, 0.2357250452041626, 0.23573869466781616, 0.23565536737442017, 0.23557902872562408, 0.23549336194992065, 0.23541384935379028, 0.23531414568424225, 0.2352471947669983, 0.2350746989250183, 0.235071063041687, 0.2350035309791565, 0.23482757806777954, 0.2348264753818512, 0.2347387820482254, 0.23466186225414276, 0.234533429145813, 0.23445001244544983, 0.2343420535326004, 0.23433394730091095, 0.23424029350280762, 0.23415374755859375, 0.23402899503707886, 0.23398171365261078, 0.2338181883096695, 0.2338121235370636, 0.23372957110404968, 0.2336527705192566, 0.2335662543773651, 0.23347772657871246, 0.23329904675483704, 0.23330166935920715, 0.23321199417114258, 0.2330535650253296, 0.2330283522605896, 0.23295460641384125, 0.23277807235717773, 0.23277777433395386, 0.23261916637420654, 0.23259180784225464, 0.23246446251869202, 0.23241621255874634, 0.23233556747436523, 0.23224546015262604, 0.23215556144714355, 0.23197144269943237, 0.23197494447231293, 0.23179087042808533, 0.2317865788936615, 0.23163047432899475, 0.23152673244476318, 0.23152375221252441, 0.23134315013885498, 0.23133334517478943, 0.23125039041042328, 0.23114126920700073, 0.2310580611228943, 0.23096704483032227, 0.23087269067764282, 0.23079465329647064, 0.23068344593048096, 0.23060834407806396, 0.23050746321678162, 0.23037242889404297, 0.23027794063091278, 0.23021948337554932, 0.23012831807136536, 0.22999858856201172, 0.22995267808437347, 0.2298564463853836, 0.22975000739097595, 0.22966864705085754, 0.22948095202445984, 0.22946150600910187, 0.2293860763311386, 0.22928756475448608, 0.2291044294834137, 0.22910115122795105, 0.2289980798959732, 0.22881413996219635, 0.22871452569961548, 0.22866462171077728, 0.22860419750213623, 0.22847020626068115, 0.22841928899288177, 0.22832068800926208, 0.22813132405281067, 0.2281114161014557, 0.22795972228050232, 0.2279333472251892, 0.2278376966714859, 0.2277369201183319, 0.22755102813243866, 0.2274942547082901, 0.22744421660900116, 0.22727271914482117, 0.22724506258964539, 0.22705969214439392, 0.22703422605991364, 0.2269497960805893, 0.2268301248550415, 0.22673359513282776, 0.22656652331352234, 0.2265574336051941, 0.2264343798160553, 0.22630953788757324, 0.22623872756958008, 0.2260589897632599, 0.22595755755901337, 0.2259472906589508, 0.22576496005058289, 0.22573989629745483, 0.22555646300315857, 0.22554951906204224, 0.22536180913448334, 0.22534966468811035, 0.2252437323331833, 0.22505901753902435, 0.22504684329032898, 0.22494029998779297, 0.22483980655670166, 0.22472158074378967, 0.22463521361351013, 0.2245170772075653, 0.22438861429691315, 0.2243063598871231, 0.22422832250595093, 0.22407983243465424, 0.22401826083660126, 0.22387206554412842, 0.22380048036575317, 0.22370289266109467, 0.22358572483062744, 0.22350476682186127, 0.22338822484016418, 0.22325412929058075, 0.22315016388893127, 0.2230817675590515, 0.22290962934494019, 0.22279517352581024, 0.22276802361011505, 0.22267216444015503, 0.2225552648305893, 0.22242391109466553, 0.22226639091968536, 0.222243070602417, 0.22214673459529877, 0.2219487428665161, 0.22193366289138794, 0.22174589335918427, 0.2217116504907608, 0.2216213196516037, 0.22147518396377563, 0.22136954963207245, 0.22126404941082, 0.22112810611724854, 0.22108851373195648, 0.22094571590423584, 0.22080959379673004, 0.2207769751548767, 0.2206561416387558, 0.22049260139465332, 0.22043490409851074, 0.22033937275409698, 0.22017787396907806, 0.22012096643447876, 0.21999894082546234, 0.21993350982666016, 0.21973305940628052, 0.2197163850069046, 0.2195986956357956, 0.2194223254919052, 0.21938425302505493, 0.21929267048835754, 0.2191886603832245, 0.21907374262809753, 0.21889200806617737, 0.21882998943328857, 0.21868093311786652, 0.21856403350830078, 0.21854139864444733, 0.2184278666973114, 0.21833457052707672, 0.2182258665561676, 0.21810445189476013, 0.21801058948040009, 0.21789538860321045, 0.21779561042785645, 0.21761231124401093, 0.2175159901380539, 0.2174791395664215, 0.21728089451789856, 0.21719485521316528, 0.21713832020759583, 0.21697433292865753, 0.21686887741088867, 0.21684060990810394, 0.21673201024532318, 0.21662768721580505, 0.216516375541687, 0.21639496088027954, 0.21621260046958923, 0.21618443727493286, 0.21608778834342957, 0.21595340967178345, 0.21587619185447693, 0.21575181186199188, 0.21558332443237305, 0.21555064618587494, 0.21537944674491882, 0.21525081992149353, 0.21523244678974152, 0.21509841084480286, 0.21499699354171753, 0.21487879753112793, 0.21473807096481323, 0.21462252736091614, 0.21457315981388092, 0.21448372304439545, 0.21436548233032227, 0.2141982465982437, 0.2141573280096054, 0.21404701471328735, 0.21395017206668854, 0.21378090977668762, 0.21373999118804932, 0.21363495290279388, 0.2135135531425476, 0.21334689855575562, 0.21331655979156494, 0.2132079005241394, 0.2130088210105896, 0.2129727452993393, 0.21285635232925415, 0.21278011798858643, 0.21260492503643036, 0.21257153153419495, 0.21245929598808289, 0.212290421128273, 0.2122248411178589, 0.21214544773101807, 0.21200695633888245, 0.21192136406898499, 0.21182353794574738, 0.21170222759246826, 0.21153847873210907, 0.21150124073028564, 0.2113293707370758, 0.21128685772418976, 0.21112418174743652, 0.21105735003948212, 0.21090850234031677, 0.21078747510910034, 0.21074114739894867, 0.2105971872806549, 0.21054643392562866, 0.21045976877212524, 0.2102804034948349, 0.21024753153324127, 0.21011151373386383, 0.2099647969007492, 0.20993618667125702, 0.2098173201084137, 0.20972681045532227, 0.2095295637845993, 0.2094832807779312, 0.20939359068870544, 0.20930811762809753, 0.20912955701351166, 0.20900851488113403, 0.20898565649986267, 0.20887897908687592, 0.20871305465698242, 0.20867502689361572, 0.20851005613803864, 0.20846407115459442, 0.20836582779884338, 0.20823433995246887, 0.20816507935523987, 0.2079896330833435, 0.20795464515686035, 0.20785358548164368, 0.20773673057556152, 0.20762136578559875, 0.20754142105579376, 0.20734815299510956, 0.20733313262462616, 0.20714181661605835, 0.20712482929229736, 0.20701895654201508, 0.20691323280334473, 0.2068047821521759, 0.20671916007995605, 0.2065829038619995, 0.20642343163490295, 0.2063235640525818, 0.20624159276485443, 0.20620368421077728, 0.20609122514724731, 0.20593613386154175, 0.20581430196762085, 0.2057369202375412, 0.20567107200622559, 0.20558930933475494, 0.20549637079238892, 0.20536601543426514, 0.20528395473957062, 0.20510134100914001, 0.20505940914154053, 0.20497165620326996, 0.2048746943473816, 0.20476944744586945, 0.20459306240081787, 0.20457687973976135, 0.20445188879966736, 0.2043093889951706, 0.20426389575004578, 0.2041482776403427, 0.20404699444770813, 0.20396830141544342, 0.20384544134140015, 0.20370988547801971, 0.20366892218589783, 0.20354318618774414, 0.20345306396484375, 0.20337358117103577, 0.20325329899787903, 0.203166201710701, 0.20307092368602753, 0.20289331674575806, 0.20279332995414734, 0.20271915197372437, 0.2026187926530838, 0.20257225632667542, 0.20248055458068848, 0.20239318907260895, 0.20228910446166992, 0.20218035578727722, 0.20208153128623962, 0.2019743025302887, 0.20189806818962097, 0.20180261135101318, 0.2016163319349289, 0.20159822702407837, 0.20147909224033356, 0.20138493180274963, 0.20131327211856842, 0.20121325552463531, 0.20111778378486633, 0.20095880329608917, 0.20092974603176117, 0.20080390572547913, 0.20073792338371277, 0.20061521232128143, 0.2005254328250885, 0.20044177770614624, 0.20028537511825562, 0.20024706423282623, 0.20009776949882507, 0.19997571408748627, 0.19996823370456696, 0.19980613887310028, 0.19971418380737305, 0.19962157309055328, 0.1995302140712738, 0.19945892691612244, 0.1993735134601593, 0.19928008317947388, 0.1991782784461975, 0.19910815358161926, 0.19902002811431885, 0.1989165097475052, 0.1987752914428711, 0.1987321376800537, 0.19863256812095642, 0.19854140281677246, 0.19844749569892883, 0.19832491874694824, 0.19826529920101166, 0.19817456603050232, 0.1980704963207245, 0.19792592525482178, 0.19788900017738342, 0.19778303802013397, 0.19770067930221558, 0.19760572910308838, 0.19749215245246887, 0.19741760194301605, 0.19732585549354553, 0.19722777605056763, 0.19713738560676575, 0.19698156416416168, 0.19694101810455322, 0.19683393836021423, 0.1967158168554306, 0.19665664434432983, 0.1965630203485489, 0.19649268686771393, 0.1963953673839569, 0.19628584384918213, 0.19612979888916016, 0.19610899686813354, 0.19594494998455048, 0.1959134042263031, 0.19583441317081451, 0.19571453332901, 0.19560576975345612, 0.19550591707229614, 0.19548095762729645, 0.19535712897777557, 0.1952933967113495, 0.19520211219787598, 0.19511237740516663, 0.1949603408575058, 0.1948966383934021, 0.1947895884513855, 0.19474993646144867, 0.1946377158164978, 0.1945367455482483, 0.19445770978927612, 0.19438162446022034, 0.19428585469722748, 0.19419506192207336, 0.19408351182937622, 0.193993479013443, 0.1939263641834259, 0.1938326507806778, 0.19375158846378326, 0.1936475783586502, 0.1935712695121765, 0.19348421692848206, 0.1933612823486328, 0.19324132800102234, 0.19319364428520203, 0.19307273626327515, 0.19302666187286377, 0.1929457038640976, 0.19284676015377045, 0.19272767007350922, 0.19267414510250092, 0.19252453744411469, 0.1924903690814972, 0.19232851266860962, 0.1922907829284668, 0.19221889972686768, 0.19214032590389252, 0.19204029440879822, 0.19195717573165894, 0.191872239112854, 0.19178742170333862, 0.19161760807037354, 0.19152985513210297, 0.1914418637752533, 0.1914304494857788, 0.1913074105978012, 0.19124864041805267, 0.19115805625915527, 0.19103898108005524, 0.190909743309021, 0.1908935010433197, 0.19080477952957153, 0.1906447410583496, 0.19063395261764526, 0.1905333399772644, 0.19045034050941467, 0.19035615026950836, 0.19019606709480286, 0.1901097595691681, 0.19006265699863434, 0.18997588753700256, 0.18986846506595612, 0.1898350715637207, 0.18967556953430176, 0.18961630761623383, 0.18952631950378418, 0.18940481543540955, 0.1893833577632904, 0.1893053501844406, 0.18918824195861816, 0.1891137659549713, 0.18896342813968658, 0.18892434239387512, 0.18886129558086395, 0.18872083723545074, 0.1886570155620575, 0.18854889273643494, 0.1884451061487198, 0.18842799961566925, 0.18828751146793365, 0.18826088309288025, 0.18813975155353546, 0.1880064159631729, 0.18797551095485687, 0.18782676756381989, 0.18781080842018127, 0.18770994246006012, 0.18763695657253265, 0.18754445016384125, 0.18745429813861847, 0.18735581636428833, 0.18727359175682068, 0.18718895316123962, 0.1871059089899063, 0.1870061159133911, 0.18688049912452698, 0.18679122626781464, 0.1867448389530182, 0.18665559589862823, 0.1865690052509308, 0.18644893169403076, 0.18638989329338074, 0.18626651167869568, 0.1862153261899948, 0.18611079454421997, 0.18596139550209045, 0.185946986079216, 0.18584828078746796, 0.18576616048812866, 0.18562614917755127, 0.18555253744125366, 0.1854706108570099, 0.1853782683610916, 0.18525588512420654, 0.18524718284606934, 0.18511514365673065, 0.18503592908382416, 0.18498337268829346, 0.1848742812871933, 0.1847686767578125, 0.1846548616886139, 0.18458595871925354, 0.18452143669128418, 0.1843719184398651, 0.18432745337486267, 0.1842598021030426, 0.1841747760772705, 0.18407247960567474, 0.1839684098958969, 0.18383722007274628, 0.18379303812980652, 0.18367888033390045, 0.183641254901886, 0.1834830343723297, 0.18346156179904938, 0.18337762355804443, 0.18321487307548523, 0.1831982135772705, 0.18307235836982727, 0.18300428986549377, 0.18285436928272247, 0.18283729255199432, 0.18274329602718353, 0.1825810670852661, 0.18254950642585754, 0.18246223032474518, 0.18235161900520325, 0.18228279054164886, 0.18214449286460876, 0.18211056292057037, 0.1820179522037506, 0.1818721890449524, 0.18182924389839172, 0.18175268173217773, 0.1816195398569107, 0.18156875669956207, 0.18147322535514832, 0.18138128519058228, 0.18127509951591492, 0.18112467229366302, 0.18109087646007538, 0.1809568554162979, 0.18092121183872223, 0.18079954385757446, 0.1807398796081543, 0.18064410984516144, 0.180522158741951, 0.18045243620872498, 0.18036632239818573, 0.1802774965763092, 0.1801726073026657, 0.18001757562160492, 0.17994272708892822, 0.1798965036869049, 0.1798122227191925, 0.17972318828105927, 0.17960627377033234, 0.17952756583690643, 0.17943641543388367, 0.17934489250183105, 0.1792365312576294, 0.17915281653404236, 0.17905214428901672, 0.17889311909675598, 0.1788311004638672, 0.17873722314834595, 0.17867784202098846, 0.17851382493972778, 0.17843526601791382, 0.1784023642539978, 0.178283229470253, 0.1781998872756958, 0.1780995875597, 0.1779424250125885, 0.17786338925361633, 0.1778150349855423, 0.17769673466682434, 0.1776258796453476, 0.17753039300441742, 0.1773982048034668, 0.17733550071716309, 0.17721262574195862, 0.1771390587091446, 0.17701923847198486, 0.1768989861011505, 0.176839217543602, 0.17671804130077362, 0.17663004994392395, 0.17655563354492188, 0.17645853757858276, 0.17636090517044067, 0.17621006071567535, 0.17613017559051514, 0.17606081068515778, 0.1759588122367859, 0.1758575290441513, 0.17573119699954987, 0.17563512921333313, 0.1755620241165161, 0.17546974122524261, 0.1753113716840744, 0.17521309852600098, 0.17516575753688812, 0.17507056891918182, 0.17492812871932983, 0.1748594492673874, 0.17472143471240997, 0.1746492087841034, 0.1745517998933792, 0.17445459961891174, 0.17434830963611603, 0.17424440383911133, 0.17408832907676697, 0.17398574948310852, 0.1738840788602829, 0.1737823337316513, 0.1737365871667862, 0.1735914945602417, 0.17351886630058289, 0.17337894439697266, 0.17327629029750824, 0.17315071821212769, 0.1730702519416809, 0.17299208045005798, 0.17289134860038757, 0.1727639138698578, 0.17267073690891266, 0.17254841327667236, 0.17240555584430695, 0.172333762049675, 0.17223984003067017, 0.1720983386039734, 0.17203325033187866, 0.17191487550735474, 0.17175596952438354, 0.17167019844055176, 0.17158722877502441, 0.17144614458084106, 0.17137111723423004, 0.1712108552455902, 0.1710878312587738, 0.17104870080947876, 0.1708948016166687, 0.1707707643508911, 0.17067673802375793, 0.17059743404388428, 0.17045235633850098, 0.1703777015209198, 0.17026445269584656, 0.1701442152261734, 0.17002983391284943, 0.16992245614528656, 0.16975542902946472, 0.1696290373802185, 0.1695299595594406, 0.16946613788604736, 0.16931885480880737, 0.1691967397928238, 0.1691165268421173, 0.1690106987953186, 0.16888126730918884, 0.1687314212322235, 0.16866075992584229, 0.16849859058856964, 0.16841378808021545, 0.16824623942375183, 0.16814729571342468, 0.16805624961853027, 0.16792048513889313, 0.16782072186470032, 0.16766932606697083, 0.1675417423248291, 0.167422354221344, 0.16734012961387634, 0.16715410351753235, 0.16706159710884094, 0.16697530448436737, 0.16686031222343445, 0.16672560572624207, 0.1666058450937271, 0.16647906601428986, 0.16635774075984955, 0.1662302166223526, 0.1661100536584854, 0.16593101620674133, 0.16585108637809753, 0.16573061048984528, 0.16558295488357544, 0.1654375195503235, 0.16534535586833954, 0.1652185320854187, 0.16508141160011292, 0.16493430733680725, 0.16483557224273682, 0.1647065281867981, 0.16458195447921753, 0.16441380977630615, 0.1642855405807495, 0.1641208827495575, 0.16405558586120605, 0.1638738214969635, 0.16374239325523376, 0.1636255979537964, 0.16349396109580994, 0.1633949875831604, 0.16323775053024292, 0.16305968165397644, 0.16293951869010925, 0.1628231555223465, 0.16265973448753357, 0.16257518529891968, 0.16243526339530945, 0.16225935518741608, 0.1621699333190918, 0.16203150153160095, 0.1619034707546234, 0.16174262762069702, 0.16158539056777954, 0.1614764928817749, 0.16129836440086365, 0.1611694097518921, 0.16099874675273895, 0.1608598530292511, 0.16071930527687073, 0.16062471270561218, 0.1604471206665039, 0.1603332757949829, 0.1602010279893875, 0.160056009888649, 0.15986746549606323, 0.15972870588302612, 0.15961214900016785, 0.15945889055728912, 0.1592789888381958, 0.15916074812412262, 0.15901997685432434, 0.15887100994586945, 0.15872322022914886, 0.1585424840450287, 0.15838439762592316, 0.1582793891429901, 0.15805849432945251, 0.15797032415866852, 0.15775448083877563, 0.15767285227775574, 0.15747219324111938, 0.1573200225830078, 0.15720248222351074, 0.15702176094055176, 0.15687653422355652, 0.15673430263996124, 0.1565607190132141, 0.1563507616519928, 0.1562056839466095, 0.15603721141815186, 0.1559421867132187, 0.15578263998031616, 0.15561003983020782, 0.15545974671840668, 0.1553027331829071, 0.15514056384563446, 0.15491175651550293, 0.15475055575370789, 0.15458905696868896, 0.1544470191001892, 0.1542818248271942, 0.15410618484020233, 0.15392976999282837, 0.15381339192390442, 0.15361937880516052, 0.1534951627254486, 0.15330207347869873, 0.1531536877155304, 0.15297947824001312, 0.15281254053115845, 0.1526363492012024, 0.15242999792099, 0.15229082107543945, 0.15206092596054077, 0.1519010365009308, 0.15178309381008148, 0.15155261754989624, 0.15143105387687683, 0.1512121558189392, 0.15102370083332062, 0.15088669955730438, 0.15071964263916016, 0.15050208568572998, 0.15031789243221283, 0.1501639038324356, 0.1499600112438202, 0.1498022824525833, 0.14960670471191406, 0.14942030608654022, 0.14923223853111267, 0.1490386426448822, 0.1488688588142395, 0.1487014889717102, 0.14852005243301392, 0.1483093649148941, 0.14811305701732635, 0.1479170322418213, 0.14778797328472137, 0.1475822627544403, 0.147372305393219, 0.14716288447380066, 0.14700493216514587, 0.14684438705444336, 0.14659300446510315, 0.14643344283103943, 0.14624899625778198, 0.1460808962583542, 0.1458510011434555, 0.14568322896957397, 0.14543111622333527, 0.14526520669460297, 0.14510035514831543, 0.1448851376771927, 0.14468950033187866, 0.14450222253799438, 0.14424651861190796, 0.14410588145256042, 0.14387249946594238, 0.14366981387138367, 0.14350265264511108, 0.14326739311218262, 0.1431068629026413, 0.14287018775939941, 0.14269286394119263, 0.14243227243423462, 0.14222905039787292, 0.14203625917434692, 0.14184433221817017, 0.14161649346351624, 0.14146791398525238, 0.14121674001216888, 0.14098745584487915, 0.14080531895160675, 0.14063039422035217, 0.1403592824935913, 0.14018501341342926, 0.13996976613998413, 0.13971799612045288, 0.13953709602355957, 0.13931189477443695, 0.13909874856472015, 0.13891775906085968, 0.13865837454795837, 0.1384284496307373, 0.13821285963058472, 0.1380269080400467, 0.13779622316360474, 0.13757440447807312, 0.1373460292816162, 0.1371724009513855, 0.13689741492271423, 0.1366782933473587, 0.1364709883928299, 0.13628603518009186, 0.13604247570037842, 0.1358131766319275, 0.13556167483329773, 0.13537101447582245, 0.13516944646835327, 0.13491690158843994, 0.13469171524047852, 0.13446058332920074, 0.13426072895526886, 0.13399258255958557, 0.13375532627105713, 0.1335677057504654, 0.13333792984485626, 0.13308502733707428, 0.13285315036773682, 0.13264480233192444, 0.13238558173179626, 0.13217854499816895, 0.13191121816635132, 0.13171634078025818, 0.1314501166343689, 0.13120850920677185, 0.131005197763443, 0.130724236369133, 0.1304892748594284, 0.13029542565345764, 0.13001514971256256, 0.12979410588741302, 0.12952737510204315, 0.12929674983024597, 0.12905016541481018, 0.12881238758563995, 0.12862977385520935, 0.12836016714572906, 0.1281457245349884, 0.12790314853191376, 0.12761077284812927, 0.12738877534866333, 0.1271461546421051, 0.12687642872333527, 0.1266387701034546, 0.12640893459320068, 0.12618710100650787, 0.12589715421199799, 0.12565095722675323, 0.12540560960769653, 0.12520720064640045, 0.12492487579584122, 0.1246640607714653, 0.12440921366214752, 0.12415578961372375, 0.1239568442106247, 0.12371058762073517, 0.1234145388007164, 0.12317907065153122, 0.12290475517511368, 0.12267598509788513, 0.12241185456514359, 0.12217147648334503, 0.12194779515266418, 0.121696338057518, 0.12139028310775757, 0.12115989625453949, 0.12088264524936676, 0.12068086862564087, 0.12042605131864548, 0.12017098069190979, 0.11986774951219559, 0.1196318194270134, 0.11935300379991531, 0.11909264326095581, 0.11883699893951416, 0.11860710382461548, 0.11832532286643982, 0.11808132380247116, 0.11785126477479935, 0.11756406724452972, 0.11730743944644928, 0.1170818954706192, 0.11677026748657227, 0.11653468012809753, 0.11626993864774704, 0.11601623147726059, 0.11574506759643555, 0.11552181839942932, 0.11522844433784485, 0.11500058323144913, 0.11471221596002579, 0.11442697793245316, 0.11416727304458618, 0.11390351504087448, 0.11364191770553589, 0.11343119293451309, 0.11316804587841034, 0.11290454864501953, 0.11258713155984879, 0.11237594485282898, 0.1121070384979248, 0.11181345582008362, 0.11155997216701508, 0.11132171750068665, 0.11105511337518692, 0.1107572466135025, 0.11048074066638947, 0.1102403998374939, 0.10994837433099747, 0.10973438620567322, 0.10946609824895859, 0.10920442640781403, 0.10891097038984299, 0.10867638140916824, 0.1083701029419899, 0.10812351107597351, 0.10783708095550537, 0.10756561160087585, 0.10730011016130447, 0.10704746097326279, 0.10682056844234467, 0.10652611404657364, 0.10625418275594711, 0.10597410053014755, 0.10571396350860596, 0.10547073185443878, 0.1051761656999588, 0.1049400120973587, 0.1046578586101532, 0.10438168048858643, 0.10416671633720398, 0.10386648774147034, 0.10359179973602295, 0.10331704467535019, 0.10305558145046234, 0.10279102623462677, 0.10252968966960907, 0.10231729596853256, 0.10199839621782303, 0.10175292193889618, 0.10148072242736816, 0.10121705383062363, 0.10095034539699554, 0.10072165727615356, 0.10042086243629456, 0.10019493103027344, 0.09988173097372055, 0.09961891919374466, 0.09937961399555206, 0.09911850094795227, 0.09886985272169113, 0.09859072417020798, 0.09834650158882141, 0.09804759919643402, 0.0978013426065445, 0.09753842651844025, 0.09726003557443619, 0.0969812273979187, 0.09677344560623169, 0.09647592902183533, 0.09622461348772049, 0.09593457728624344, 0.0957266166806221, 0.09544551372528076, 0.09515468776226044, 0.0948934257030487, 0.09465033560991287, 0.09439343214035034, 0.094167560338974, 0.09387451410293579, 0.09360312670469284, 0.09336865693330765, 0.09309089183807373, 0.09282998740673065, 0.09258482605218887, 0.09231247007846832, 0.09206977486610413, 0.09181340038776398, 0.09154748171567917, 0.09132348001003265, 0.09106675535440445, 0.09077390283346176, 0.09055027365684509, 0.0902462899684906, 0.090023934841156, 0.08973628282546997, 0.08952721208333969, 0.08927769958972931, 0.0889926627278328, 0.08876986801624298, 0.08846764266490936, 0.08821551501750946, 0.08796433359384537, 0.08773037791252136, 0.08747883886098862, 0.08724306523799896, 0.08697444200515747, 0.08672380447387695, 0.08647821843624115, 0.08622531592845917, 0.08600889146327972, 0.08575581014156342, 0.0854768306016922, 0.08525930345058441, 0.08497174084186554, 0.08477050065994263, 0.08447559922933578, 0.08424526453018188, 0.0840303897857666, 0.08378797024488449, 0.08350053429603577, 0.08325864374637604, 0.08302740752696991, 0.08280754089355469, 0.08256406337022781, 0.08232592046260834, 0.082052081823349, 0.08184011280536652, 0.0815681740641594, 0.08133932203054428, 0.08111803233623505, 0.08084550499916077, 0.08059657365083694, 0.0803714394569397, 0.08015808463096619, 0.07989329099655151, 0.07967400550842285, 0.07940976321697235, 0.07919800281524658, 0.07897841185331345, 0.07874329388141632, 0.0785052627325058, 0.07826195657253265, 0.07804185897111893, 0.0777680054306984, 0.07754916697740555, 0.07731407880783081, 0.07707002013921738, 0.07685717195272446, 0.07660956680774689, 0.07638583332300186, 0.07615463435649872, 0.07594156265258789, 0.0757397711277008, 0.07549109309911728, 0.07525665313005447, 0.07503657788038254, 0.07480236887931824, 0.07457974553108215, 0.07437273114919662, 0.07414651662111282, 0.07393017411231995, 0.07367374002933502, 0.07348619401454926, 0.07324537634849548, 0.07300464808940887, 0.0727858766913414, 0.07258337736129761, 0.07234657555818558, 0.07214528322219849, 0.07193820923566818, 0.07170239835977554, 0.07147535681724548, 0.07130027562379837, 0.07106001675128937, 0.07085304707288742, 0.07065115869045258, 0.07043402642011642, 0.07019610702991486, 0.07000827044248581, 0.06976491212844849, 0.06958918273448944, 0.06936384737491608, 0.06916520744562149, 0.06892184913158417, 0.06871028244495392, 0.06853999942541122, 0.06830547749996185, 0.06812240183353424, 0.06789246946573257, 0.0677129402756691, 0.06748732924461365, 0.06728949397802353, 0.06708391010761261, 0.06686285138130188, 0.06666607409715652, 0.06648284941911697, 0.06628088653087616, 0.06608016788959503, 0.06587935984134674, 0.06566973775625229, 0.06545951217412949, 0.0652773380279541, 0.06507080793380737, 0.06485924124717712, 0.06465626507997513, 0.06449063867330551, 0.06427639722824097, 0.06409120559692383, 0.06387083977460861, 0.06371165812015533, 0.06350116431713104, 0.06330153346061707, 0.06311655044555664, 0.06293089687824249, 0.06275110691785812, 0.06253642588853836, 0.06236771494150162, 0.06217128783464432, 0.06197597086429596, 0.06180301308631897, 0.06158620864152908, 0.06142418831586838, 0.061230339109897614, 0.061057936400175095, 0.060876183211803436, 0.06069112569093704, 0.06050053983926773, 0.06032488867640495, 0.06014236435294151, 0.05993855744600296, 0.05977042391896248, 0.05956888198852539, 0.059412676841020584, 0.059231262654066086, 0.05906134471297264, 0.058876778930425644, 0.05867991968989372, 0.05850006639957428, 0.05835336074233055, 0.0581643208861351, 0.057996004819869995, 0.05780257284641266, 0.05764811486005783, 0.05746075138449669, 0.05729556828737259, 0.05711164325475693, 0.05694572255015373, 0.0567932054400444, 0.056619007140398026, 0.05645281821489334, 0.056272219866514206, 0.05609854310750961, 0.05593140050768852, 0.0557708665728569, 0.05561589449644089, 0.05544428527355194, 0.05528442561626434, 0.05512002483010292, 0.054955773055553436, 0.054765574634075165, 0.05462345480918884, 0.0544542595744133, 0.0542856827378273, 0.05411761254072189, 0.053971175104379654, 0.053797025233507156, 0.05363841354846954, 0.05348768085241318, 0.05334564298391342, 0.053187597543001175, 0.05300801992416382, 0.052855610847473145, 0.05271947756409645, 0.05256521701812744, 0.05238666757941246, 0.05224567651748657, 0.05208039656281471, 0.05193211883306503, 0.051773808896541595, 0.05163475126028061, 0.051471732556819916, 0.05132601782679558, 0.051176413893699646, 0.05102727934718132, 0.05088232830166817, 0.05073767527937889, 0.05059313029050827, 0.050429366528987885, 0.05029807984828949, 0.05014016479253769, 0.04999923333525658, 0.049857351928949356, 0.04970283433794975, 0.04955795407295227, 0.0494045689702034, 0.04928017407655716, 0.04913295805454254, 0.04899044334888458, 0.04884278029203415, 0.048701830208301544, 0.04856150597333908, 0.04843180254101753, 0.04828750342130661, 0.04814301058650017, 0.04799984395503998, 0.047855064272880554, 0.04773755371570587, 0.04759643226861954, 0.047462210059165955, 0.04731347784399986, 0.047192126512527466, 0.047055479139089584, 0.04692288115620613, 0.04678882285952568, 0.04664124175906181, 0.04650558903813362, 0.046388618648052216, 0.04624178260564804, 0.04612347111105919, 0.045995816588401794, 0.04585173726081848, 0.04573170095682144, 0.04558699205517769, 0.04547194764018059, 0.045339107513427734, 0.04520639404654503, 0.045074213296175, 0.04496530443429947, 0.04482673853635788, 0.04471183940768242, 0.04458412528038025, 0.04446161910891533, 0.044324640184640884, 0.04420135170221329, 0.0440865233540535, 0.043964456766843796, 0.04383862763643265, 0.04370858147740364, 0.04358215630054474, 0.043477728962898254, 0.04334976151585579, 0.0432286337018013, 0.04310773313045502]\n",
      "2000\n"
     ]
    },
    {
     "data": {
      "text/plain": [
       "[<matplotlib.lines.Line2D at 0x7ffa7e52fa20>]"
      ]
     },
     "execution_count": 50,
     "metadata": {
      "tags": []
     },
     "output_type": "execute_result"
    },
    {
     "data": {
      "image/png": "[encoded data removed]",
      "text/plain": [
       "<Figure size 432x288 with 1 Axes>"
      ]
     },
     "metadata": {
      "needs_background": "light",
      "tags": []
     },
     "output_type": "display_data"
    }
   ],
   "source": [
    "# 딥러닝을 학습시킬 때 가장 많이 보게 될 그래프 : 학습 잘되고 있는지 확인하기 위한 측정치(metric) 변화량을 나타내는 선 그래프\n",
    "# 분류 등에서는 정확도(accuracy) 등 다른 측정치도 관찰\n",
    "# 3.28에서 model.fit할 때의 내용(tf.keras가 학습을 진행한 내용)을 history라는 변수에 저장했음\n",
    "print(history)\n",
    "print(history.params)\n",
    "print(history.history['loss'])\n",
    "print(len(history.history['loss']))  # 2000번 학습할 때의 그 손실을 리스트로 출력\n",
    "plt.plot(history.history['loss'])  # 손실을 시각화해서 신경망 네트워크의 학습 현황을 한눈에 파악 가능\n",
    "# 손실이 급격히 감소하는지, 서서히 감소하는 지를 눈으로 한눈에 알아볼 수 있음."
   ]
  }
 ],
 "metadata": {
  "accelerator": "GPU",
  "colab": {
   "collapsed_sections": [
    "JcJVHd0VxHV4",
    "_Sqr7NjCxHV4",
    "NZIK3A_wxHV4",
    "fYExl8HbxHV5"
   ],
   "name": "Chapter3.ipynb",
   "provenance": []
  },
  "kernelspec": {
   "display_name": "Python 3",
   "language": "python",
   "name": "python3"
  },
  "language_info": {
   "codemirror_mode": {
    "name": "ipython",
    "version": 3
   },
   "file_extension": ".py",
   "mimetype": "text/x-python",
   "name": "python",
   "nbconvert_exporter": "python",
   "pygments_lexer": "ipython3",
   "version": "3.7.9"
  }
 },
 "nbformat": 4,
 "nbformat_minor": 4
}
