{
 "cells": [
  {
   "cell_type": "code",
   "execution_count": 1,
   "metadata": {},
   "outputs": [],
   "source": [
    "import tensorflow as tf"
   ]
  },
  {
   "cell_type": "code",
   "execution_count": 2,
   "metadata": {},
   "outputs": [
    {
     "data": {
      "text/plain": [
       "<tf.Tensor: shape=(1,), dtype=float32, numpy=array([0.7900951], dtype=float32)>"
      ]
     },
     "execution_count": 2,
     "metadata": {},
     "output_type": "execute_result"
    }
   ],
   "source": [
    "rand = tf.random.uniform([1], 0, 1)\n",
    "rand\n",
    "# 출력값 : <tf.Tensor: shape=(1,), dtype=float32, numpy=array([0.40041852], dtype=float32)>\n",
    "# Tensor 라는 객체 반환\n",
    "# Tensor 참조 문서 : https://www.tensorflow.org/api_docs/python/tf/Tensor\n",
    "# shape : Numpy 배열의 크기\n",
    "# tensorflow의 data type 참조 문서 : https://www.tensorflow.org/api_docs/python/tf/dtypes/DType"
   ]
  },
  {
   "cell_type": "code",
   "execution_count": 3,
   "metadata": {},
   "outputs": [
    {
     "data": {
      "text/plain": [
       "<tf.Tensor: shape=(1,), dtype=float64, numpy=array([0.62903476])>"
      ]
     },
     "execution_count": 3,
     "metadata": {},
     "output_type": "execute_result"
    }
   ],
   "source": [
    "rand2 = tf.random.uniform([1], 0, 1, dtype=tf.dtypes.float64)  # 균일분포\n",
    "                                                               # dtype 지정 가능\n",
    "rand2"
   ]
  },
  {
   "cell_type": "code",
   "execution_count": 4,
   "metadata": {},
   "outputs": [
    {
     "data": {
      "text/plain": [
       "<tf.Tensor: shape=(4,), dtype=float64, numpy=array([0.9202414 , 0.93086986, 0.93180397, 0.16154772])>"
      ]
     },
     "execution_count": 4,
     "metadata": {},
     "output_type": "execute_result"
    }
   ],
   "source": [
    "rand3 = tf.random.uniform([4], 0, 1, dtype=tf.dtypes.float64)\n",
    "rand3"
   ]
  },
  {
   "cell_type": "code",
   "execution_count": 5,
   "metadata": {},
   "outputs": [
    {
     "data": {
      "text/plain": [
       "<tf.Tensor: shape=(2, 2), dtype=float64, numpy=\n",
       "array([[0.02668646, 0.18663054],\n",
       "       [0.84789366, 0.97926003]])>"
      ]
     },
     "execution_count": 5,
     "metadata": {},
     "output_type": "execute_result"
    }
   ],
   "source": [
    "rand3 = tf.random.uniform([2,2], 0, 1, dtype=tf.dtypes.float64)\n",
    "rand3"
   ]
  },
  {
   "cell_type": "code",
   "execution_count": 6,
   "metadata": {},
   "outputs": [
    {
     "data": {
      "text/plain": [
       "TensorShape([1])"
      ]
     },
     "execution_count": 6,
     "metadata": {},
     "output_type": "execute_result"
    }
   ],
   "source": [
    "rand2.shape"
   ]
  },
  {
   "cell_type": "code",
   "execution_count": 7,
   "metadata": {},
   "outputs": [
    {
     "data": {
      "text/plain": [
       "tf.float64"
      ]
     },
     "execution_count": 7,
     "metadata": {},
     "output_type": "execute_result"
    }
   ],
   "source": [
    "rand2.dtype"
   ]
  },
  {
   "cell_type": "code",
   "execution_count": 8,
   "metadata": {},
   "outputs": [
    {
     "data": {
      "text/plain": [
       "1"
      ]
     },
     "execution_count": 8,
     "metadata": {},
     "output_type": "execute_result"
    }
   ],
   "source": [
    "rand2.ndim"
   ]
  },
  {
   "cell_type": "code",
   "execution_count": 9,
   "metadata": {},
   "outputs": [
    {
     "data": {
      "text/plain": [
       "2"
      ]
     },
     "execution_count": 9,
     "metadata": {},
     "output_type": "execute_result"
    }
   ],
   "source": [
    "rand3.ndim"
   ]
  },
  {
   "cell_type": "code",
   "execution_count": 10,
   "metadata": {},
   "outputs": [
    {
     "data": {
      "text/plain": [
       "<tf.Tensor: shape=(2, 2), dtype=float32, numpy=\n",
       "array([[ 0.679577  ,  0.9739455 ],\n",
       "       [ 2.481045  , -0.42814425]], dtype=float32)>"
      ]
     },
     "execution_count": 10,
     "metadata": {},
     "output_type": "execute_result"
    }
   ],
   "source": [
    "rand = tf.random.normal([2,2], 0, 1)  # 정규분포\n",
    "rand"
   ]
  },
  {
   "cell_type": "code",
   "execution_count": 11,
   "metadata": {},
   "outputs": [
    {
     "data": {
      "text/plain": [
       "<tf.Tensor: shape=(4,), dtype=float32, numpy=array([10.6838665,  4.329226 , 13.134554 ,  9.815259 ], dtype=float32)>"
      ]
     },
     "execution_count": 11,
     "metadata": {},
     "output_type": "execute_result"
    }
   ],
   "source": [
    "rand2 = tf.random.normal([4], 10, 2)\n",
    "rand2"
   ]
  },
  {
   "cell_type": "code",
   "execution_count": 12,
   "metadata": {},
   "outputs": [],
   "source": [
    "# 활성화함수 sigmoid 정의\n",
    "import math\n",
    "def sigmoid(x):\n",
    "    return 1 / (1 + math.exp(-x))"
   ]
  },
  {
   "cell_type": "code",
   "execution_count": 13,
   "metadata": {},
   "outputs": [
    {
     "name": "stdout",
     "output_type": "stream",
     "text": [
      "0.2814401647917762\n"
     ]
    }
   ],
   "source": [
    "# 3.11 뉴런의 입력과 출력 정의\n",
    "x = 1  # 입력\n",
    "y = 0  # 기대출력\n",
    "w = tf.random.normal([1], 0, 1)  # 입력의 가중치\n",
    "output = sigmoid(x * w)\n",
    "print(output)  # 출력"
   ]
  },
  {
   "cell_type": "code",
   "execution_count": 14,
   "metadata": {},
   "outputs": [
    {
     "data": {
      "text/plain": [
       "-0.2814401647917762"
      ]
     },
     "execution_count": 14,
     "metadata": {},
     "output_type": "execute_result"
    }
   ],
   "source": [
    "y - output  # 오류 = 기대출력 - 출력"
   ]
  },
  {
   "cell_type": "code",
   "execution_count": 15,
   "metadata": {},
   "outputs": [
    {
     "name": "stdout",
     "output_type": "stream",
     "text": [
      "99 -0.08988775145368233 0.08988775145368233\n",
      "199 -0.04878003726786652 0.04878003726786652\n",
      "299 -0.033202194205919904 0.033202194205919904\n",
      "399 -0.0250977091016917 0.0250977091016917\n",
      "499 -0.02014887266030027 0.02014887266030027\n",
      "599 -0.016819268075775537 0.016819268075775537\n",
      "699 -0.014428433175174038 0.014428433175174038\n",
      "799 -0.012629580528800016 0.012629580528800016\n",
      "899 -0.011227624341879263 0.011227624341879263\n",
      "999 -0.010104613912926661 0.010104613912926661\n"
     ]
    }
   ],
   "source": [
    "# 3.12 경사하강법을 이용한 뉴런의 학습\n",
    "x = 1\n",
    "y = 0\n",
    "w = tf.random.normal([1], 0, 1)\n",
    "\n",
    "for i in range(1000):\n",
    "    output = sigmoid(x * w)\n",
    "    error = y - output\n",
    "    w = w + x * 0.1 * error  # 학습률 = 0.1\n",
    "    \n",
    "    if i % 100 == 99:\n",
    "        print(i, error, output)\n",
    "# 0.12에서 0.01까지 내려감\n",
    "# 예측출력 0에 가까워짐"
   ]
  },
  {
   "cell_type": "code",
   "execution_count": 16,
   "metadata": {},
   "outputs": [
    {
     "name": "stdout",
     "output_type": "stream",
     "text": [
      "99 0.5 0.5\n",
      "199 0.5 0.5\n",
      "299 0.5 0.5\n",
      "399 0.5 0.5\n",
      "499 0.5 0.5\n",
      "599 0.5 0.5\n",
      "699 0.5 0.5\n",
      "799 0.5 0.5\n",
      "899 0.5 0.5\n",
      "999 0.5 0.5\n"
     ]
    }
   ],
   "source": [
    "# 3.13 x = 0, y = 1일 때의 경사하강법을 이용한 뉴런의 학습\n",
    "x = 0\n",
    "y = 1\n",
    "w = tf.random.normal([1], 0, 1)\n",
    "\n",
    "for i in range(1000):\n",
    "    output = sigmoid(x * w)\n",
    "    error = y - output\n",
    "    w = w + x * 0.1 * error  # 학습률 = 0.1\n",
    "    \n",
    "    if i % 100 == 99:\n",
    "        print(i, error, output)\n",
    "\n",
    "# x = 0이므로 error값, w값이 변화하지 않음.\n",
    "# 뉴런이 학습을 하지 못함.\n",
    "# 한쪽으로 치우쳐진 상황임\n",
    "\n",
    "# 해결방법 : 편향(bias)값을 줌."
   ]
  },
  {
   "cell_type": "code",
   "execution_count": 17,
   "metadata": {},
   "outputs": [
    {
     "name": "stdout",
     "output_type": "stream",
     "text": [
      "99 0.12250498884498218 0.8774950111550178\n",
      "199 0.057557198467882986 0.942442801532117\n",
      "299 0.03712497894320144 0.9628750210567986\n",
      "399 0.02729720777651856 0.9727027922234814\n",
      "499 0.02155016907954277 0.9784498309204572\n",
      "599 0.017788128068461417 0.9822118719315386\n",
      "699 0.015137487339494715 0.9848625126605053\n",
      "799 0.01317052438459898 0.986829475615401\n",
      "899 0.011653741125976613 0.9883462588740234\n",
      "999 0.010448827586676424 0.9895511724133236\n"
     ]
    }
   ],
   "source": [
    "# 3.14. x = 0, y = 0, 편향 추가\n",
    "x = 0\n",
    "y = 1\n",
    "w = tf.random.normal([1], 0, 1)\n",
    "b = tf.random.normal([1], 0, 1)  # bias(편향) 추가\n",
    "\n",
    "for i in range(1000):\n",
    "    output = sigmoid(x * w + 1 * b)  # 편향의 입력으로는 보통 1 사용\n",
    "    error = y - output\n",
    "    w = w + x * 0.1 * error\n",
    "    b = b + 1 * 0.1 * error\n",
    "    \n",
    "    if i % 100 == 99:\n",
    "        print(i, error, output)\n",
    "# 0.89에서 0.99까지 올라감\n",
    "# 예측출력 1에 가까워짐"
   ]
  },
  {
   "cell_type": "code",
   "execution_count": 18,
   "metadata": {},
   "outputs": [
    {
     "name": "stdout",
     "output_type": "stream",
     "text": [
      "199 -0.10732952767638354\n",
      "399 -0.06464610390439707\n",
      "599 -0.046131692197569255\n",
      "799 -0.035759046362695425\n",
      "999 -0.02914236243602561\n",
      "1199 -0.02456404306939842\n",
      "1399 -0.0212134978076773\n",
      "1599 -0.018657838730796544\n",
      "1799 -0.01664470253276492\n",
      "1999 -0.015019130318228305\n"
     ]
    }
   ],
   "source": [
    "# 3.16 첫 번째 신경망 네트워크 : AND\n",
    "import numpy as np\n",
    "x = np.array([   # 입력값\n",
    "    [1, 1],\n",
    "    [1, 0],\n",
    "    [0, 1],\n",
    "    [0, 0]\n",
    "])\n",
    "y = np.array([   # 기대출력\n",
    "    [1],\n",
    "    [0],\n",
    "    [0],\n",
    "    [0] \n",
    "])\n",
    "w = tf.random.normal([2], 0, 1)  # 입력값의 가중치\n",
    "                                 # 입력1, 입력2 -> 2개니까 가중치도 각각해서 총 2개\n",
    "b = tf.random.normal([1], 0, 1)  # 편향(bias)\n",
    "b_x = 1                          # 편향의 입력값\n",
    "alpha = 0.1                      # 학습률\n",
    "\n",
    "for i in range(2000):  # 학습수 : 2000번\n",
    "    error_sum = 0\n",
    "    for j in range(4): # 한 번 학습할 때마다 데이터 4개를 입력하니까\n",
    "        output =  sigmoid(np.sum(x[j] * w) + b_x * b)  # 입력값 * 가중치를 다 더함\n",
    "                                                       # 데이터 4개 + 편향 전체의 (입력값 * 가중치)의 합\n",
    "                                                       # 참고) numpy의 ndarray는 *할 때 shape에 맞게 알아서 조절이 된다.\n",
    "        error = y[j][0] - output  # 오차값 = 기대출력 - 출력\n",
    "        \n",
    "        # 경사하강법에 의한 가중치, 편향의 조정\n",
    "        w = w + x[j] * alpha * error\n",
    "        b = b + b_x * alpha * error\n",
    "        error_sum += error                             # 데이터별로 error 나오니까 데이터 4개의 에러총 합이 학습 1번할때마다의 오류\n",
    "    if i % 200 == 199:\n",
    "        print(i, error_sum)\n",
    "# print(x[0])  # [1 1]\n",
    "# print(x[1])  # [1 0]\n",
    "# print(x[2])  # [0 1]\n",
    "# print(x[3])  # [0 0]\n",
    "# print(w)  # 만약 [1.02~ 0.85~] 라면\n",
    "# print(x[0] * w)  # [1 1] * [1.02~ 0.85~] = [1.02~ 0.85~]\n",
    "# print(x[1] * w)  # [1 0] * [1.02~ 0.85~] = [1.02~ 0.]\n",
    "# print(x[0] * w + x[1] * w + x[2] * w + x[3] * w + b_x * b)  # 각각의 입력값 * 가중치를 다 더한게 output. 출력값."
   ]
  },
  {
   "cell_type": "code",
   "execution_count": 19,
   "metadata": {},
   "outputs": [
    {
     "name": "stdout",
     "output_type": "stream",
     "text": [
      "X: [1 1] Y: [1] Output: 0.9649359755836532\n",
      "X: [1 0] Y: [0] Output: 0.024848036424332202\n",
      "X: [0 1] Y: [0] Output: 0.02492386267145816\n",
      "X: [0 0] Y: [0] Output: 2.3667358365141617e-05\n"
     ]
    }
   ],
   "source": [
    "# AND 신경망 네트워크 평가\n",
    "# 학습 2000번 시킨 후의 결과로 평가\n",
    "for i in range(4):\n",
    "    print(\"X:\", x[i], \"Y:\", y[i], \"Output:\", sigmoid(np.sum(x[i] * w) + b_x * b))"
   ]
  },
  {
   "cell_type": "code",
   "execution_count": 20,
   "metadata": {},
   "outputs": [
    {
     "name": "stdout",
     "output_type": "stream",
     "text": [
      "199 -0.04495503624295849\n",
      "399 -0.024346006885461305\n",
      "599 -0.016663041929525987\n",
      "799 -0.012632437155711683\n",
      "999 -0.010156128870869204\n",
      "1199 -0.008483337966036786\n",
      "1399 -0.007279484354753771\n",
      "1599 -0.006371815786535742\n",
      "1799 -0.00566463047676094\n",
      "1999 -0.005096254555767867\n"
     ]
    }
   ],
   "source": [
    "# 3.21 두 번째 신경망 네트워크 : OR\n",
    "x = np.array([\n",
    "    [1, 1],\n",
    "    [1, 0],\n",
    "    [0, 1],\n",
    "    [0, 0]\n",
    "])\n",
    "y = np.array([\n",
    "    [1],\n",
    "    [1],\n",
    "    [1],\n",
    "    [0]\n",
    "])\n",
    "w = tf.random.normal([2], 0, 1)\n",
    "b = tf.random.normal([1], 0, 1)\n",
    "b_x = 1\n",
    "alpha = 0.1\n",
    "\n",
    "for i in range(2000):\n",
    "    error_sum = 0\n",
    "    for j in range(4):\n",
    "        output = sigmoid(np.sum(x[j] * w) + b_x * b)\n",
    "        error = y[j][0] - output\n",
    "        \n",
    "        # 경사하강법에 의한 가중치, 편향의 조정\n",
    "        w = w + x[j] * alpha * error\n",
    "        b = b + b_x * alpha * error\n",
    "        \n",
    "        error_sum += error\n",
    "    if i % 200 == 199:\n",
    "        print(i, error_sum)"
   ]
  },
  {
   "cell_type": "code",
   "execution_count": 21,
   "metadata": {},
   "outputs": [
    {
     "name": "stdout",
     "output_type": "stream",
     "text": [
      "X: [1 1] Y: [1] Output: 0.9999972920472859\n",
      "X: [1 0] Y: [1] Output: 0.9898734607168455\n",
      "X: [0 1] Y: [1] Output: 0.9898928769856092\n",
      "X: [0 0] Y: [0] Output: 0.025270064526535845\n"
     ]
    }
   ],
   "source": [
    "# OR 신경망 네트워크 평가\n",
    "# 학습 2000번 시킨 후의 결과로 평가\n",
    "for i in range(4):\n",
    "    print(\"X:\", x[i], \"Y:\", y[i], \"Output:\", sigmoid(np.sum(x[i] * w) + b_x * b))"
   ]
  },
  {
   "cell_type": "code",
   "execution_count": 22,
   "metadata": {},
   "outputs": [
    {
     "name": "stdout",
     "output_type": "stream",
     "text": [
      "199 -0.001598492994095535\n",
      "399 -6.499538410842387e-05\n",
      "599 -2.6460087578783487e-06\n",
      "799 -1.3774515783548935e-07\n",
      "999 3.722842145670313e-09\n",
      "1199 3.722842145670313e-09\n",
      "1399 3.722842145670313e-09\n",
      "1599 3.722842145670313e-09\n",
      "1799 3.722842145670313e-09\n",
      "1999 3.722842145670313e-09\n"
     ]
    }
   ],
   "source": [
    "# 3.23 세 번째 신경망 네트워크 : XOR\n",
    "x = np.array([\n",
    "    [1, 1],\n",
    "    [1, 0],\n",
    "    [0, 1],\n",
    "    [0, 0]\n",
    "])\n",
    "y = np.array([\n",
    "    [0],\n",
    "    [1],\n",
    "    [1],\n",
    "    [0]\n",
    "])\n",
    "w = tf.random.normal([2], 0, 1)\n",
    "b = tf.random.normal([1], 0, 1)\n",
    "b_x = 1\n",
    "alpha = 0.1\n",
    "\n",
    "for i in range(2000):\n",
    "    error_sum = 0\n",
    "    for j in range(4):\n",
    "        output = sigmoid(np.sum(x[j] * w) + b_x * b)\n",
    "        error = y[j][0] - output\n",
    "        \n",
    "        w = w + x[j] * 0.1 * error\n",
    "        b = b + b_x * 0.1 * error\n",
    "        \n",
    "        error_sum += error\n",
    "    \n",
    "    if i % 200 == 199:\n",
    "        print(i, error_sum)"
   ]
  },
  {
   "cell_type": "code",
   "execution_count": 23,
   "metadata": {},
   "outputs": [
    {
     "name": "stdout",
     "output_type": "stream",
     "text": [
      "X: [1 1] Y: [0] Output: 0.5128176286712095\n",
      "X: [1 0] Y: [1] Output: 0.5128176305326305\n",
      "X: [0 1] Y: [1] Output: 0.4999999990686774\n",
      "X: [0 0] Y: [0] Output: 0.5000000009313226\n"
     ]
    }
   ],
   "source": [
    "# XOR 신경망 네트워크 평가\n",
    "# 학습 2000번 시킨 후의 결과로 평가\n",
    "for i in range(4):\n",
    "    print(\"X:\", x[i], \"Y:\", y[i], \"Output:\", sigmoid(np.sum(x[i] * w) + b_x * b))"
   ]
  }
 ],
 "metadata": {
  "kernelspec": {
   "display_name": "Python 3",
   "language": "python",
   "name": "python3"
  },
  "language_info": {
   "codemirror_mode": {
    "name": "ipython",
    "version": 3
   },
   "file_extension": ".py",
   "mimetype": "text/x-python",
   "name": "python",
   "nbconvert_exporter": "python",
   "pygments_lexer": "ipython3",
   "version": "3.7.9"
  }
 },
 "nbformat": 4,
 "nbformat_minor": 4
}
