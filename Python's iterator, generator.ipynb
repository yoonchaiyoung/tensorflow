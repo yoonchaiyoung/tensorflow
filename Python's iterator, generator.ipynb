{
 "cells": [
  {
   "cell_type": "markdown",
   "metadata": {},
   "source": [
    "## python의 iterable\n",
    "- iterable object(=iterator) : member를 하나씩 반환할 수 있는 object\n",
    "- ex) sequence type, list, str, tuple\n",
    "\n",
    "- iterator pattern : 데이터 type의 내부 구현 노출 X,\n",
    "- 포함하고 있는 요소들을 순회할 수 있는 방법을 제공하는 패턴"
   ]
  },
  {
   "cell_type": "markdown",
   "metadata": {},
   "source": [
    "## 메소드\n",
    "- iter(iterable객체) : iterable객체의 iterator를 출력\n",
    "- next(iterator객체) : iterator객체의 다음 요소를 출력\n",
    "    - 더 이상 next 요소가 없으면 StopIteration Exception을 발생"
   ]
  },
  {
   "cell_type": "code",
   "execution_count": 1,
   "metadata": {},
   "outputs": [
    {
     "name": "stdout",
     "output_type": "stream",
     "text": [
      "0\n",
      "1\n",
      "2\n"
     ]
    }
   ],
   "source": [
    "for i in range(0, 3):\n",
    "    print(i)\n",
    "# list : iterable : member를 차례대로 불러와서 쓸 수 있다."
   ]
  },
  {
   "cell_type": "code",
   "execution_count": 2,
   "metadata": {},
   "outputs": [
    {
     "name": "stdout",
     "output_type": "stream",
     "text": [
      "a\n",
      "b\n",
      "c\n"
     ]
    }
   ],
   "source": [
    "x = {'a':1, 'b':2, 'c':3}\n",
    "for i in x:\n",
    "    print(i)\n",
    "# dictionary : iterable"
   ]
  },
  {
   "cell_type": "code",
   "execution_count": 3,
   "metadata": {},
   "outputs": [],
   "source": [
    "# iterator : next() 함수로 데이터를 순차적으로 호출가능한 object\n",
    "# ietrable 하다고해서 반드시 iterator인 것은 아니다."
   ]
  },
  {
   "cell_type": "code",
   "execution_count": 4,
   "metadata": {},
   "outputs": [
    {
     "name": "stdout",
     "output_type": "stream",
     "text": [
      "<class 'list'>\n",
      "<class 'list_iterator'>\n",
      "<list_iterator object at 0x00000167F2CE5348>\n",
      "1\n",
      "2\n",
      "3\n",
      "4\n",
      "5\n"
     ]
    }
   ],
   "source": [
    "x = [1, 2, 3, 4, 5]\n",
    "print(type(x))\n",
    "iterx = iter(x)\n",
    "print(type(iterx))\n",
    "print(iterx)\n",
    "print(next(iterx))\n",
    "print(next(iterx))\n",
    "print(next(iterx))\n",
    "print(next(iterx))\n",
    "print(next(iterx))"
   ]
  },
  {
   "cell_type": "code",
   "execution_count": 5,
   "metadata": {},
   "outputs": [
    {
     "name": "stdout",
     "output_type": "stream",
     "text": [
      "<class 'list'>\n"
     ]
    }
   ],
   "source": [
    "x = [1, 2, 3, 4, 5]\n",
    "print(type(x))"
   ]
  },
  {
   "cell_type": "code",
   "execution_count": 6,
   "metadata": {},
   "outputs": [
    {
     "name": "stdout",
     "output_type": "stream",
     "text": [
      "<class 'list'>\n",
      "<list_iterator object at 0x00000167F2CA6B48>\n",
      "1\n"
     ]
    }
   ],
   "source": [
    "x = [1, 2]\n",
    "print(type(x))\n",
    "iterx = iter(x)\n",
    "print(iterx)\n",
    "print(next(iterx))"
   ]
  },
  {
   "cell_type": "code",
   "execution_count": 7,
   "metadata": {},
   "outputs": [],
   "source": [
    "# next() 함수를 이용해서 다음을 가져온다."
   ]
  },
  {
   "cell_type": "code",
   "execution_count": 8,
   "metadata": {},
   "outputs": [
    {
     "name": "stdout",
     "output_type": "stream",
     "text": [
      "[[1, 2, 3, 4, 5], ['a', 'b', 'c', 'd'], ['third string', 'is', 'list_third~~'], [10]]\n",
      "<list_iterator object at 0x00000167F2CED308>\n",
      "<class 'list_iterator'>\n",
      "iterList의 원소를 next() 함수로 꺼내보자\n",
      "[1, 2, 3, 4, 5]\n",
      "iterList의 원소를 next() 함수로 꺼내보자\n",
      "['a', 'b', 'c', 'd']\n",
      "iterList의 원소를 next() 함수로 꺼내보자\n",
      "['third string', 'is', 'list_third~~']\n",
      "iterList의 원소를 next() 함수로 꺼내보자\n",
      "[10]\n"
     ]
    }
   ],
   "source": [
    "# iterator Test\n",
    "list1 = [1, 2, 3, 4, 5]\n",
    "list2 = ['a', 'b', 'c', 'd']\n",
    "list3 = ['third string', 'is', 'list_third~~']\n",
    "list4 = [10]\n",
    "listSum = []\n",
    "listSum.append(list1)\n",
    "listSum.append(list2)\n",
    "listSum.append(list3)\n",
    "listSum.append(list4)\n",
    "print(listSum)\n",
    "iterList = iter(listSum)\n",
    "print(iterList)   # list_iterator의 원소는 출력한다고 보여지지 않음\n",
    "print(type(iterList))\n",
    "for i in range(4):\n",
    "    print(\"iterList의 원소를 next() 함수로 꺼내보자\")\n",
    "    print(next(iterList))   # next() 함수를 이용해서 원소를 한 개씩 꺼내줘야 함."
   ]
  },
  {
   "cell_type": "code",
   "execution_count": 9,
   "metadata": {},
   "outputs": [],
   "source": [
    "# iterList[0]  # list_iterator object is not subscriptable"
   ]
  },
  {
   "cell_type": "code",
   "execution_count": 10,
   "metadata": {},
   "outputs": [
    {
     "name": "stdout",
     "output_type": "stream",
     "text": [
      "{'a': 1, 'b': 2, 'c': 3}\n",
      "dict_keys(['a', 'b', 'c'])\n",
      "dict_values([1, 2, 3])\n"
     ]
    }
   ],
   "source": [
    "x = {'a':1, 'b':2, 'c':3}\n",
    "print(x)\n",
    "print(x.keys())\n",
    "print(x.values())"
   ]
  },
  {
   "cell_type": "code",
   "execution_count": 11,
   "metadata": {},
   "outputs": [
    {
     "name": "stdout",
     "output_type": "stream",
     "text": [
      "<dict_keyiterator object at 0x00000167F2CE44A8>\n",
      "<class 'dict_keyiterator'>\n",
      "a\n",
      "b\n",
      "c\n"
     ]
    }
   ],
   "source": [
    "x = {'a':1, 'b':2, 'c':3}\n",
    "iterX = iter(x)\n",
    "print(iterX)\n",
    "print(type(iterX))\n",
    "print(next(iterX))\n",
    "print(next(iterX))\n",
    "print(next(iterX))"
   ]
  },
  {
   "cell_type": "code",
   "execution_count": 12,
   "metadata": {},
   "outputs": [
    {
     "name": "stdout",
     "output_type": "stream",
     "text": [
      "{1, 2, 3}\n",
      "<class 'set'>\n",
      "<set_iterator object at 0x00000167F2CEF3B8>\n",
      "<class 'set_iterator'>\n",
      "1\n",
      "2\n",
      "3\n"
     ]
    }
   ],
   "source": [
    "x = {1, 2, 3}\n",
    "print(x)\n",
    "print(type(x))\n",
    "iterX = iter(x)\n",
    "print(iterX)\n",
    "print(type(iterX))\n",
    "print(next(iterX))\n",
    "print(next(iterX))\n",
    "print(next(iterX))"
   ]
  },
  {
   "cell_type": "code",
   "execution_count": 13,
   "metadata": {},
   "outputs": [],
   "source": [
    "# iterable을 iterator로 변환하고 싶으면 : iter() 함수 이용"
   ]
  },
  {
   "cell_type": "markdown",
   "metadata": {},
   "source": [
    "---"
   ]
  },
  {
   "cell_type": "markdown",
   "metadata": {},
   "source": [
    "## Generator(제너레이터)\n",
    "- itertator 의 특수한 한 형태\n",
    "- iterator를 생성해주는 함수\n",
    "- 함수 안에 yield 키워드 사용해서 데이터를 하나씩 리턴하는 함수\n",
    "- 함수 호출 > 함수 실행 중 처음으로 만나는 yield에서 값을 리턴\n",
    "- 변수에 generator 함수 할당 > 그 변수 : generator 클래스 객체가 됨."
   ]
  },
  {
   "cell_type": "markdown",
   "metadata": {},
   "source": [
    "### Generator 특징\n",
    "- 모든 generator는 iterator\n",
    "- 느슨하게 평가된다. (순서의 다음 값은 필요에 따라 계산된다.)\n",
    "- 함수의 내부 local 변수를 통해 내부 상태 유지\n",
    "- 무한한 순서가 있는 객체(끝이 없는 데이터 스트림) 모델링 가능\n",
    "- 자연스러운 스트림 처리를 위 파이프라인으로 구성 가능"
   ]
  },
  {
   "cell_type": "code",
   "execution_count": 14,
   "metadata": {},
   "outputs": [
    {
     "name": "stdout",
     "output_type": "stream",
     "text": [
      "<generator object gen at 0x00000167F2CF91C8>\n",
      "1\n",
      "1\n",
      "1\n"
     ]
    }
   ],
   "source": [
    "# Generator 함수\n",
    "def gen():\n",
    "    yield 1\n",
    "    yield 2\n",
    "    yield 3\n",
    "print(gen())\n",
    "print(next(gen()))\n",
    "print(next(gen()))\n",
    "print(next(gen()))"
   ]
  },
  {
   "cell_type": "code",
   "execution_count": 15,
   "metadata": {},
   "outputs": [
    {
     "name": "stdout",
     "output_type": "stream",
     "text": [
      "<class 'generator'>\n"
     ]
    }
   ],
   "source": [
    "# Generator 객체\n",
    "g = gen()\n",
    "print(type(g))"
   ]
  },
  {
   "cell_type": "code",
   "execution_count": 16,
   "metadata": {},
   "outputs": [
    {
     "name": "stdout",
     "output_type": "stream",
     "text": [
      "1\n",
      "2\n",
      "3\n"
     ]
    }
   ],
   "source": [
    "# next() 함수 사용\n",
    "n = next(g)\n",
    "print(n)\n",
    "n = next(g)\n",
    "print(n)\n",
    "n = next(g)\n",
    "print(n)"
   ]
  },
  {
   "cell_type": "code",
   "execution_count": 17,
   "metadata": {},
   "outputs": [
    {
     "name": "stdout",
     "output_type": "stream",
     "text": [
      "1\n",
      "2\n",
      "3\n"
     ]
    }
   ],
   "source": [
    "# for loop 사용 가능\n",
    "for x in gen():\n",
    "    print(x)"
   ]
  },
  {
   "cell_type": "markdown",
   "metadata": {},
   "source": [
    "## Sequence Data VS Generator\n",
    "- list, set... collection에 대한 iterator : 해당 collection이 이미 모든 값을 가지고 있다.\n",
    "- generator : 모든 데이터를 갖지 않은 상태에서 yield에 의해 하나씩만 데이터를 만들어 가져온다."
   ]
  },
  {
   "cell_type": "markdown",
   "metadata": {},
   "source": [
    "## Generator의 장점\n",
    "- 데이터가 무제한 또는 대량 -> 모든 데이터를 출력할 수 없는 경우 또는 일부씩 처리하는 것이 필요한 경우에 유용\n",
    "- 모든 데이터를 미리 계산하면 속도가 느려서 그때 그때 처리하는 것이 좋은 경우에 사용"
   ]
  },
  {
   "cell_type": "markdown",
   "metadata": {},
   "source": [
    "## Generator Expression (= Generator Comprehension)\n",
    "- list comprehension 과 유사\n",
    "- list comprehension : [...]\n",
    "- generator expression : (...)"
   ]
  },
  {
   "cell_type": "markdown",
   "metadata": {},
   "source": [
    "## Generator, list comprehension의 차이점\n",
    "- list comprehension : 데이터 전체 return\n",
    "- generator comprehension : 그 표현식만을 갖는 Generator 객체만 return\n",
    "    - 즉, 실제 실행은 하지 않는다.\n",
    "    - 표현식만 가지며 yield 방식으로 lazy operation한다.\n",
    "        - lazy operation (=lazy evaluation, 느긋한 계산법)이란? \n",
    "        - 계산의 결과값이 필요할 때까지 계산을 늦추는 기법\n",
    "        - 실행 더 빨리 가능\n",
    "        - 무한 자료 구조 사용 가능\n",
    "        - 이름으로 호출, 필요할 때 호출\n",
    "        "
   ]
  },
  {
   "cell_type": "code",
   "execution_count": 19,
   "metadata": {},
   "outputs": [
    {
     "name": "stdout",
     "output_type": "stream",
     "text": [
      "<class 'generator'>\n",
      "1\n",
      "4\n",
      "9\n",
      "16\n",
      "25\n",
      "36\n",
      "49\n",
      "64\n",
      "81\n",
      "100\n"
     ]
    }
   ],
   "source": [
    "# 1 ~ 1000까지의 숫자의 제곱\n",
    "# 기존의 방식\n",
    "# for i in range(1, 1001):\n",
    "#     print(i**2)\n",
    "\n",
    "# Generator 이용\n",
    "# Generator Expression (=Generator Comprehension)\n",
    "g = (n*n for n in range(1, 1001))\n",
    "\n",
    "print(type(g))\n",
    "# 출력값 : \n",
    "# <class 'generator'> # g : generator 객체\n",
    "\n",
    "# list로 한번에 보고 싶을 땐?\n",
    "# = 기존의 방식과 동일\n",
    "# mylist = list(g)\n",
    "# print(mylist)\n",
    "\n",
    "# 앞의 10개만 출력\n",
    "for i in range(10):\n",
    "    value = next(g)\n",
    "    print(value)\n",
    "\n",
    "# 나머지 모두 출력\n",
    "# for x in g:\n",
    "#     print(x)\n",
    "\n",
    "# 이렇게 원하는 만큼씩만 출력가능 -> 처리 속도 더 빠름!"
   ]
  },
  {
   "cell_type": "markdown",
   "metadata": {},
   "source": [
    "참고 : http://pythonstudy.xyz/python/article/23-Iterator%EC%99%80-Generator"
   ]
  }
 ],
 "metadata": {
  "kernelspec": {
   "display_name": "Python 3",
   "language": "python",
   "name": "python3"
  },
  "language_info": {
   "codemirror_mode": {
    "name": "ipython",
    "version": 3
   },
   "file_extension": ".py",
   "mimetype": "text/x-python",
   "name": "python",
   "nbconvert_exporter": "python",
   "pygments_lexer": "ipython3",
   "version": "3.7.9"
  }
 },
 "nbformat": 4,
 "nbformat_minor": 4
}
