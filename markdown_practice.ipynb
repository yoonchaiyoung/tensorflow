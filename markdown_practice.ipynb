{
 "cells": [
  {
   "cell_type": "markdown",
   "metadata": {},
   "source": [
    "visual studio code 에서 작성한 내용이 jupyter-lab에서도 정상작동하는지 확인"
   ]
  },
  {
   "cell_type": "markdown",
   "metadata": {},
   "source": [
    "# 코드\n",
    "```\n",
    "def test():\n",
    "    print(\"\")\n",
    "    \"i\" + \"b\"\n",
    "```\n",
    "\n",
    "<pre>\n",
    "홍홍홍 코드 내용\n",
    "</pre>\n",
    "\n",
    "언어설정\n",
    "```java\n",
    "def test():\n",
    "    print(\"\")\n",
    "    \"i\" + \"b\"\n",
    "```\n",
    "\n",
    "```python\n",
    "def test():\n",
    "    print(\"\")\n",
    "    \"i\" + \"b\"\n",
    "```\n",
    "\n",
    "언어에 맞게 색깔 변함\n",
    "\n",
    "```sh\n",
    "$ rm -rf /dir\n",
    "```\n",
    "이건 쉘~ 지금은 안 뜨는데 원래 색깔맞춰서 뜸\n",
    "\n",
    "코드를 문장 사이에 표시를 하고자 할 때!!\n",
    "\n",
    "텐서플로우 `python -c \"import tensofrow;` 테스트"
   ]
  },
  {
   "cell_type": "markdown",
   "metadata": {},
   "source": [
    "tex 문법 참조 링크 : https://ko.wikipedia.org/wiki/%EC%9C%84%ED%82%A4%EB%B0%B1%EA%B3%BC:TeX_%EB%AC%B8%EB%B2%95\n",
    "\n",
    "식\n",
    "\n",
    "$$\n",
    "C = \\frac{1}{2}\\sum_{n=1}^N(t_{n}-y)^2\n",
    "$$\n",
    "\n",
    "\n",
    "줄바꿈하면 안 됨 한 줄 안에 써야 함\n",
    "\n",
    "밑 지수 먼저\n",
    "승수 나중\n",
    "\n",
    "$$\n",
    "C = \\frac{1}{2}\\sum_{n=1}^N\\lVert t_{n} - y \\rVert_2^2 = \\frac{1}{2}\\sum_{n=1}^N\\sum_{i=1}^N(t_{n} - y_{i})^2\n",
    "$$\n",
    "\n",
    "\n",
    "문장안에 $C = \\frac{1}{2}\\sum_{n=1}^N(t_{n}-y)^2$ 식을 넣었다.\n",
    "\n",
    "\n",
    "#### 줄 바꿈\n",
    "$$\n",
    "C = \\frac{1}{2}\\sum_{n=1}^N(t_{n}-y)^2\\\\\n",
    "C = \\frac{1}{2}\\sum_{n=1}^N\\lVert t_{n} - y \\rVert_2^2 = \\frac{1}{2}\\sum_{n=1}^N\\sum_{i=1}^N(t_{n} - y_{i})^2\n",
    "$$\n",
    "\n",
    "식 뒤에 \\\\ 두개를 달면 자동 렌더링됨.\n",
    "\n",
    "\n",
    "$$\n",
    "a = \\frac{\\sum_{i=1}^n(y_{i}-\\bar{y})(x_{i}-\\bar{x})}{\\sum_{i=1}^n(x_{i}-\\bar{x})^2}\n",
    "$$\n",
    "\n"
   ]
  },
  {
   "cell_type": "markdown",
   "metadata": {},
   "source": [
    "# image\n",
    "\n",
    "![image.png](https://octodex.github.com/images/yaktocat.png)"
   ]
  },
  {
   "cell_type": "markdown",
   "metadata": {},
   "source": [
    "# image\n",
    "\n",
    "<img src='https://octodex.github.com/images/yaktocat.png' width=400>"
   ]
  }
 ],
 "metadata": {
  "kernelspec": {
   "display_name": "Python 3",
   "language": "python",
   "name": "python3"
  },
  "language_info": {
   "codemirror_mode": {
    "name": "ipython",
    "version": 3
   },
   "file_extension": ".py",
   "mimetype": "text/x-python",
   "name": "python",
   "nbconvert_exporter": "python",
   "pygments_lexer": "ipython3",
   "version": "3.7.9"
  }
 },
 "nbformat": 4,
 "nbformat_minor": 4
}
