{
 "cells": [
  {
   "cell_type": "markdown",
   "metadata": {},
   "source": [
    "# 텐서플로우(Tensorflow) 시작\n",
    "\n",
    "## Tensorflow 란?\n",
    "- 머신러닝을 위한 오픈소스 플랫폼\n",
    "- 구글이 개발한 플랫폼\n",
    "- TPU와 호환\n",
    "    - TPU(Tensor Processing Unit) 란?\n",
    "    - 구글에서 머신러닝과 딥러닝을 위해 설계한 하드웨어\n",
    "    - GPU보다 전력 적게 소모, 계산 속도 빠름\n",
    "- python, c++ api 기본적으로 제공\n",
    "- javascript, java, go, swift 등 다양한 프로그래밍 언어 지원\n",
    "- 모바일 기기, 웹, 임베디드 시스템 등 거의 모든 기기에서 실행 가능\n",
    "- Tensor 객체 이용해서 풍부한 연산 라이브러리 제공"
   ]
  },
  {
   "cell_type": "markdown",
   "metadata": {},
   "source": [
    "인공 신경망 계산시에 행렬 계산을 해주는 것 : tensorflow"
   ]
  },
  {
   "cell_type": "markdown",
   "metadata": {},
   "source": [
    "## Tensor 객체\n",
    "- 다차원 배열\n",
    "- Numpy ndarray 객체와 비슷\n",
    "- 데이터 타입, 크기 존재\n",
    "    - tf.shape\n",
    "    - tf.dtype\n",
    "- GPU 같은 가속기 메모리에 상주 가능\n",
    "- Numpy ndarray(배열) 객체와의 차이점\n",
    "    - Tensor는 가속기메모리(GPU, TPU 등)에서 사용 가능 > 속도 빠름\n",
    "    - Tensor는 불변성(immutable)\n",
    "- Numpy 호환성\n",
    "    - Tensorflow 연산 : 자동으로 Numpy 배열을 Tensor로 변환\n",
    "    - Numpy 연산 : 자동으로 Tensor를 Numpy 배열로 변환"
   ]
  },
  {
   "cell_type": "code",
   "execution_count": 1,
   "metadata": {},
   "outputs": [
    {
     "name": "stdout",
     "output_type": "stream",
     "text": [
      "2.1.0\n"
     ]
    }
   ],
   "source": [
    "import tensorflow as tf\n",
    "print(tf.__version__)"
   ]
  },
  {
   "cell_type": "code",
   "execution_count": 2,
   "metadata": {},
   "outputs": [],
   "source": [
    "import tensorflow as tf\n",
    "from IPython.display import display\n",
    "import PIL"
   ]
  },
  {
   "cell_type": "code",
   "execution_count": 3,
   "metadata": {},
   "outputs": [
    {
     "name": "stdout",
     "output_type": "stream",
     "text": [
      "[name: \"/device:CPU:0\"\n",
      "device_type: \"CPU\"\n",
      "memory_limit: 268435456\n",
      "locality {\n",
      "}\n",
      "incarnation: 8259109035148105365\n",
      "]\n"
     ]
    }
   ],
   "source": [
    "from tensorflow.python.client import device_lib\n",
    "print(device_lib.list_local_devices())"
   ]
  },
  {
   "cell_type": "code",
   "execution_count": 4,
   "metadata": {},
   "outputs": [
    {
     "name": "stderr",
     "output_type": "stream",
     "text": [
      "Using TensorFlow backend.\n"
     ]
    }
   ],
   "source": [
    "from keras import backend as K"
   ]
  },
  {
   "cell_type": "markdown",
   "metadata": {},
   "source": [
    "## 참고\n",
    "- Tensorflow Tutorial : https://www.tensorflow.org/tutorials?hl=ko\n",
    "- Tensorflow API : https://www.tensorflow.org/api_docs/python/tf?hl=ko"
   ]
  }
 ],
 "metadata": {
  "kernelspec": {
   "display_name": "Python 3",
   "language": "python",
   "name": "python3"
  },
  "language_info": {
   "codemirror_mode": {
    "name": "ipython",
    "version": 3
   },
   "file_extension": ".py",
   "mimetype": "text/x-python",
   "name": "python",
   "nbconvert_exporter": "python",
   "pygments_lexer": "ipython3",
   "version": "3.7.9"
  }
 },
 "nbformat": 4,
 "nbformat_minor": 4
}
