{
 "cells": [
  {
   "cell_type": "markdown",
   "metadata": {},
   "source": [
    "## 가변인자(Variable parameter)\n",
    "- index, keyword 인자의 갯수가 많아질 경우 사용\n",
    "- 인자의 갯수가 미정일 경우 사용\n",
    "- *args\n",
    "    - 가변 위치인자\n",
    "    - tuple 형태\n",
    "    - 함수 선언 : 위치인자로 들어온 값을 tuple 타입으로 packing\n",
    "    - 함수 호출 : tuple타입의 변수를 unpacking\n",
    "        - packing/unpacking 참조 : https://github.com/yoonchaiyoung/python-basics/blob/master/02/14.unpacking.py, https://python.bakyeono.net/chapter-5-5.html\n",
    "- **kwargs\n",
    "    - 가변 키워드인자\n",
    "    - dict 형태\n",
    "- 참조 : https://github.com/yoonchaiyoung/python-basics/blob/master/05/04.argument.py#L40"
   ]
  }
 ],
 "metadata": {
  "kernelspec": {
   "display_name": "Python 3",
   "language": "python",
   "name": "python3"
  },
  "language_info": {
   "codemirror_mode": {
    "name": "ipython",
    "version": 3
   },
   "file_extension": ".py",
   "mimetype": "text/x-python",
   "name": "python",
   "nbconvert_exporter": "python",
   "pygments_lexer": "ipython3",
   "version": "3.7.9"
  }
 },
 "nbformat": 4,
 "nbformat_minor": 4
}
