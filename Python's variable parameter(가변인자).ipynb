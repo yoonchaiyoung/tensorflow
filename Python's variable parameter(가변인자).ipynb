{
 "cells": [
  {
   "cell_type": "markdown",
   "metadata": {},
   "source": [
    "## 함수의 매개변수\n",
    "1. 위치기반 형태 : 순서대로 값 전달해야 함\n",
    "2. 이름기반 형태 : 매개변수 붙여주저야 함"
   ]
  },
  {
   "cell_type": "markdown",
   "metadata": {},
   "source": [
    "## 가변인자(Variable parameter)\n",
    "- index, keyword 인자의 갯수가 많아질 경우 사용\n",
    "- 인자의 갯수가 미정일 경우 사용\n",
    "- args, kwargs 라는 이름은 상관없음. 다른 걸로 바꿔도 됨.\n",
    "- *args\n",
    "    - 위치기반 매개변수의 모든 인자값 -> 튜플에 할당\n",
    "    - 가변 위치인자\n",
    "    - tuple 형태\n",
    "    - 함수 선언 : 위치인자로 들어온 값을 tuple 타입으로 packing\n",
    "    - 함수 호출 : tuple타입의 변수를 unpacking\n",
    "        - packing/unpacking 참조 : https://github.com/yoonchaiyoung/python-basics/blob/master/02/14.unpacking.py, https://python.bakyeono.net/chapter-5-5.html\n",
    "- **kwargs\n",
    "    - 이름기반 매개변수의 모든 인자값 -> 딕셔너리에 할당\n",
    "    - 가변 키워드인자\n",
    "    - dict 형태\n",
    "- 참조 : https://github.com/yoonchaiyoung/python-basics/blob/master/05/04.argument.py#L40"
   ]
  },
  {
   "cell_type": "markdown",
   "metadata": {},
   "source": [
    "### *args\n",
    "*args 매개변수는 갯수에 상관없이 위치기반으로 들어오는 모든 인자를 할당함"
   ]
  },
  {
   "cell_type": "code",
   "execution_count": 1,
   "metadata": {},
   "outputs": [],
   "source": [
    "def foo(*args):\n",
    "    return(args)\n",
    "# 들어오는 모든 인자값 -> args"
   ]
  },
  {
   "cell_type": "code",
   "execution_count": 2,
   "metadata": {},
   "outputs": [
    {
     "name": "stdout",
     "output_type": "stream",
     "text": [
      "()\n",
      "(1,)\n",
      "(1, 2)\n",
      "(1, 2, 3)\n"
     ]
    }
   ],
   "source": [
    "print(foo())\n",
    "print(foo(1))\n",
    "print(foo(1, 2))\n",
    "print(foo(1, 2, 3))"
   ]
  },
  {
   "cell_type": "code",
   "execution_count": 3,
   "metadata": {},
   "outputs": [],
   "source": [
    "def foo(x, *args):\n",
    "    return (\"x:\", x, \"args:\", args)\n",
    "# 첫 번째 인자값 -> x\n",
    "# 나머지 인자값 -> args"
   ]
  },
  {
   "cell_type": "code",
   "execution_count": 4,
   "metadata": {},
   "outputs": [
    {
     "name": "stdout",
     "output_type": "stream",
     "text": [
      "('x:', 1, 'args:', ())\n",
      "('x:', 1, 'args:', (2,))\n",
      "('x:', 1, 'args:', (2, 3))\n"
     ]
    }
   ],
   "source": [
    "print(foo(1))\n",
    "print(foo(1, 2))\n",
    "print(foo(1, 2, 3))"
   ]
  },
  {
   "cell_type": "markdown",
   "metadata": {},
   "source": [
    "### **kwargs"
   ]
  },
  {
   "cell_type": "code",
   "execution_count": 5,
   "metadata": {},
   "outputs": [],
   "source": [
    "def foo(**kwargs):\n",
    "    return (\"kwargs:\", kwargs)"
   ]
  },
  {
   "cell_type": "code",
   "execution_count": 6,
   "metadata": {},
   "outputs": [
    {
     "name": "stdout",
     "output_type": "stream",
     "text": [
      "('kwargs:', {})\n",
      "('kwargs:', {'a': 3})\n",
      "('kwargs:', {'a': 3, 'b': 10})\n"
     ]
    }
   ],
   "source": [
    "print(foo())\n",
    "print(foo(a = 3))\n",
    "print(foo(a = 3, b = 10))"
   ]
  },
  {
   "cell_type": "code",
   "execution_count": 7,
   "metadata": {},
   "outputs": [
    {
     "ename": "TypeError",
     "evalue": "foo() takes 0 positional arguments but 1 was given",
     "output_type": "error",
     "traceback": [
      "\u001b[1;31m---------------------------------------------------------------------------\u001b[0m",
      "\u001b[1;31mTypeError\u001b[0m                                 Traceback (most recent call last)",
      "\u001b[1;32m<ipython-input-7-5b7a202d59be>\u001b[0m in \u001b[0;36m<module>\u001b[1;34m\u001b[0m\n\u001b[1;32m----> 1\u001b[1;33m \u001b[0mprint\u001b[0m\u001b[1;33m(\u001b[0m\u001b[0mfoo\u001b[0m\u001b[1;33m(\u001b[0m\u001b[1;36m3\u001b[0m\u001b[1;33m)\u001b[0m\u001b[1;33m)\u001b[0m\u001b[1;33m\u001b[0m\u001b[1;33m\u001b[0m\u001b[0m\n\u001b[0m\u001b[0;32m      2\u001b[0m \u001b[1;31m# 변수명도 같이 제공해줘야 함!\u001b[0m\u001b[1;33m\u001b[0m\u001b[1;33m\u001b[0m\u001b[1;33m\u001b[0m\u001b[0m\n",
      "\u001b[1;31mTypeError\u001b[0m: foo() takes 0 positional arguments but 1 was given"
     ]
    }
   ],
   "source": [
    "print(foo(3))\n",
    "# 변수명도 같이 제공해줘야 함!"
   ]
  },
  {
   "cell_type": "markdown",
   "metadata": {},
   "source": [
    "### \\*args, **kwargs 같이 사용"
   ]
  },
  {
   "cell_type": "code",
   "execution_count": 8,
   "metadata": {},
   "outputs": [],
   "source": [
    "def foo(*args, **kwargs):\n",
    "    return (\"args:\", args, \"kwargs:\", kwargs)"
   ]
  },
  {
   "cell_type": "code",
   "execution_count": 9,
   "metadata": {},
   "outputs": [
    {
     "name": "stdout",
     "output_type": "stream",
     "text": [
      "('args:', (), 'kwargs:', {})\n",
      "('args:', (3,), 'kwargs:', {})\n",
      "('args:', (), 'kwargs:', {'a': 5})\n",
      "('args:', (3,), 'kwargs:', {'a': 5, 'b': 10})\n"
     ]
    }
   ],
   "source": [
    "print(foo())\n",
    "print(foo(3))\n",
    "print(foo(a=5))\n",
    "print(foo(3, a=5, b=10))"
   ]
  }
 ],
 "metadata": {
  "kernelspec": {
   "display_name": "Python 3",
   "language": "python",
   "name": "python3"
  },
  "language_info": {
   "codemirror_mode": {
    "name": "ipython",
    "version": 3
   },
   "file_extension": ".py",
   "mimetype": "text/x-python",
   "name": "python",
   "nbconvert_exporter": "python",
   "pygments_lexer": "ipython3",
   "version": "3.7.9"
  }
 },
 "nbformat": 4,
 "nbformat_minor": 4
}
