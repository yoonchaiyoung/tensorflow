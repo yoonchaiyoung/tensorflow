{
 "cells": [
  {
   "cell_type": "code",
   "execution_count": 1,
   "metadata": {},
   "outputs": [
    {
     "name": "stdout",
     "output_type": "stream",
     "text": [
      "['C:\\\\Users\\\\geunho\\\\tf2_workspace', 'C:\\\\Users\\\\geunho\\\\anaconda3\\\\envs\\\\tf2\\\\python37.zip', 'C:\\\\Users\\\\geunho\\\\anaconda3\\\\envs\\\\tf2\\\\DLLs', 'C:\\\\Users\\\\geunho\\\\anaconda3\\\\envs\\\\tf2\\\\lib', 'C:\\\\Users\\\\geunho\\\\anaconda3\\\\envs\\\\tf2', '', 'C:\\\\Users\\\\geunho\\\\AppData\\\\Roaming\\\\Python\\\\Python37\\\\site-packages', 'C:\\\\Users\\\\geunho\\\\anaconda3\\\\envs\\\\tf2\\\\lib\\\\site-packages', 'C:\\\\Users\\\\geunho\\\\anaconda3\\\\envs\\\\tf2\\\\lib\\\\site-packages\\\\win32', 'C:\\\\Users\\\\geunho\\\\anaconda3\\\\envs\\\\tf2\\\\lib\\\\site-packages\\\\win32\\\\lib', 'C:\\\\Users\\\\geunho\\\\anaconda3\\\\envs\\\\tf2\\\\lib\\\\site-packages\\\\Pythonwin', 'C:\\\\Users\\\\geunho\\\\anaconda3\\\\envs\\\\tf2\\\\lib\\\\site-packages\\\\IPython\\\\extensions', 'C:\\\\Users\\\\geunho\\\\.ipython']\n"
     ]
    }
   ],
   "source": [
    "# python 파일 탐색 경로\n",
    "import sys\n",
    "print(sys.path)"
   ]
  },
  {
   "cell_type": "code",
   "execution_count": 2,
   "metadata": {},
   "outputs": [
    {
     "name": "stdout",
     "output_type": "stream",
     "text": [
      "3\n",
      "1\n"
     ]
    }
   ],
   "source": [
    "# 모듈\n",
    "from mod1 import add\n",
    "from mod1 import sub\n",
    "\n",
    "print(add(1,2))\n",
    "print(sub(3,2))"
   ]
  },
  {
   "cell_type": "code",
   "execution_count": 3,
   "metadata": {},
   "outputs": [
    {
     "name": "stdout",
     "output_type": "stream",
     "text": [
      "hello\n"
     ]
    }
   ],
   "source": [
    "import mod1\n",
    "print(mod1.test)"
   ]
  },
  {
   "cell_type": "code",
   "execution_count": 5,
   "metadata": {},
   "outputs": [
    {
     "name": "stdout",
     "output_type": "stream",
     "text": [
      "3\n",
      "1\n"
     ]
    }
   ],
   "source": [
    "print(mod1.add(1,2))\n",
    "print(mod1.sub(3,2))"
   ]
  },
  {
   "cell_type": "code",
   "execution_count": 6,
   "metadata": {},
   "outputs": [
    {
     "name": "stdout",
     "output_type": "stream",
     "text": [
      "3\n"
     ]
    }
   ],
   "source": [
    "# 디렉토리를 패키지로 구분함\n",
    "import lib.mod1 as m1\n",
    "print(m1.add(1,2))"
   ]
  },
  {
   "cell_type": "code",
   "execution_count": 10,
   "metadata": {},
   "outputs": [],
   "source": [
    "# 매번\n",
    "# import myfont 를 할 때\n",
    "# 경로를 잡기 귀찮음\n",
    "import sys\n",
    "# sys.path\n",
    "sys.path.append('C:\\\\Users\\\\geunho\\\\tf2_workspace\\\\lib')  # myfont 가 들어있는 경로를 sys.path에 추가를 하면\n",
    "import myfont  # 자동으로 됨"
   ]
  },
  {
   "cell_type": "code",
   "execution_count": 11,
   "metadata": {},
   "outputs": [
    {
     "name": "stdout",
     "output_type": "stream",
     "text": [
      "['C:\\\\Users\\\\geunho\\\\tf2_workspace', 'C:\\\\Users\\\\geunho\\\\anaconda3\\\\envs\\\\tf2\\\\python37.zip', 'C:\\\\Users\\\\geunho\\\\anaconda3\\\\envs\\\\tf2\\\\DLLs', 'C:\\\\Users\\\\geunho\\\\anaconda3\\\\envs\\\\tf2\\\\lib', 'C:\\\\Users\\\\geunho\\\\anaconda3\\\\envs\\\\tf2', '', 'C:\\\\Users\\\\geunho\\\\AppData\\\\Roaming\\\\Python\\\\Python37\\\\site-packages', 'C:\\\\Users\\\\geunho\\\\anaconda3\\\\envs\\\\tf2\\\\lib\\\\site-packages', 'C:\\\\Users\\\\geunho\\\\anaconda3\\\\envs\\\\tf2\\\\lib\\\\site-packages\\\\win32', 'C:\\\\Users\\\\geunho\\\\anaconda3\\\\envs\\\\tf2\\\\lib\\\\site-packages\\\\win32\\\\lib', 'C:\\\\Users\\\\geunho\\\\anaconda3\\\\envs\\\\tf2\\\\lib\\\\site-packages\\\\Pythonwin', 'C:\\\\Users\\\\geunho\\\\anaconda3\\\\envs\\\\tf2\\\\lib\\\\site-packages\\\\IPython\\\\extensions', 'C:\\\\Users\\\\geunho\\\\.ipython', 'C:\\\\Users\\\\geunho\\\\tf2_workspace\\\\lib']\n"
     ]
    }
   ],
   "source": [
    "print(sys.path)\n",
    "## tf2_workspace\\\\lib 를 sys.path에 추가했음."
   ]
  }
 ],
 "metadata": {
  "kernelspec": {
   "display_name": "Python 3",
   "language": "python",
   "name": "python3"
  },
  "language_info": {
   "codemirror_mode": {
    "name": "ipython",
    "version": 3
   },
   "file_extension": ".py",
   "mimetype": "text/x-python",
   "name": "python",
   "nbconvert_exporter": "python",
   "pygments_lexer": "ipython3",
   "version": "3.7.9"
  }
 },
 "nbformat": 4,
 "nbformat_minor": 4
}
