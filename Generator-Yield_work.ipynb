{
 "cells": [
  {
   "cell_type": "markdown",
   "metadata": {},
   "source": [
    "# Generator\n",
    "\n",
    "-  http://stackoverflow.com/questions/231767/what-does-the-yield-keyword-do-in-python\n",
    "- https://wikidocs.net/22802 \n",
    "- python document 참조 : https://docs.python.org/ko/3/\n",
    "\n",
    "*generator* 는 *iterables* 를 이해애햐 한다.\n",
    "\n",
    "## Iterables\n",
    "\n",
    "*list*를 작성할 때, 리스트 항목을 하나씩 읽을 수 있다. 이렇게 하나씩 읽는 것을 **반복iteration** 이라고 한다.\n",
    "\n",
    "```python\n",
    ">>> mylist = [1,2,3,4]\n",
    ">>> for i in mylist:\n",
    ">>>     print(i)\n",
    "```\n",
    "\n",
    "여기서 mylist는 *iterable* 이다. *list* 연습을 사용할 때, 리스트를 생성하면 반복적iterable이 된다.\n",
    "\n",
    "```python\n",
    ">>> mylist = [x*x for x in range(3)]\n",
    ">>> for i in mylist:\n",
    ">>>     print(i)\n",
    "```\n",
    "\n",
    "\"**for...in...**\" 에서 iterable로 사용할 수 있다: lists, strings, files...\n",
    "\n",
    "이렇게 iterable은 원하는 만큼 손쉽게 사용할 수 있지만, 모든 변수를 메모리에 저장해야 하고 대량의 변수를 사용할 때 항상 원하는 결과를 얻지 못할 수 있다.\n"
   ]
  },
  {
   "cell_type": "markdown",
   "metadata": {},
   "source": [
    "### Iterable 개체\n",
    "\n",
    "iterable 객체 - 반복 가능한 객체로, \n",
    "\n",
    "대표적으로 iterable한 타입 - list, dict, set, str, bytes, tuple, range\n",
    "\n",
    "Comprehension `[v for...in...]` 으로 반복적인 iterable 리스트 개체를 만들 수 있다.\n",
    "\n",
    "\n",
    "ex:\n",
    "\n",
    "```python\n",
    "mylist = [x*x for x in range(10)]\n",
    "print(mylist)\n",
    "```"
   ]
  },
  {
   "cell_type": "markdown",
   "metadata": {},
   "source": [
    "#### Iterator\n",
    "\n",
    "iterator 객체 - 값을 차례대로 꺼낼 수 있는 객체입니다.\n",
    "iterator는 iterable한 객체를 내장함수 또는 iterable객체의 메소드로 객체를 생성할 수 있습니다.\n",
    "파이썬 내장함수 iter()를 사용해 iterator 객체를 만들어봅니다. \n",
    "\n",
    "\n",
    "ex:\n",
    "\n",
    "```python\n",
    "a = [1, 2, 3]\n",
    "a_iter = iter(a)\n",
    "type(a_iter)\n",
    "```"
   ]
  },
  {
   "cell_type": "markdown",
   "metadata": {},
   "source": [
    "### 리스트 대신 제너레이터를 고려하자\n",
    "\n",
    "다음 리스트를 제너레이터로 구현"
   ]
  },
  {
   "cell_type": "code",
   "execution_count": 1,
   "metadata": {},
   "outputs": [
    {
     "name": "stdout",
     "output_type": "stream",
     "text": [
      "344\n",
      "[0, 5, 11, 15, 21, 27, 31, 35, 43, 51, 57, 60, 65, 75, 77, 81, 89, 99, 102, 111, 115, 125, 128, 132, 144, 149, 153, 157, 161, 169]\n",
      "344\n"
     ]
    }
   ],
   "source": [
    "\"\"\" 16 리스트를 반환하는 대신 제너레이터를 고려하자\n",
    "https://github.com/gilbutITbook/006764/blob/master/item_16.py\n",
    "\"\"\"\n",
    "import sys\n",
    "\n",
    "def index_words(text):\n",
    "    result = []\n",
    "    if text:\n",
    "        result.append(0)\n",
    "    for index, letter in enumerate(text):\n",
    "        if letter == ' ':\n",
    "            result.append(index + 1)\n",
    "    print(sys.getsizeof(result))\n",
    "    return result\n",
    "\n",
    "#address = 'Four score and seven years ago...'\n",
    "address = 'Four score and seven years ago our fathers brought forth on this continent a new nation, conceived in liberty, and dedicated to the proposition that all men are created equal.'\n",
    "result = index_words(address)\n",
    "print(result)\n",
    "print(sys.getsizeof(result))"
   ]
  },
  {
   "cell_type": "markdown",
   "metadata": {},
   "source": [
    "Ex Generator:\n",
    "\n",
    "```python\n",
    "def index_words(text):\n",
    "    return ((index+1) for index, letter in enumerate(text) if letter == ' ')\n",
    "\n",
    "result = list(index_words(address))\n",
    "print(result)\n",
    "print(sys.getsizeof(result))\n",
    "```\n",
    "\n",
    "그리고 yield 이용\n",
    "\n",
    "```python\n",
    "# yield generator 이용\n",
    "def index_words(text):\n",
    "    if text:\n",
    "        yield 0\n",
    "    for index, letter in enumerate(text):\n",
    "        if letter == ' ':\n",
    "            yield index + 1\n",
    "\n",
    "result = list(index_words(address))\n",
    "print(result)\n",
    "print(sys.getsizeof(result))\n",
    "```"
   ]
  },
  {
   "cell_type": "code",
   "execution_count": 2,
   "metadata": {},
   "outputs": [
    {
     "name": "stdout",
     "output_type": "stream",
     "text": [
      "[5, 11, 15, 21, 27, 31, 35, 43, 51, 57, 60, 65, 75, 77, 81, 89, 99, 102, 111, 115, 125, 128, 132, 144, 149, 153, 157, 161, 169]\n",
      "296\n"
     ]
    }
   ],
   "source": [
    "def index_words(text):\n",
    "    return ((index+1) for index, letter in enumerate(text) if letter == ' ')\n",
    "\n",
    "result = list(index_words(address))\n",
    "print(result)\n",
    "print(sys.getsizeof(result))\n",
    "\n",
    "# for문에서는 344회나 했는데 \n",
    "# generator를 이용하니 296회만."
   ]
  },
  {
   "cell_type": "code",
   "execution_count": 3,
   "metadata": {},
   "outputs": [
    {
     "data": {
      "text/plain": [
       "generator"
      ]
     },
     "execution_count": 3,
     "metadata": {},
     "output_type": "execute_result"
    }
   ],
   "source": [
    "result = index_words(address)\n",
    "type(result)"
   ]
  },
  {
   "cell_type": "code",
   "execution_count": 4,
   "metadata": {},
   "outputs": [
    {
     "name": "stdout",
     "output_type": "stream",
     "text": [
      "[0, 5, 11, 15, 21, 27, 31, 35, 43, 51, 57, 60, 65, 75, 77, 81, 89, 99, 102, 111, 115, 125, 128, 132, 144, 149, 153, 157, 161, 169]\n",
      "376\n"
     ]
    }
   ],
   "source": [
    "# yield generator 이용\n",
    "def index_words(text):\n",
    "    if text:\n",
    "        yield 0\n",
    "    for index, letter in enumerate(text):\n",
    "        if letter == ' ':\n",
    "            yield index + 1\n",
    "\n",
    "result = list(index_words(address))\n",
    "print(result)\n",
    "print(sys.getsizeof(result))\n",
    "\n",
    "# list같은 곳에 담는 코드가 없는데도\n",
    "# 담겨진 결과가 나옴\n",
    "# yield가 반복되는 동안 어디에 담지는 않는 데 generator로 반환해줌\n",
    "# append하는 시간 줄어들음\n",
    "\n",
    "# 데이터 10만개 발생해서 해보고 시간 재보고 하면 차이 큼.\n",
    "\n",
    "# return이 필요하면 yield 사용"
   ]
  },
  {
   "cell_type": "markdown",
   "metadata": {},
   "source": [
    "## Generator 이해\n",
    "\n",
    "*Generators*는 반복형 이다, 그렇지만 *반복 목록을 단 한번만 순환한다*. 제너레이터는 변수를 메모리에 저장하지 않기 때문이고, 실행중에만 변수를 발생한다.\n",
    "\n",
    "```python\n",
    ">>> mygenerator = (x*x for x in range(3))\n",
    ">>> for i in mygenerator:\n",
    ">>>     print(i)\n",
    "```\n",
    "\n",
    "컴프리헨션과 다르게 **[]** 대신 **()** 를 사용했다, 그리고 **for i in mygenerator**를 두번다시 활용 할 수 없다; 0번째 계산하고 잊어 버리고,...\n",
    "\n",
    "\n",
    "\n",
    "이런 반복적 개체는 list, string, file 등등 에서 사용이 가능하다. 반복적 개체들은 변수를 메모리에 저장하게 된다.\n",
    "\n",
    "\n",
    "**generator** 객체는 반복형 개체로 반복 목록을 단 한번만 순환하고, 변수를 메모리에 저장하지 않고 실행중에만 변수를 발생시킨다. 제너레이터는 두 가지 방법으로 생성해서 사용할 수 있다.\n",
    "\n",
    "1. `( x for... in..)` 구문으로 리스트를 생성 \n",
    "    그러나 `for..in` 구문을 한번만 사용 할 수 있다.\n",
    "2. 함수에서 `return`에서 `yield` 로 반환"
   ]
  },
  {
   "cell_type": "markdown",
   "metadata": {},
   "source": [
    "Ex:\n",
    "\n",
    "```python\n",
    "mygenerator = (x*x for x in range(10))\n",
    "print(mygenerator)\n",
    "```"
   ]
  },
  {
   "cell_type": "markdown",
   "metadata": {},
   "source": [
    "Ex:\n",
    "\n",
    "```\n",
    "for i in mygenerator:\n",
    "    print(i)\n",
    "````"
   ]
  },
  {
   "cell_type": "markdown",
   "metadata": {},
   "source": [
    "## Yield\n",
    "\n",
    "함수를 사용해서 제너레이터 객체를 반환할 수 있다. 제너레이터를 반환하려면 `return` 으로 조건/반복문에서 `yield` 변수를 반환한다. `()` 표현식으로 생성한 예를 yield로 만들면 다음 같다.\n",
    "\n",
    "처음에 *for* 호출에서 함수에서 생성한 generator object를 호출하는데, 이것은 함수의 코드를 시작부터 *yield*를 만나는 끝까지 실행하고, 반복문에서 첫번째 변수를 반환한다.\n",
    "\n",
    "그리고 나서 다음 반복을 실행하고, 이어서 변수가 없을때 까지 다음 값을 반환하게 된다.\n",
    "generator가 함수 실행중 비었다고 느끼면, yield에 다다르지 못한다. \n",
    "반복이 끝나는 조검으로 변수를 다 사용하거나, 조건문에 다다르기 때문이다...."
   ]
  },
  {
   "cell_type": "markdown",
   "metadata": {},
   "source": [
    "\n",
    "#### Yield keyword\n",
    "\n",
    "**yield** 키워드는 **return** 키워드를 사용하는 것과 같다, 다만 함수가 *generator*를 반환한다는 점이다.\n",
    "\n",
    "```python\n",
    ">>> def creategenerator():\n",
    ">>>     mylist = range(3)\n",
    ">>>     for i in mylist:\n",
    ">>>         yield i*i\n",
    "...\n",
    "\n",
    ">>> mygenerator = creategenerator()\n",
    ">>> print(mygenerator)    # object\n",
    "<generator object createGenerator at 0x....>\n",
    ">>> for i in mygenerator:\n",
    ">>>     print(i)\n",
    "```\n",
    "\n",
    "\n",
    "\n"
   ]
  },
  {
   "cell_type": "markdown",
   "metadata": {},
   "source": [
    "\n",
    "*yield* 를 정복하려면 **언제 함수를 호출하고, 함수 본문 코드가 실행하지 않는지**를 이해해야 한다. 이 함수는 generator object 를 반환하고 이것이 좀 까다롭다.\n",
    "\n",
    "그리고 나서 코도는 *for*에서 매번 generator를 사용하게 된다.\n",
    "\n",
    "이제 어려운 부분인데:\n",
    "\n",
    "처음에 *for* 호출에서 함수에서 생성한 generator object를 호출하는데, 이것은 함수의 코드를 시작부터 *yield*를 만나는 끝까지 실행하고, 반복문에서 첫번째 변수를 반환한다. 그리고 나서 다음 반복을 실행하고, 이어서 변수가 없을때 까지 다음 값을 반환하게 된다.\n",
    "\n",
    "generator가 함수 실행중 비었다고 느끼면, yield에 다다르지 못한다. 반복이 끝나는 조검으로 변수를 다 사용하거나, 조건문에 다다르기 때문이다....\n",
    "\n",
    "\n",
    "\n"
   ]
  },
  {
   "cell_type": "markdown",
   "metadata": {},
   "source": [
    "### Usages\n",
    "\n",
    "\n",
    "http://stackoverflow.com/questions/323750/how-to-access-previous-next-element-while-for-looping\n",
    "\n",
    "\n",
    "```python\n",
    "def neighborhood(iterable):\n",
    "    iterator = iter(iterable)\n",
    "    prev_item = None\n",
    "    current_item = next(iterator)  # throws StopIteration if empty.\n",
    "    for next_item in iterator:\n",
    "        yield (prev_item, current_item, next_item)\n",
    "        prev_item = current_item\n",
    "        current_item = next_item\n",
    "    yield (prev_item, current_item, None)\n",
    "```\n",
    "\n",
    "\n",
    "Usage:\n",
    "\n",
    "```python\n",
    "for prev,curr,nextitem in neighborhood(l):\n",
    "    print(prev, item, nextitem)\n",
    "```"
   ]
  },
  {
   "cell_type": "code",
   "execution_count": 5,
   "metadata": {},
   "outputs": [],
   "source": [
    "def create_generator():\n",
    "    mylist = range(10)\n",
    "    for i in mylist:\n",
    "        yield i*i"
   ]
  },
  {
   "cell_type": "code",
   "execution_count": 6,
   "metadata": {},
   "outputs": [
    {
     "name": "stdout",
     "output_type": "stream",
     "text": [
      "<generator object create_generator at 0x000001D857744748>\n"
     ]
    }
   ],
   "source": [
    "mygenerator = create_generator()\n",
    "print(mygenerator)"
   ]
  },
  {
   "cell_type": "code",
   "execution_count": 7,
   "metadata": {},
   "outputs": [
    {
     "name": "stdout",
     "output_type": "stream",
     "text": [
      "0\n",
      "1\n",
      "4\n",
      "9\n",
      "16\n",
      "25\n",
      "36\n",
      "49\n",
      "64\n",
      "81\n"
     ]
    }
   ],
   "source": [
    "for i in mygenerator:\n",
    "    print(i)"
   ]
  },
  {
   "cell_type": "markdown",
   "metadata": {},
   "source": [
    "제너레이터를 매개 변수 전달시 `*` 이용"
   ]
  },
  {
   "cell_type": "code",
   "execution_count": 8,
   "metadata": {},
   "outputs": [
    {
     "name": "stdout",
     "output_type": "stream",
     "text": [
      "(0, 1, 2, 3, 4, 5, 6, 7, 8, 9)\n"
     ]
    }
   ],
   "source": [
    "# generator\n",
    "def my_generator():\n",
    "    for i in range(10):\n",
    "        yield i\n",
    "\n",
    "def my_func(*args):\n",
    "    print(args)\n",
    "\n",
    "it = my_generator()\n",
    "#my_func(it)         #(<generator object my_generator at 0x7236f580>,)\n",
    "my_func(*it)"
   ]
  },
  {
   "cell_type": "code",
   "execution_count": 9,
   "metadata": {
    "collapsed": true,
    "jupyter": {
     "outputs_hidden": true
    }
   },
   "outputs": [
    {
     "name": "stdout",
     "output_type": "stream",
     "text": [
      "None 0 1\n",
      "0 1 4\n",
      "1 4 9\n",
      "4 9 16\n",
      "9 16 25\n",
      "16 25 36\n",
      "25 36 49\n",
      "36 49 64\n",
      "49 64 81\n",
      "64 81 100\n",
      "81 100 121\n",
      "100 121 144\n",
      "121 144 169\n",
      "144 169 196\n",
      "169 196 225\n",
      "196 225 256\n",
      "225 256 289\n",
      "256 289 324\n",
      "289 324 361\n",
      "324 361 400\n",
      "361 400 441\n",
      "400 441 484\n",
      "441 484 529\n",
      "484 529 576\n",
      "529 576 625\n",
      "576 625 676\n",
      "625 676 729\n",
      "676 729 784\n",
      "729 784 841\n",
      "784 841 900\n",
      "841 900 961\n",
      "900 961 1024\n",
      "961 1024 1089\n",
      "1024 1089 1156\n",
      "1089 1156 1225\n",
      "1156 1225 1296\n",
      "1225 1296 1369\n",
      "1296 1369 1444\n",
      "1369 1444 1521\n",
      "1444 1521 1600\n",
      "1521 1600 1681\n",
      "1600 1681 1764\n",
      "1681 1764 1849\n",
      "1764 1849 1936\n",
      "1849 1936 2025\n",
      "1936 2025 2116\n",
      "2025 2116 2209\n",
      "2116 2209 2304\n",
      "2209 2304 2401\n",
      "2304 2401 2500\n",
      "2401 2500 2601\n",
      "2500 2601 2704\n",
      "2601 2704 2809\n",
      "2704 2809 2916\n",
      "2809 2916 3025\n",
      "2916 3025 3136\n",
      "3025 3136 3249\n",
      "3136 3249 3364\n",
      "3249 3364 3481\n",
      "3364 3481 3600\n",
      "3481 3600 3721\n",
      "3600 3721 3844\n",
      "3721 3844 3969\n",
      "3844 3969 4096\n",
      "3969 4096 4225\n",
      "4096 4225 4356\n",
      "4225 4356 4489\n",
      "4356 4489 4624\n",
      "4489 4624 4761\n",
      "4624 4761 4900\n",
      "4761 4900 5041\n",
      "4900 5041 5184\n",
      "5041 5184 5329\n",
      "5184 5329 5476\n",
      "5329 5476 5625\n",
      "5476 5625 5776\n",
      "5625 5776 5929\n",
      "5776 5929 6084\n",
      "5929 6084 6241\n",
      "6084 6241 6400\n",
      "6241 6400 6561\n",
      "6400 6561 6724\n",
      "6561 6724 6889\n",
      "6724 6889 7056\n",
      "6889 7056 7225\n",
      "7056 7225 7396\n",
      "7225 7396 7569\n",
      "7396 7569 7744\n",
      "7569 7744 7921\n",
      "7744 7921 8100\n",
      "7921 8100 8281\n",
      "8100 8281 8464\n",
      "8281 8464 8649\n",
      "8464 8649 8836\n",
      "8649 8836 9025\n",
      "8836 9025 9216\n",
      "9025 9216 9409\n",
      "9216 9409 9604\n",
      "9409 9604 9801\n",
      "9604 9801 None\n"
     ]
    }
   ],
   "source": [
    "# 다른 예\n",
    "\n",
    "def neighborhood(iterable):\n",
    "    iterator = iter(iterable)\n",
    "    prev_item = None\n",
    "    current_item = next(iterator)  # throws StopIteration if empty.\n",
    "    for next_item in iterator:\n",
    "        yield (prev_item, current_item, next_item)\n",
    "        prev_item = current_item\n",
    "        current_item = next_item\n",
    "    yield (prev_item, current_item, None)\n",
    "\n",
    "    \n",
    "mylist = [x*x for x in range(100)]\n",
    "\n",
    "\n",
    "for prev,curr,nextitem in neighborhood(mylist):\n",
    "    print(prev, curr, nextitem)"
   ]
  }
 ],
 "metadata": {
  "kernelspec": {
   "display_name": "Python 3",
   "language": "python",
   "name": "python3"
  },
  "language_info": {
   "codemirror_mode": {
    "name": "ipython",
    "version": 3
   },
   "file_extension": ".py",
   "mimetype": "text/x-python",
   "name": "python",
   "nbconvert_exporter": "python",
   "pygments_lexer": "ipython3",
   "version": "3.7.9"
  }
 },
 "nbformat": 4,
 "nbformat_minor": 4
}
