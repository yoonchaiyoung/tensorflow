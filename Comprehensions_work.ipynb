{
 "cells": [
  {
   "cell_type": "markdown",
   "metadata": {},
   "source": [
    "# Comprehensions\n",
    "\n",
    "Comprehensions는 다른 시퀀스로 부터 새로운 시퀀스를 구성하도록 해준다. Python2.0 에서 List comprehensions가 도입된 후에 Python3.0 에서 dictionary 와  set comprehensions를 도입했다.\n",
    "\n",
    "https://python-3-patterns-idioms-test.readthedocs.io/en/latest/Comprehensions.html\n",
    "\n",
    "\n",
    "https://wikidocs.net/22797 참조해 볼 것!"
   ]
  },
  {
   "cell_type": "markdown",
   "metadata": {},
   "source": [
    "## List Comprehensions\n",
    "\n",
    "A list comprehension consists of the following parts:\n",
    "\n",
    "- An Input Sequence. 입력 시퀀스\n",
    "- A Variable representing members of the input sequence : 변수가 입력 시퀀스의 멤버를 표현\n",
    "- An Optional Predicate expression. : 선택한 함축 표현\n",
    "- An Output Expression producing elements of the output list from members of the Input Sequence that satisfy the predicate\n",
    "\n",
    "<img src=\"https://python-3-patterns-idioms-test.readthedocs.io/en/latest/_images/listComprehensions.gif\" width=\"450\">"
   ]
  },
  {
   "cell_type": "markdown",
   "metadata": {},
   "source": [
    "list comprehension ex\n",
    "\n",
    "```python\n",
    "foo = [1, 4, '5', 10, True, '10', 8]\n",
    "squared_ints = [ e**2 for e in foo if type(e) == int ]\n",
    "```"
   ]
  },
  {
   "cell_type": "code",
   "execution_count": 4,
   "metadata": {},
   "outputs": [
    {
     "data": {
      "text/plain": [
       "[1, 16, 100, 64]"
      ]
     },
     "execution_count": 4,
     "metadata": {},
     "output_type": "execute_result"
    }
   ],
   "source": [
    "foo = [1, 4, '5', 10, True, '10', 8]\n",
    "squared_ints = [ e**2 for e in foo if type(e) == int ]\n",
    "squared_ints"
   ]
  },
  {
   "cell_type": "markdown",
   "metadata": {},
   "source": [
    "이 결과는 **map**,**filter** 그리고 **lambda** function으로 구현 할 수 있다."
   ]
  },
  {
   "cell_type": "code",
   "execution_count": 7,
   "metadata": {},
   "outputs": [],
   "source": [
    "#filter\n",
    "f = filter( lambda e: type(e) == int, foo)"
   ]
  },
  {
   "cell_type": "code",
   "execution_count": 8,
   "metadata": {},
   "outputs": [
    {
     "name": "stdout",
     "output_type": "stream",
     "text": [
      "1\n",
      "4\n",
      "10\n",
      "8\n"
     ]
    }
   ],
   "source": [
    "# try\n",
    "for i in f:\n",
    "    print(i)"
   ]
  },
  {
   "cell_type": "code",
   "execution_count": 14,
   "metadata": {},
   "outputs": [
    {
     "data": {
      "text/plain": [
       "<map at 0x28dd028e908>"
      ]
     },
     "execution_count": 14,
     "metadata": {},
     "output_type": "execute_result"
    }
   ],
   "source": [
    "# map 으로 시퀀스 멤버를 다룬다.\n",
    "map( lambda e: e**2, foo)"
   ]
  },
  {
   "cell_type": "code",
   "execution_count": 11,
   "metadata": {},
   "outputs": [
    {
     "data": {
      "text/plain": [
       "<map at 0x28dd028b288>"
      ]
     },
     "execution_count": 11,
     "metadata": {},
     "output_type": "execute_result"
    }
   ],
   "source": [
    "# filter 와 map을 조합\n",
    "map(lambda e: e**2, filter(lambda e: type(e) == int, foo))"
   ]
  },
  {
   "cell_type": "markdown",
   "metadata": {},
   "source": [
    "### Nested Comprehensions\n",
    "\n",
    "크기 n인 단위행렬(identity matrix)는 대각이 1이고 나머지는 0으로 채워진 n X n  매드릭스이다.\n",
    "\n",
    "파이썬에서 리스트의 리스트로서 행을 리스트로 이런 단위행렬을 표현할 수 있다.\n",
    "\n",
    "```python\n",
    "[ [1,0,0],\n",
    "  [0,1,0],\n",
    "  [0,0,1] ]\n",
    "```"
   ]
  },
  {
   "cell_type": "markdown",
   "metadata": {},
   "source": [
    "\n",
    "이 행렬을 아래같은 표현식으로 포함할 수 있다.\n",
    "\n",
    "\n",
    "ex:\n",
    "\n",
    "```python\n",
    "[ [ 1 if item_idx == row_idx else 0 for item_idx in range(0, 3) ] for row_idx in range(0, 3) ]\n",
    "```"
   ]
  },
  {
   "cell_type": "code",
   "execution_count": 16,
   "metadata": {},
   "outputs": [
    {
     "data": {
      "text/plain": [
       "[[1, 0, 0], [0, 1, 0], [0, 0, 1]]"
      ]
     },
     "execution_count": 16,
     "metadata": {},
     "output_type": "execute_result"
    }
   ],
   "source": [
    "# 중첩 list comprehension\n",
    "[ [ 1 if item_idx == row_idx else 0 for item_idx in range(0, 3) ] for row_idx in range(0, 3) ]"
   ]
  },
  {
   "cell_type": "markdown",
   "metadata": {},
   "source": [
    "\n",
    "A two-level list comprehension using os.walk():\n",
    "\n",
    "```python\n",
    "# Comprehensions/os_walk_comprehension.py\n",
    "import os\n",
    "restFiles = [os.path.join(d[0], f) for d in os.walk(\".\")\n",
    "             for f in d[2] if f.endswith(\".py\")]\n",
    "for r in restFiles:\n",
    "    print(r)\n",
    "```   "
   ]
  },
  {
   "cell_type": "code",
   "execution_count": 15,
   "metadata": {},
   "outputs": [
    {
     "name": "stdout",
     "output_type": "stream",
     "text": [
      ".\\mod1.py\n",
      ".\\.ipynb_checkpoints\\mod1-checkpoint.py\n",
      ".\\lib\\mod1.py\n",
      ".\\lib\\myfont.py\n",
      ".\\lib\\.ipynb_checkpoints\\mod1-checkpoint.py\n",
      ".\\lib\\.ipynb_checkpoints\\myfont-checkpoint.py\n"
     ]
    }
   ],
   "source": [
    "# 모든 디렉토리에서 .py로 끝나는 파일만 가져옴\n",
    "import os\n",
    "restFiles = [os.path.join(d[0], f) for d in os.walk(\".\")\n",
    "             for f in d[2] if f.endswith(\".py\")]\n",
    "for r in restFiles:\n",
    "    print(r)"
   ]
  },
  {
   "cell_type": "markdown",
   "metadata": {},
   "source": [
    "### Comprehension으로 리스트 생성\n",
    "\n",
    "zip()을 이용해 두 리스트의 열 결합을 통해 새 리스트로 생성하는데 유용하다.\n",
    "\n",
    "`zip()`을 사용해 한 번에 둘 이상의 요소를 다룰 수 있다.\n",
    "\n",
    "```python\n",
    "[ '%s=%s' % (n, v) for n, v in zip(self.all_names, self) ]\n",
    "```\n",
    "\n",
    "Multiple types (auto unpacking of a tuple):\n",
    "\n",
    "```python\n",
    "[f(v) for (n, f), v in zip(cls.all_slots, values)]\n",
    "```\n",
    "\n"
   ]
  },
  {
   "cell_type": "code",
   "execution_count": 17,
   "metadata": {},
   "outputs": [],
   "source": [
    "#2018/12/13 현재 2018: 2018/9\n",
    "celtrion_profits = {\n",
    "    \"영업이익\": [2590, 2497, 5220, 2947],  # 2015~2018\n",
    "    \"영업현금흐름\": [594, 2614, 5238, 2518]\n",
    "}"
   ]
  },
  {
   "cell_type": "code",
   "execution_count": 18,
   "metadata": {},
   "outputs": [
    {
     "name": "stdout",
     "output_type": "stream",
     "text": [
      "0.22934362934362934\n",
      "1.0468562274729676\n",
      "1.0034482758620689\n",
      "0.8544282321004412\n"
     ]
    }
   ],
   "source": [
    "for x, y in zip(celtrion_profits['영업현금흐름'], celtrion_profits['영업이익']):\n",
    "    print(int(x)/int(y))"
   ]
  },
  {
   "cell_type": "code",
   "execution_count": 19,
   "metadata": {},
   "outputs": [
    {
     "data": {
      "text/plain": [
       "[0.22934362934362934,\n",
       " 1.0468562274729676,\n",
       " 1.0034482758620689,\n",
       " 0.8544282321004412]"
      ]
     },
     "execution_count": 19,
     "metadata": {},
     "output_type": "execute_result"
    }
   ],
   "source": [
    "[int(x)/int(y)\n",
    " for x, y in zip(celtrion_profits['영업현금흐름'], celtrion_profits['영업이익'])]"
   ]
  },
  {
   "cell_type": "code",
   "execution_count": 21,
   "metadata": {},
   "outputs": [],
   "source": [
    "celtrion_profits['영업이익대비현금흐름'] = [int(\n",
    "    x)/int(y) for x, y in zip(celtrion_profits['영업현금흐름'], celtrion_profits['영업이익'])]"
   ]
  },
  {
   "cell_type": "code",
   "execution_count": 24,
   "metadata": {},
   "outputs": [
    {
     "data": {
      "text/plain": [
       "{'영업이익': [2590, 2497, 5220, 2947],\n",
       " '영업현금흐름': [594, 2614, 5238, 2518],\n",
       " '영업이익대비현금흐름': [0.22934362934362934,\n",
       "  1.0468562274729676,\n",
       "  1.0034482758620689,\n",
       "  0.8544282321004412]}"
      ]
     },
     "execution_count": 24,
     "metadata": {},
     "output_type": "execute_result"
    }
   ],
   "source": [
    "celtrion_profits"
   ]
  },
  {
   "cell_type": "markdown",
   "metadata": {},
   "source": [
    "## Set Comprehensions\n",
    "\n",
    "Set에 리스트 같은 포함 표현식을 사용해 구성할 수 있다.\n",
    "\n",
    "이름을 포함한 리스트가 있을 때:\n",
    "\n",
    "```python\n",
    "names = [ 'Bob', 'JOHN', 'alice', 'bob', 'ALICE', 'J', 'Bob' ]\n",
    "```\n",
    "다음 같이 첫 문자를 대문자로한 세트를 원한다:\n",
    "\n",
    "```python\n",
    "{ 'Bob', 'John', 'Alice' }\n",
    "```"
   ]
  },
  {
   "cell_type": "markdown",
   "metadata": {},
   "source": [
    "ex:\n",
    "\n",
    "```python\n",
    "names = [ 'Bob', 'JOHN', 'alice', 'bob', 'ALICE', 'J', 'Bob' ]\n",
    "{ name[0].upper() + name[1:].lower() for name in names if len(name) > 1 }\n",
    "```"
   ]
  },
  {
   "cell_type": "markdown",
   "metadata": {},
   "source": [
    "## Dictionary Comprehensions\n"
   ]
  },
  {
   "cell_type": "markdown",
   "metadata": {},
   "source": [
    "ex:\n",
    "\n",
    "```python\n",
    "mcase = {'a':10, 'b': 34, 'A': 7, 'Z':3}\n",
    "mcase_frequency = {\n",
    "    k.lower() : mcase.get(k.lower(), 0) + mcase.get(k.upper(), 0) for k in mcase.keys()\n",
    "}\n",
    "mcase_frequency\n",
    "```"
   ]
  },
  {
   "cell_type": "code",
   "execution_count": 26,
   "metadata": {},
   "outputs": [
    {
     "data": {
      "text/plain": [
       "{'Alice', 'Bob', 'John'}"
      ]
     },
     "execution_count": 26,
     "metadata": {},
     "output_type": "execute_result"
    }
   ],
   "source": [
    "names = [ 'Bob', 'JOHN', 'alice', 'bob', 'ALICE', 'J', 'Bob' ]\n",
    "{ name[0].upper() + name[1:].lower() for name in names if len(name) > 1 }"
   ]
  },
  {
   "cell_type": "code",
   "execution_count": 27,
   "metadata": {},
   "outputs": [
    {
     "data": {
      "text/plain": [
       "{'a': 17, 'b': 34, 'z': 3}"
      ]
     },
     "execution_count": 27,
     "metadata": {},
     "output_type": "execute_result"
    }
   ],
   "source": [
    "mcase = {'a':10, 'b': 34, 'A': 7, 'Z':3}\n",
    "mcase_frequency = {\n",
    "    k.lower() : mcase.get(k.lower(), 0) + mcase.get(k.upper(), 0) for k in mcase.keys()\n",
    "}\n",
    "mcase_frequency"
   ]
  }
 ],
 "metadata": {
  "kernelspec": {
   "display_name": "Python 3",
   "language": "python",
   "name": "python3"
  },
  "language_info": {
   "codemirror_mode": {
    "name": "ipython",
    "version": 3
   },
   "file_extension": ".py",
   "mimetype": "text/x-python",
   "name": "python",
   "nbconvert_exporter": "python",
   "pygments_lexer": "ipython3",
   "version": "3.7.9"
  }
 },
 "nbformat": 4,
 "nbformat_minor": 4
}
