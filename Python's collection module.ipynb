{
 "cells": [
  {
   "cell_type": "markdown",
   "metadata": {},
   "source": [
    "- python의 collection : data collection(list, dict, set, tuple 등)을 저장하는 데 사용되는 컨테이너\n",
    "- python collection module : 데이터 컬렉션을 저장하기 위한 추가 데이터 구조를 제공하는 여러 모듈\n",
    "- 참고 : https://docs.python.org/3.7/library/collections.html"
   ]
  },
  {
   "cell_type": "markdown",
   "metadata": {},
   "source": [
    "# collection module\n",
    "- Counter\n",
    "- defaultdict\n",
    "- OrderedDict\n",
    "- deque\n",
    "- ChainMap\n",
    "- namedtuple()"
   ]
  },
  {
   "cell_type": "markdown",
   "metadata": {},
   "source": [
    "## Counter\n",
    "- dict 객체의 하위 클래스\n",
    "- iterable or mapping -> dictionary 반환\n",
    "    - 하위 function\n",
    "    - elements()\n",
    "    - most_common([n])\n",
    "    - subtract([iterable or mapping])"
   ]
  },
  {
   "cell_type": "code",
   "execution_count": 1,
   "metadata": {},
   "outputs": [
    {
     "name": "stdout",
     "output_type": "stream",
     "text": [
      "Counter({1: 3, 2: 2, 3: 2, 4: 1, 6: 1, 7: 1, 8: 1})\n"
     ]
    }
   ],
   "source": [
    "# Counter : dict 객체의 하위 클래스\n",
    "from collections import Counter\n",
    "cnt = Counter()\n",
    "list = [1, 2, 3, 4, 1, 2, 6, 7, 3, 8, 1]\n",
    "print(Counter(list))\n",
    "# 출력값 :\n",
    "# Counter({1: 3, 2: 2, 3: 2, 4: 1, 6: 1, 7: 1, 8: 1})\n",
    "# 원소 갯수세기\n",
    "# 원소  : 갯수\n",
    "# 1: 3개, 2:2개, 3:2개, 4:1개, 6:1개, 7:1개, 8:1개"
   ]
  },
  {
   "cell_type": "code",
   "execution_count": 2,
   "metadata": {},
   "outputs": [
    {
     "data": {
      "text/plain": [
       "Counter({1: 3, 2: 4})"
      ]
     },
     "execution_count": 2,
     "metadata": {},
     "output_type": "execute_result"
    }
   ],
   "source": [
    "Counter({1:3, 2:4})"
   ]
  },
  {
   "cell_type": "code",
   "execution_count": 3,
   "metadata": {},
   "outputs": [
    {
     "name": "stdout",
     "output_type": "stream",
     "text": [
      "3\n"
     ]
    }
   ],
   "source": [
    "list1 = [1, 2, 3, 4, 1, 2, 6 ,7, 3, 8, 1]\n",
    "cnt = Counter(list)\n",
    "print(cnt[1])\n",
    "# 출력값 : 3\n",
    "# 1의 원소의 갯수? 3개\n",
    "# count of 1"
   ]
  },
  {
   "cell_type": "code",
   "execution_count": 4,
   "metadata": {},
   "outputs": [
    {
     "name": "stdout",
     "output_type": "stream",
     "text": [
      "<itertools.chain object at 0x00000200075A1F88>\n",
      "(1, 1, 1, 2, 2, 2, 2)\n"
     ]
    }
   ],
   "source": [
    "# element() function : 원소 출력\n",
    "cnt = Counter({1:3, 2:4})\n",
    "print(cnt.elements())\n",
    "print(tuple(cnt.elements()))"
   ]
  },
  {
   "cell_type": "code",
   "execution_count": 5,
   "metadata": {},
   "outputs": [
    {
     "name": "stdout",
     "output_type": "stream",
     "text": [
      "(1, 2, 3, 4, 6, 7, 8, 9)\n",
      "[(9, 5), (1, 3), (2, 2), (3, 2), (4, 1), (6, 1), (7, 1), (8, 1)]\n"
     ]
    }
   ],
   "source": [
    "# most_common([n]) function : 원소의 갯수가 제일 많은 순으로 (원소, 갯수) 묶어서 list로 반환\n",
    "list1 = [1, 2, 3, 4, 1, 2, 6 ,7 ,3, 8, 1, 9, 9, 9, 9, 9]\n",
    "cnt = Counter(list1)\n",
    "print(tuple(cnt))\n",
    "print(cnt.most_common()) # 9가 제일 갯수가 많음"
   ]
  },
  {
   "cell_type": "code",
   "execution_count": 6,
   "metadata": {},
   "outputs": [
    {
     "name": "stdout",
     "output_type": "stream",
     "text": [
      "(1, 1, 1, 2, 2, 2, 2, 3, 3)\n",
      "(1, 1, 2, 2, 3, 3)\n",
      "Counter({1: 2, 2: 2, 3: 2})\n"
     ]
    }
   ],
   "source": [
    "# subtract([iterable or mapping]) function : 원하는 {원소:갯수} 만큼 뺀다.\n",
    "cnt = Counter({1:3, 2:4, 3:2})\n",
    "print(tuple(cnt.elements()))\n",
    "deduct = {1:1, 2:2}\n",
    "cnt.subtract(deduct)\n",
    "print(tuple(cnt.elements()))\n",
    "print(cnt)"
   ]
  },
  {
   "cell_type": "markdown",
   "metadata": {},
   "source": [
    "## defaultdict\n",
    "- key, value\n",
    "- 없는 key를 찾을 때 KeyError를 출력하는 것이 아닌 '0' 출력\n",
    "- key:0을 데이터에 추가"
   ]
  },
  {
   "cell_type": "code",
   "execution_count": 7,
   "metadata": {},
   "outputs": [],
   "source": [
    "from collections import defaultdict"
   ]
  },
  {
   "cell_type": "code",
   "execution_count": 8,
   "metadata": {},
   "outputs": [
    {
     "name": "stdout",
     "output_type": "stream",
     "text": [
      "1\n"
     ]
    }
   ],
   "source": [
    "# 기존의 dictionary\n",
    "dict1 = {'one':1, 'two':2}\n",
    "print(dict1['one'])\n",
    "# print(dict1['three']) \n",
    "# 출력값 : KeyError"
   ]
  },
  {
   "cell_type": "code",
   "execution_count": 9,
   "metadata": {},
   "outputs": [
    {
     "name": "stdout",
     "output_type": "stream",
     "text": [
      "1\n",
      "0\n",
      "<class 'collections.defaultdict'>\n",
      "defaultdict(<class 'int'>, {'one': 1, 'two': 2, 'three': 0})\n"
     ]
    }
   ],
   "source": [
    "dd = defaultdict(int)  # argument : data type\n",
    "dd['one'] = 1\n",
    "dd['two'] = 2\n",
    "print(dd['one'])\n",
    "print(dd['three'])\n",
    "# 출력값 : 0\n",
    "print(type(dd))\n",
    "print(dd)"
   ]
  },
  {
   "cell_type": "code",
   "execution_count": 10,
   "metadata": {},
   "outputs": [
    {
     "name": "stdout",
     "output_type": "stream",
     "text": [
      "defaultdict(<class 'int'>, {'Mike': 5, 'John': 3, 'Anna': 2, 'Britney': 1, 'Smith': 2})\n",
      "<class 'collections.defaultdict'>\n"
     ]
    }
   ],
   "source": [
    "cnt = defaultdict(int)\n",
    "names_list = \"Mike John Mike Anna Mike John John Mike Mike Britney Smith Anna Smith\".split()\n",
    "for name in names_list:\n",
    "    cnt[name] += 1\n",
    "print(cnt)\n",
    "print(type(cnt))"
   ]
  },
  {
   "cell_type": "markdown",
   "metadata": {},
   "source": [
    "## OrderedDict"
   ]
  },
  {
   "cell_type": "code",
   "execution_count": 11,
   "metadata": {},
   "outputs": [],
   "source": [
    "from collections import OrderedDict"
   ]
  },
  {
   "cell_type": "code",
   "execution_count": 12,
   "metadata": {},
   "outputs": [
    {
     "name": "stdout",
     "output_type": "stream",
     "text": [
      "OrderedDict([('a', 1), ('b', 2), ('c', 3)])\n",
      "<class 'collections.OrderedDict'>\n",
      "odict_items([('a', 1), ('b', 2), ('c', 3)])\n",
      "a 1\n",
      "b 2\n",
      "c 3\n"
     ]
    }
   ],
   "source": [
    "od = OrderedDict()\n",
    "od['a'] = 1\n",
    "od['b'] = 2\n",
    "od['c'] = 3\n",
    "print(od)\n",
    "print(type(od))\n",
    "print(od.items())\n",
    "for key, value in od.items():\n",
    "    print(key, value)"
   ]
  },
  {
   "cell_type": "code",
   "execution_count": 13,
   "metadata": {},
   "outputs": [
    {
     "name": "stdout",
     "output_type": "stream",
     "text": [
      "Counter({'a': 4, 'c': 3, 'b': 2})\n",
      "<class 'collections.Counter'>\n",
      "[('a', 4), ('c', 3), ('b', 2)]\n",
      "<class 'list'>\n",
      "OrderedDict([('a', 4), ('c', 3), ('b', 2)])\n",
      "a 4\n",
      "c 3\n",
      "b 2\n"
     ]
    }
   ],
   "source": [
    "# Counter & OrderedDict\n",
    "list1 = [\"a\", \"c\", \"c\", \"a\", \"b\", \"a\", \"a\", \"b\", \"c\"]\n",
    "cnt = Counter(list1)  # 원소:갯수 \n",
    "print(cnt)\n",
    "print(type(cnt))\n",
    "\n",
    "print(cnt.most_common())\n",
    "print(type(cnt.most_common()))\n",
    "\n",
    "od = OrderedDict(cnt.most_common())\n",
    "print(od)\n",
    "\n",
    "for key, value in od.items():\n",
    "    print(key, value)"
   ]
  },
  {
   "cell_type": "markdown",
   "metadata": {},
   "source": [
    "## deque\n",
    "- 하위 method\n",
    "- append() : 뒤에 원소 추가\n",
    "- appendleft() : 시작부분에 원소 추가\n",
    "- pop() : 맨 뒤 원소 삭제\n",
    "- popleft() : 시작 원소 삭제\n",
    "- clear() : 원소 초기화\n",
    "- count(\"원소\") : 원하는 원소의 갯수 세기"
   ]
  },
  {
   "cell_type": "code",
   "execution_count": 14,
   "metadata": {},
   "outputs": [],
   "source": [
    "from collections import deque"
   ]
  },
  {
   "cell_type": "code",
   "execution_count": 15,
   "metadata": {},
   "outputs": [
    {
     "name": "stdout",
     "output_type": "stream",
     "text": [
      "deque(['a', 'b', 'c'])\n",
      "<class 'collections.deque'>\n"
     ]
    }
   ],
   "source": [
    "deq = deque(['a', 'b', 'c'])  # argument : list\n",
    "print(deq)\n",
    "print(type(deq))"
   ]
  },
  {
   "cell_type": "code",
   "execution_count": 16,
   "metadata": {},
   "outputs": [
    {
     "name": "stdout",
     "output_type": "stream",
     "text": [
      "deque(['a', 'b', 'c', 'd'])\n",
      "deque(['e', 'a', 'b', 'c', 'd'])\n",
      "deque(['e', 'a', 'b', 'c'])\n",
      "deque(['a', 'b', 'c'])\n",
      "deque([])\n",
      "None\n"
     ]
    }
   ],
   "source": [
    "deq.append(\"d\")\n",
    "print(deq)\n",
    "deq.appendleft(\"e\")\n",
    "print(deq)\n",
    "deq.pop()\n",
    "print(deq)\n",
    "deq.popleft()\n",
    "print(deq)\n",
    "\n",
    "deq.clear()\n",
    "print(deq)  # 출력값 : deque([])\n",
    "print(deq.clear())  # 출력값 : None"
   ]
  },
  {
   "cell_type": "code",
   "execution_count": 17,
   "metadata": {},
   "outputs": [
    {
     "name": "stdout",
     "output_type": "stream",
     "text": [
      "1\n",
      "1\n",
      "3\n"
     ]
    }
   ],
   "source": [
    "list1 = [\"a\", \"b\", \"c\", \"c\", \"c\"]\n",
    "deq = deque(list1)\n",
    "print(deq.count(\"a\"))\n",
    "print(deq.count(\"b\"))\n",
    "print(deq.count(\"c\"))"
   ]
  },
  {
   "cell_type": "markdown",
   "metadata": {},
   "source": [
    "## ChainMap\n",
    "- 여러 dict or mapping 을 결합하는 데 사용\n",
    "- list로 반환"
   ]
  },
  {
   "cell_type": "code",
   "execution_count": 18,
   "metadata": {},
   "outputs": [],
   "source": [
    "from collections import ChainMap"
   ]
  },
  {
   "cell_type": "code",
   "execution_count": 19,
   "metadata": {},
   "outputs": [
    {
     "name": "stdout",
     "output_type": "stream",
     "text": [
      "ChainMap({'a': 1, 'b': 2}, {'b': 3, 'c': 4})\n",
      "[{'a': 1, 'b': 2}, {'b': 3, 'c': 4}]\n"
     ]
    }
   ],
   "source": [
    "dict1 = {\"a\" : 1, \"b\" : 2}\n",
    "dict2 = {\"b\" : 3, \"c\" : 4}\n",
    "cm = ChainMap(dict1, dict2)  # argument : dictionary\n",
    "print(cm)\n",
    "print(cm.maps)"
   ]
  },
  {
   "cell_type": "code",
   "execution_count": 20,
   "metadata": {},
   "outputs": [
    {
     "name": "stdout",
     "output_type": "stream",
     "text": [
      "1\n",
      "2\n"
     ]
    }
   ],
   "source": [
    "print(cm[\"a\"])\n",
    "print(cm[\"b\"])"
   ]
  },
  {
   "cell_type": "code",
   "execution_count": 21,
   "metadata": {},
   "outputs": [
    {
     "name": "stdout",
     "output_type": "stream",
     "text": [
      "ChainMap({'a': 1, 'b': 2}, {'b': 3, 'c': 100})\n"
     ]
    }
   ],
   "source": [
    "# 원본 dictionary의 value 값이 업데이트\n",
    "# -> 그 dictionary를 결합한 ChainMap의 내용도 업데이트됨.\n",
    "dict2[\"c\"] = 100\n",
    "print(cm)"
   ]
  },
  {
   "cell_type": "code",
   "execution_count": 22,
   "metadata": {},
   "outputs": [
    {
     "name": "stdout",
     "output_type": "stream",
     "text": [
      "KeysView(ChainMap({'a': 1, 'b': 2}, {'b': 3, 'c': 100}))\n",
      "('b', 'c', 'a')\n",
      "ValuesView(ChainMap({'a': 1, 'b': 2}, {'b': 3, 'c': 100}))\n",
      "(2, 100, 1)\n"
     ]
    }
   ],
   "source": [
    "print(cm.keys())\n",
    "print(tuple(cm.keys()))\n",
    "print(cm.values())\n",
    "print(tuple(cm.values()))"
   ]
  },
  {
   "cell_type": "code",
   "execution_count": 23,
   "metadata": {},
   "outputs": [
    {
     "name": "stdout",
     "output_type": "stream",
     "text": [
      "ChainMap({'e': 5, 'f': 6}, {'a': 1, 'b': 2}, {'b': 3, 'c': 100})\n"
     ]
    }
   ],
   "source": [
    "dict3 = {\"e\" : 5, \"f\" : 6}\n",
    "new_cm = cm.new_child(dict3)  # new_child(dictionary) : 기존의 ChildMap에 새로운 dictionary 추가\n",
    "print(new_cm)  # 맨 앞에 추가됨"
   ]
  },
  {
   "cell_type": "markdown",
   "metadata": {},
   "source": [
    "## namedtuple()\n",
    "- 튜플의 각 위치에 대한 이름을 가진 튜플을 반환\n",
    "- dict와 비슷하지만 성능이 더 좋다.\n",
    "- key, index로 접근 가능\n",
    "    - ex) 원래 tuple : tuple1[0], tuple1[1]...\n",
    "    - nametuple : nt.age, nt.birth 와 같이 사용자가 항목에 이름을 붙여 사용가능(index로도 사용가능)\n",
    "- dict처럼 key, index로 접근이 가능하지만 tuple의 성격을 가져서 불변(immutable) 자료형이다.\n",
    "- 따라서, 수정할 필요가 없고, key,value가 필요하다면 dict 대신에 namedtuple을 사용하면 성능에 더 좋다.\n",
    "- 하위 method\n",
    "    - ._asdict()\n",
    "    - ._replace()"
   ]
  },
  {
   "cell_type": "markdown",
   "metadata": {},
   "source": [
    "### namedtuple 만드는 방법\n",
    "1. 리스트로 구분\n",
    "- Point = namedtuple(\"Point\", [\"x\", \"y\"])\n",
    "2. 띄어쓰기로 정의\n",
    "- Point = namedtuple(\"Point\", \"x y\")\n",
    "3. 콤마(,)로 구분\n",
    "- Point = namedtuple(\"Point\", \"x, y\")\n",
    "4. 같은 key가 중복되거나 예약어를 사용하는 경우 > rename=True 사용\n",
    "- Point = namedtuple(\"Point\", \"x y x class\", rename=True)"
   ]
  },
  {
   "cell_type": "code",
   "execution_count": 24,
   "metadata": {},
   "outputs": [],
   "source": [
    "from collections import namedtuple"
   ]
  },
  {
   "cell_type": "code",
   "execution_count": 25,
   "metadata": {},
   "outputs": [],
   "source": [
    "# namedtuple(typename, field_names)"
   ]
  },
  {
   "cell_type": "code",
   "execution_count": 26,
   "metadata": {},
   "outputs": [
    {
     "name": "stdout",
     "output_type": "stream",
     "text": [
      "<class '__main__.biz_card'>\n",
      "biz_card(name='John', age=30, phone_num='010-1234-5678')\n",
      "<class '__main__.biz_card'>\n",
      "John\n",
      "30\n",
      "010-1234-5678\n"
     ]
    }
   ],
   "source": [
    "# 예시 1\n",
    "biz_card = namedtuple(\"biz_card\", \"name age phone_num\")\n",
    "print(biz_card)\n",
    "bcard_John = biz_card(\"John\", 30, \"010-1234-5678\")\n",
    "print(bcard_John)\n",
    "# 출력값 : \n",
    "# biz_card(name='John', age=30, phone_num='010-1234-5678')\n",
    "# 클래스이름 : biz_card가 된다.\n",
    "# 주로 변수명=클래스명 통일한다.\n",
    "# key, value 형식으로 묶인다.\n",
    "print(type(bcard_John))  # class\n",
    "print(bcard_John.name)\n",
    "print(bcard_John.age)\n",
    "print(bcard_John.phone_num)"
   ]
  },
  {
   "cell_type": "code",
   "execution_count": 27,
   "metadata": {},
   "outputs": [
    {
     "name": "stdout",
     "output_type": "stream",
     "text": [
      "John\n",
      "30\n",
      "010-1234-5678\n"
     ]
    }
   ],
   "source": [
    "print(bcard_John[0])\n",
    "print(bcard_John[1])\n",
    "print(bcard_John[2])"
   ]
  },
  {
   "cell_type": "code",
   "execution_count": 28,
   "metadata": {},
   "outputs": [
    {
     "name": "stdout",
     "output_type": "stream",
     "text": [
      "john\n",
      "30\n",
      "010-1234-5678\n"
     ]
    }
   ],
   "source": [
    "John_card = biz_card(\"john\", 30, \"010-1234-5678\")  # 위에서 biz_card라는 이름의 class를 만들었음.\n",
    "print(John_card.name)\n",
    "print(John_card.age)\n",
    "print(John_card.phone_num)"
   ]
  },
  {
   "cell_type": "code",
   "execution_count": 29,
   "metadata": {},
   "outputs": [
    {
     "name": "stdout",
     "output_type": "stream",
     "text": [
      "OrderedDict([('name', 'john'), ('age', 30), ('phone_num', '010-1234-5678')])\n",
      "<class 'collections.OrderedDict'>\n"
     ]
    }
   ],
   "source": [
    "print(John_card._asdict())\n",
    "print(type(John_card._asdict()))"
   ]
  },
  {
   "cell_type": "code",
   "execution_count": 30,
   "metadata": {},
   "outputs": [
    {
     "name": "stdout",
     "output_type": "stream",
     "text": [
      "biz_card(name='john', age=30, phone_num='010-1234-5678')\n",
      "OrderedDict([('name', 'john'), ('age', 30), ('phone_num', '010-1234-5678')])\n"
     ]
    }
   ],
   "source": [
    "John_info = {\"name\":\"john\", \"age\":30, \"phone_num\":\"010-1234-5678\"}\n",
    "John_card = biz_card(**John_info)  # 가변인자(variable parameter) 이용\n",
    "                                   # dict 전달\n",
    "print(John_card)\n",
    "print(John_card._asdict())"
   ]
  },
  {
   "cell_type": "code",
   "execution_count": 31,
   "metadata": {},
   "outputs": [
    {
     "name": "stdout",
     "output_type": "stream",
     "text": [
      "010-1234-5678\n"
     ]
    }
   ],
   "source": [
    "print(John_card.phone_num)"
   ]
  },
  {
   "cell_type": "code",
   "execution_count": 32,
   "metadata": {},
   "outputs": [
    {
     "name": "stdout",
     "output_type": "stream",
     "text": [
      "<class '__main__.Student'>\n",
      "<class 'type'>\n",
      "Student(first_name='John', last_name='Clarke', age=13)\n",
      "John\n",
      "Clarke\n",
      "13\n",
      "John\n",
      "Clarke\n",
      "13\n"
     ]
    }
   ],
   "source": [
    "# 예시 2\n",
    "Student = namedtuple(\"Student\", \"first_name, last_name, age\")\n",
    "print(Student)  # class\n",
    "print(type(Student))\n",
    "sdt1 = Student(\"John\", \"Clarke\", 13)\n",
    "print(sdt1)\n",
    "print(sdt1.first_name)  # Student에 정의된 필드이름으로 접근 가능\n",
    "print(sdt1.last_name)\n",
    "print(sdt1.age)  \n",
    "print(sdt1[0])  # index로 접근가능\n",
    "print(sdt1[1])\n",
    "print(sdt1[2])"
   ]
  },
  {
   "cell_type": "code",
   "execution_count": 33,
   "metadata": {},
   "outputs": [
    {
     "name": "stdout",
     "output_type": "stream",
     "text": [
      "Student(first_name='Sally', last_name='Joe', age=18)\n"
     ]
    }
   ],
   "source": [
    "# 이미 만들어진 namedtuple class를 이용해서\n",
    "# list로 namedtuple 만들기\n",
    "sdt2 = Student._make([\"Sally\", \"Joe\", 18])\n",
    "print(sdt2)"
   ]
  },
  {
   "cell_type": "code",
   "execution_count": 34,
   "metadata": {},
   "outputs": [
    {
     "name": "stdout",
     "output_type": "stream",
     "text": [
      "OrderedDict([('first_name', 'John'), ('last_name', 'Clarke'), ('age', 13)])\n",
      "<class 'collections.OrderedDict'>\n"
     ]
    }
   ],
   "source": [
    "# 기존 namedtuple instance -> 새로운 namedtuple instance 생성\n",
    "sdt3 = sdt1._asdict()\n",
    "print(sdt3)\n",
    "print(type(sdt3))"
   ]
  },
  {
   "cell_type": "code",
   "execution_count": 35,
   "metadata": {},
   "outputs": [
    {
     "name": "stdout",
     "output_type": "stream",
     "text": [
      "Student(first_name='John', last_name='Clarke', age=13)\n",
      "Student(first_name='John', last_name='Clarke', age=100)\n"
     ]
    }
   ],
   "source": [
    "sdt3 = sdt1._replace(age=100)\n",
    "print(sdt1)  # 원본 데이터 바뀌지 않음.\n",
    "print(sdt3)"
   ]
  }
 ],
 "metadata": {
  "kernelspec": {
   "display_name": "Python 3",
   "language": "python",
   "name": "python3"
  },
  "language_info": {
   "codemirror_mode": {
    "name": "ipython",
    "version": 3
   },
   "file_extension": ".py",
   "mimetype": "text/x-python",
   "name": "python",
   "nbconvert_exporter": "python",
   "pygments_lexer": "ipython3",
   "version": "3.7.9"
  }
 },
 "nbformat": 4,
 "nbformat_minor": 4
}
